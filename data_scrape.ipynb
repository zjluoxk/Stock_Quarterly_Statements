{
 "metadata": {
  "language_info": {
   "codemirror_mode": {
    "name": "ipython",
    "version": 3
   },
   "file_extension": ".py",
   "mimetype": "text/x-python",
   "name": "python",
   "nbconvert_exporter": "python",
   "pygments_lexer": "ipython3",
   "version": "3.7.10"
  },
  "orig_nbformat": 2,
  "kernelspec": {
   "name": "python3710jvsc74a57bd0a22f1d60704b83c3fdea6e4e45de31ab24fadd65048115d46af8f685dc07a745",
   "display_name": "Python 3.7.10 64-bit ('base': conda)"
  }
 },
 "nbformat": 4,
 "nbformat_minor": 2,
 "cells": [
  {
   "cell_type": "code",
   "execution_count": 1,
   "metadata": {},
   "outputs": [],
   "source": [
    "import edgar\n",
    "import urllib\n",
    "import os\n",
    "import pandas as pd\n",
    "import numpy as np\n",
    "import time\n",
    "import pickle\n",
    "import yfinance as yf\n",
    "import time\n",
    "import gc"
   ]
  },
  {
   "source": [
    "# Scraping EDGAR"
   ],
   "cell_type": "markdown",
   "metadata": {}
  },
  {
   "cell_type": "code",
   "execution_count": 3,
   "metadata": {},
   "outputs": [
    {
     "output_type": "execute_result",
     "data": {
      "text/plain": [
       "    Symbol             Security SEC filings             GICS Sector  \\\n",
       "0      MMM           3M Company     reports             Industrials   \n",
       "1      ABT  Abbott Laboratories     reports             Health Care   \n",
       "2     ABBV          AbbVie Inc.     reports             Health Care   \n",
       "3     ABMD              Abiomed     reports             Health Care   \n",
       "4      ACN            Accenture     reports  Information Technology   \n",
       "..     ...                  ...         ...                     ...   \n",
       "500    YUM      Yum! Brands Inc     reports  Consumer Discretionary   \n",
       "501   ZBRA   Zebra Technologies     reports  Information Technology   \n",
       "502    ZBH        Zimmer Biomet     reports             Health Care   \n",
       "503   ZION        Zions Bancorp     reports              Financials   \n",
       "504    ZTS               Zoetis     reports             Health Care   \n",
       "\n",
       "                      GICS Sub-Industry    Headquarters Location  \\\n",
       "0              Industrial Conglomerates      St. Paul, Minnesota   \n",
       "1                 Health Care Equipment  North Chicago, Illinois   \n",
       "2                       Pharmaceuticals  North Chicago, Illinois   \n",
       "3                 Health Care Equipment   Danvers, Massachusetts   \n",
       "4        IT Consulting & Other Services          Dublin, Ireland   \n",
       "..                                  ...                      ...   \n",
       "500                         Restaurants     Louisville, Kentucky   \n",
       "501  Electronic Equipment & Instruments   Lincolnshire, Illinois   \n",
       "502               Health Care Equipment          Warsaw, Indiana   \n",
       "503                      Regional Banks     Salt Lake City, Utah   \n",
       "504                     Pharmaceuticals   Parsippany, New Jersey   \n",
       "\n",
       "    Date first added      CIK      Founded  \n",
       "0         1976-08-09    66740         1902  \n",
       "1         1964-03-31     1800         1888  \n",
       "2         2012-12-31  1551152  2013 (1888)  \n",
       "3         2018-05-31   815094         1981  \n",
       "4         2011-07-06  1467373         1989  \n",
       "..               ...      ...          ...  \n",
       "500       1997-10-06  1041061         1997  \n",
       "501       2019-12-23   877212         1969  \n",
       "502       2001-08-07  1136869         1927  \n",
       "503       2001-06-22   109380         1873  \n",
       "504       2013-06-21  1555280         1952  \n",
       "\n",
       "[505 rows x 9 columns]"
      ],
      "text/html": "<div>\n<style scoped>\n    .dataframe tbody tr th:only-of-type {\n        vertical-align: middle;\n    }\n\n    .dataframe tbody tr th {\n        vertical-align: top;\n    }\n\n    .dataframe thead th {\n        text-align: right;\n    }\n</style>\n<table border=\"1\" class=\"dataframe\">\n  <thead>\n    <tr style=\"text-align: right;\">\n      <th></th>\n      <th>Symbol</th>\n      <th>Security</th>\n      <th>SEC filings</th>\n      <th>GICS Sector</th>\n      <th>GICS Sub-Industry</th>\n      <th>Headquarters Location</th>\n      <th>Date first added</th>\n      <th>CIK</th>\n      <th>Founded</th>\n    </tr>\n  </thead>\n  <tbody>\n    <tr>\n      <th>0</th>\n      <td>MMM</td>\n      <td>3M Company</td>\n      <td>reports</td>\n      <td>Industrials</td>\n      <td>Industrial Conglomerates</td>\n      <td>St. Paul, Minnesota</td>\n      <td>1976-08-09</td>\n      <td>66740</td>\n      <td>1902</td>\n    </tr>\n    <tr>\n      <th>1</th>\n      <td>ABT</td>\n      <td>Abbott Laboratories</td>\n      <td>reports</td>\n      <td>Health Care</td>\n      <td>Health Care Equipment</td>\n      <td>North Chicago, Illinois</td>\n      <td>1964-03-31</td>\n      <td>1800</td>\n      <td>1888</td>\n    </tr>\n    <tr>\n      <th>2</th>\n      <td>ABBV</td>\n      <td>AbbVie Inc.</td>\n      <td>reports</td>\n      <td>Health Care</td>\n      <td>Pharmaceuticals</td>\n      <td>North Chicago, Illinois</td>\n      <td>2012-12-31</td>\n      <td>1551152</td>\n      <td>2013 (1888)</td>\n    </tr>\n    <tr>\n      <th>3</th>\n      <td>ABMD</td>\n      <td>Abiomed</td>\n      <td>reports</td>\n      <td>Health Care</td>\n      <td>Health Care Equipment</td>\n      <td>Danvers, Massachusetts</td>\n      <td>2018-05-31</td>\n      <td>815094</td>\n      <td>1981</td>\n    </tr>\n    <tr>\n      <th>4</th>\n      <td>ACN</td>\n      <td>Accenture</td>\n      <td>reports</td>\n      <td>Information Technology</td>\n      <td>IT Consulting &amp; Other Services</td>\n      <td>Dublin, Ireland</td>\n      <td>2011-07-06</td>\n      <td>1467373</td>\n      <td>1989</td>\n    </tr>\n    <tr>\n      <th>...</th>\n      <td>...</td>\n      <td>...</td>\n      <td>...</td>\n      <td>...</td>\n      <td>...</td>\n      <td>...</td>\n      <td>...</td>\n      <td>...</td>\n      <td>...</td>\n    </tr>\n    <tr>\n      <th>500</th>\n      <td>YUM</td>\n      <td>Yum! Brands Inc</td>\n      <td>reports</td>\n      <td>Consumer Discretionary</td>\n      <td>Restaurants</td>\n      <td>Louisville, Kentucky</td>\n      <td>1997-10-06</td>\n      <td>1041061</td>\n      <td>1997</td>\n    </tr>\n    <tr>\n      <th>501</th>\n      <td>ZBRA</td>\n      <td>Zebra Technologies</td>\n      <td>reports</td>\n      <td>Information Technology</td>\n      <td>Electronic Equipment &amp; Instruments</td>\n      <td>Lincolnshire, Illinois</td>\n      <td>2019-12-23</td>\n      <td>877212</td>\n      <td>1969</td>\n    </tr>\n    <tr>\n      <th>502</th>\n      <td>ZBH</td>\n      <td>Zimmer Biomet</td>\n      <td>reports</td>\n      <td>Health Care</td>\n      <td>Health Care Equipment</td>\n      <td>Warsaw, Indiana</td>\n      <td>2001-08-07</td>\n      <td>1136869</td>\n      <td>1927</td>\n    </tr>\n    <tr>\n      <th>503</th>\n      <td>ZION</td>\n      <td>Zions Bancorp</td>\n      <td>reports</td>\n      <td>Financials</td>\n      <td>Regional Banks</td>\n      <td>Salt Lake City, Utah</td>\n      <td>2001-06-22</td>\n      <td>109380</td>\n      <td>1873</td>\n    </tr>\n    <tr>\n      <th>504</th>\n      <td>ZTS</td>\n      <td>Zoetis</td>\n      <td>reports</td>\n      <td>Health Care</td>\n      <td>Pharmaceuticals</td>\n      <td>Parsippany, New Jersey</td>\n      <td>2013-06-21</td>\n      <td>1555280</td>\n      <td>1952</td>\n    </tr>\n  </tbody>\n</table>\n<p>505 rows × 9 columns</p>\n</div>"
     },
     "metadata": {},
     "execution_count": 3
    }
   ],
   "source": [
    "# https://en.wikipedia.org/wiki/List_of_S%26P_500_companies\n",
    "df_sp500 = pd.read_csv(\"./SP500_Companies\",sep='\\t')\n",
    "# df_sp500.CIK = df_sp500.CIK.map(lambda item: str(item).zfill(10))\n",
    "df_sp500.CIK = df_sp500.CIK.map(lambda item: str(item))\n",
    "df_sp500"
   ]
  },
  {
   "cell_type": "code",
   "execution_count": 4,
   "metadata": {},
   "outputs": [],
   "source": [
    "# with open(f\"./cik-lookup-data.txt\") as f:\n",
    "#     with open(f\"./cik-lookup-data_lower.txt\",\"w\") as f2:\n",
    "#         for line in f:\n",
    "#             f2.write(line.lower())"
   ]
  },
  {
   "cell_type": "code",
   "execution_count": 5,
   "metadata": {
    "tags": []
   },
   "outputs": [],
   "source": [
    "# cik2company = {}\n",
    "# with open(f\"./cik-lookup-data_lower.txt\") as f:\n",
    "#     i = 0\n",
    "#     for line in f:\n",
    "#         items = line.split(\":\")\n",
    "#         try:\n",
    "#             cik2company[items[1]]\n",
    "#         except:\n",
    "#             cik2company[items[1]] = items[0]\n",
    "            # print([items[1],items[0]])\n",
    "            # i += 1\n",
    "            # if i == 100:\n",
    "            #     break"
   ]
  },
  {
   "cell_type": "code",
   "execution_count": 6,
   "metadata": {},
   "outputs": [],
   "source": [
    "SP500_Symbols = df_sp500.Symbol.to_list()\n",
    "SP500_CIK = df_sp500.CIK.to_list()\n",
    "SP500_Companies = df_sp500.Security.to_list()"
   ]
  },
  {
   "cell_type": "code",
   "execution_count": 7,
   "metadata": {},
   "outputs": [],
   "source": [
    "symbol2company = dict(zip(SP500_Symbols,SP500_CIK))"
   ]
  },
  {
   "cell_type": "code",
   "execution_count": 8,
   "metadata": {},
   "outputs": [
    {
     "output_type": "execute_result",
     "data": {
      "text/plain": [
       "505"
      ]
     },
     "metadata": {},
     "execution_count": 8
    }
   ],
   "source": [
    "len(symbol2company)"
   ]
  },
  {
   "cell_type": "code",
   "execution_count": 9,
   "metadata": {},
   "outputs": [],
   "source": [
    "# for symbol in SP500_Symbols:\n",
    "#     try:\n",
    "#         os.mkdir(f\"./data/{symbol}\")\n",
    "#     except:\n",
    "#         pass"
   ]
  },
  {
   "cell_type": "code",
   "execution_count": 10,
   "metadata": {},
   "outputs": [],
   "source": [
    "# https://github.com/edgarminers/python-edgar\n",
    "# os.mkdir(\"./data/_index\")\n",
    "# edgar.download_index(f'./data/_index', 2010,skip_all_present_except_last=False)"
   ]
  },
  {
   "cell_type": "code",
   "execution_count": 11,
   "metadata": {},
   "outputs": [],
   "source": [
    "years = np.arange(2010,2020+1,1)\n",
    "quarters = np.arange(1,4+1,1)"
   ]
  },
  {
   "cell_type": "code",
   "execution_count": 11,
   "metadata": {},
   "outputs": [],
   "source": [
    "# os.mkdir(\"./data/_index_lowercase\")\n",
    "# for file in os.listdir(\"./data/_index\"):\n",
    "#     with open(f\"./data/_index/{file}\") as f:\n",
    "#         with open(f\"./data/_index_lowercase/{file}\",\"w\") as f2:\n",
    "#             for line in f:\n",
    "#                 f2.write(line.lower())"
   ]
  },
  {
   "cell_type": "code",
   "execution_count": 120,
   "metadata": {
    "tags": []
   },
   "outputs": [
    {
     "output_type": "stream",
     "name": "stdout",
     "text": [
      "7739\n"
     ]
    }
   ],
   "source": [
    "to_do_list = []\n",
    "selectedreport = '10-Q'\n",
    "for selectedsymbol in SP500_Symbols:\n",
    "    selectedcompany = symbol2company[selectedsymbol]\n",
    "    for year in years:\n",
    "        for quarter in quarters:\n",
    "            if not os.path.isfile(f'./data/{selectedsymbol}/{selectedsymbol}_{year}_{quarter}-{selectedreport}.htm'):\n",
    "                to_do_list.append([selectedsymbol,selectedcompany,selectedreport,year,quarter])\n",
    "\n",
    "print(len(to_do_list))\n",
    "# print(to_do_list)"
   ]
  },
  {
   "cell_type": "code",
   "execution_count": 45,
   "metadata": {},
   "outputs": [
    {
     "output_type": "execute_result",
     "data": {
      "text/plain": [
       "['MMM', '66740', '10-Q', 2010, 1]"
      ]
     },
     "metadata": {},
     "execution_count": 45
    }
   ],
   "source": [
    "to_do_list[0]"
   ]
  },
  {
   "cell_type": "code",
   "execution_count": 46,
   "metadata": {},
   "outputs": [
    {
     "output_type": "stream",
     "name": "stdout",
     "text": [
      "8675\nZTS\n1555280\n10-Q\n2020\n1\nWall time: 3.17 ms\n"
     ]
    }
   ],
   "source": [
    "%%time\n",
    "counter = 0\n",
    "for to_do in to_do_list:\n",
    "    selectedsymbol = to_do[0]\n",
    "    selectedcompany = to_do[1]\n",
    "    selectedreport = to_do[2]\n",
    "    year = to_do[3]\n",
    "    quarter = to_do[4]\n",
    "    counter+=1\n",
    "print(counter)\n",
    "print(selectedsymbol)\n",
    "print(selectedcompany)\n",
    "print(selectedreport)\n",
    "print(year)\n",
    "print(quarter)\n",
    "    "
   ]
  },
  {
   "cell_type": "code",
   "execution_count": 18,
   "metadata": {},
   "outputs": [
    {
     "output_type": "execute_result",
     "data": {
      "text/plain": [
       "'ZTS'"
      ]
     },
     "metadata": {},
     "execution_count": 18
    }
   ],
   "source": [
    "selectedsymbol"
   ]
  },
  {
   "cell_type": "code",
   "execution_count": 19,
   "metadata": {},
   "outputs": [
    {
     "output_type": "stream",
     "name": "stdout",
     "text": [
      "Wall time: 21.5 s\n"
     ]
    }
   ],
   "source": [
    "# %%time\n",
    "# csvs = {}\n",
    "# for year in years:\n",
    "#     for quarter in quarters:\n",
    "#         csv = pd.read_csv(f'./data/_index_lowercase/{year}-QTR{quarter}.tsv', sep='\\t',  lineterminator='\\n', names=None) \n",
    "#         csvs[(year,quarter)] = csv\n",
    "# pickle.dump(csvs,open('csvs','wb'))"
   ]
  },
  {
   "cell_type": "code",
   "execution_count": 33,
   "metadata": {},
   "outputs": [
    {
     "output_type": "stream",
     "name": "stdout",
     "text": [
      "Wall time: 4.22 s\n"
     ]
    }
   ],
   "source": [
    "%%time\n",
    "csvs = pickle.load(open('csvs','rb'))"
   ]
  },
  {
   "cell_type": "code",
   "execution_count": 34,
   "metadata": {},
   "outputs": [
    {
     "output_type": "execute_result",
     "data": {
      "text/plain": [
       "44"
      ]
     },
     "metadata": {},
     "execution_count": 34
    }
   ],
   "source": [
    "len(csvs)"
   ]
  },
  {
   "cell_type": "code",
   "execution_count": 35,
   "metadata": {},
   "outputs": [
    {
     "output_type": "stream",
     "name": "stdout",
     "text": [
      "[2010 2011 2012 2013 2014 2015 2016 2017 2018 2019 2020]\n[1 2 3 4]\n"
     ]
    }
   ],
   "source": [
    "print(years)\n",
    "print(quarters)"
   ]
  },
  {
   "cell_type": "code",
   "execution_count": 37,
   "metadata": {},
   "outputs": [
    {
     "output_type": "execute_result",
     "data": {
      "text/plain": [
       "10953"
      ]
     },
     "metadata": {},
     "execution_count": 37
    }
   ],
   "source": [
    "len(to_do_list)"
   ]
  },
  {
   "cell_type": "code",
   "execution_count": 43,
   "metadata": {
    "tags": [
     "outputPrepend"
    ]
   },
   "outputs": [
    {
     "output_type": "stream",
     "name": "stdout",
     "text": [
      "data/100517/0001193125-16-651221-index.html']\n",
      "['UAL', '100517', '10-Q', 2019, 2, 'https://www.sec.gov/Archives/edgar/data/100517/000010051719000014/ual_03311910q.htm']\n",
      "['UAL', '100517', '10-Q', 2020, 2, 'https://www.sec.gov/Archives/edgar/data/100517/000010051720000037/ual10q03312020.htm']\n",
      "['UPS', '1090727', '10-Q', 2010, 2, 'https://www.sec.gov/Archives/edgar/data/1090727/0001193125-10-112914-index.html']\n",
      "['UPS', '1090727', '10-Q', 2012, 3, 'https://www.sec.gov/Archives/edgar/data/1090727/0001090727-12-000015-index.html']\n",
      "['UPS', '1090727', '10-Q', 2015, 3, 'https://www.sec.gov/Archives/edgar/data/1090727/0001090727-15-000035-index.html']\n",
      "['UPS', '1090727', '10-Q', 2018, 3, 'https://www.sec.gov/Archives/edgar/data/1090727/0001090727-18-000032-index.html']\n",
      "['URI', '1067701', '10-Q', 2010, 3, 'https://www.sec.gov/Archives/edgar/data/1067701/0001193125-10-161856-index.html']\n",
      "['URI', '1067701', '10-Q', 2012, 3, 'https://www.sec.gov/Archives/edgar/data/1067701/0001067701-12-000017-index.html']\n",
      "['URI', '1067701', '10-Q', 2020, 3, 'https://www.sec.gov/Archives/edgar/data/1067701/000106770120000034/uri-20200630.htm']\n",
      "['URI', '1067701', '10-Q', 2020, 4, 'https://www.sec.gov/Archives/edgar/data/1067701/000106770120000046/uri-20200930.htm']\n",
      "['UHS', '352915', '10-Q', 2016, 3, 'https://www.sec.gov/Archives/edgar/data/352915/0001564590-16-022902-index.html']\n",
      "['UHS', '352915', '10-Q', 2016, 4, 'https://www.sec.gov/Archives/edgar/data/352915/0001564590-16-028360-index.html']\n",
      "['UHS', '352915', '10-Q', 2017, 2, 'https://www.sec.gov/Archives/edgar/data/352915/0001564590-17-009398-index.html']\n",
      "['UNM', '5513', '10-Q', 2012, 2, 'https://www.sec.gov/Archives/edgar/data/5513/0000005513-12-000014-index.html']\n",
      "['VLO', '1035002', '10-Q', 2011, 4, 'https://www.sec.gov/Archives/edgar/data/1035002/0001035002-11-000064-index.html']\n",
      "['VLO', '1035002', '10-Q', 2013, 2, 'https://www.sec.gov/Archives/edgar/data/1035002/0001035002-13-000037-index.html']\n",
      "['VLO', '1035002', '10-Q', 2013, 3, 'https://www.sec.gov/Archives/edgar/data/1035002/000103500213000060/vloform10-qx6302013.htm']\n",
      "['VTR', '740260', '10-Q', 2019, 4, 'https://www.sec.gov/Archives/edgar/data/740260/000074026019000168/vtr9302019doc.htm']\n",
      "['VTR', '740260', '10-Q', 2020, 2, 'https://www.sec.gov/Archives/edgar/data/740260/0000740260-20-000092-index.html']\n",
      "['VRSN', '1014473', '10-Q', 2010, 2, 'https://www.sec.gov/Archives/edgar/data/1014473/0001193125-10-096731-index.html']\n",
      "['VRSN', '1014473', '10-Q', 2012, 2, 'https://www.sec.gov/Archives/edgar/data/1014473/0001014473-12-000003-index.html']\n",
      "['VZ', '732712', '10-Q', 2013, 2, 'https://www.sec.gov/Archives/edgar/data/732712/000119312513172825/d501429d10q.htm']\n",
      "['VFC', '103379', '10-Q', 2011, 4, 'https://www.sec.gov/Archives/edgar/data/103379/000119312511306951/d233462d10q.htm']\n",
      "['VFC', '103379', '10-Q', 2012, 2, 'https://www.sec.gov/Archives/edgar/data/103379/000119312512222345/d319972d10q.htm']\n",
      "['VFC', '103379', '10-Q', 2014, 4, 'https://www.sec.gov/Archives/edgar/data/103379/0001193125-14-396147-index.html']\n",
      "['VFC', '103379', '10-Q', 2015, 2, 'https://www.sec.gov/Archives/edgar/data/103379/000119312515183697/d896391d10q.htm']\n",
      "['VFC', '103379', '10-Q', 2016, 3, 'https://www.sec.gov/Archives/edgar/data/103379/000119312516673515/d215759d10q.htm']\n",
      "['VFC', '103379', '10-Q', 2017, 2, 'https://www.sec.gov/Archives/edgar/data/103379/0001628280-17-005333-index.html']\n",
      "['VFC', '103379', '10-Q', 2018, 2, 'https://www.sec.gov/Archives/edgar/data/103379/000010337918000006/vfctransitionq201810-qt.htm']\n",
      "['VFC', '103379', '10-Q', 2019, 1, 'https://www.sec.gov/Archives/edgar/data/103379/0000103379-19-000003-index.html']\n",
      "['VFC', '103379', '10-Q', 2019, 4, 'https://www.sec.gov/Archives/edgar/data/103379/000010337919000014/vfcq2202010-q.htm']\n",
      "['VFC', '103379', '10-Q', 2020, 3, 'https://www.sec.gov/Archives/edgar/data/103379/000010337920000013/vfc-20200627.htm']\n",
      "['VFC', '103379', '10-Q', 2020, 4, 'https://www.sec.gov/Archives/edgar/data/103379/000010337920000018/vfc-20200926.htm']\n",
      "['VIAC', '813828', '10-Q', 2010, 4, 'https://www.sec.gov/Archives/edgar/data/813828/000104746910009233/a2200743z10-q.htm']\n",
      "['VIAC', '813828', '10-Q', 2011, 3, 'https://www.sec.gov/Archives/edgar/data/813828/0001047469-11-006845-index.html']\n",
      "['VIAC', '813828', '10-Q', 2011, 4, 'https://www.sec.gov/Archives/edgar/data/813828/000104746911008999/a2206043z10-q.htm']\n",
      "['VIAC', '813828', '10-Q', 2012, 2, 'https://www.sec.gov/Archives/edgar/data/813828/0001047469-12-005106-index.html']\n",
      "['VIAC', '813828', '10-Q', 2012, 3, 'https://www.sec.gov/Archives/edgar/data/813828/0001047469-12-007699-index.html']\n",
      "['VIAC', '813828', '10-Q', 2012, 4, 'https://www.sec.gov/Archives/edgar/data/813828/0001047469-12-010188-index.html']\n",
      "['VIAC', '813828', '10-Q', 2013, 2, 'https://www.sec.gov/Archives/edgar/data/813828/0001047469-13-005254-index.html']\n",
      "['VIAC', '813828', '10-Q', 2013, 4, 'https://www.sec.gov/Archives/edgar/data/813828/0001047469-13-010325-index.html']\n",
      "['VIAC', '813828', '10-Q', 2014, 2, 'https://www.sec.gov/Archives/edgar/data/813828/0001047469-14-004748-index.html']\n",
      "['VIAC', '813828', '10-Q', 2014, 3, 'https://www.sec.gov/Archives/edgar/data/813828/000104746914006759/a2221046z10-q.htm']\n",
      "['VIAC', '813828', '10-Q', 2014, 4, 'https://www.sec.gov/Archives/edgar/data/813828/0000813828-14-000018-index.html']\n",
      "['VIAC', '813828', '10-Q', 2015, 4, 'https://www.sec.gov/Archives/edgar/data/813828/0000813828-15-000053-index.html']\n",
      "['VIAC', '813828', '10-Q', 2016, 4, 'https://www.sec.gov/Archives/edgar/data/813828/000081382816000106/cbs_10q-093016.htm']\n",
      "['VIAC', '813828', '10-Q', 2018, 3, 'https://www.sec.gov/Archives/edgar/data/813828/0000813828-18-000036-index.html']\n",
      "['VIAC', '813828', '10-Q', 2018, 4, 'https://www.sec.gov/Archives/edgar/data/813828/0000813828-18-000044-index.html']\n",
      "['VIAC', '813828', '10-Q', 2019, 2, 'https://www.sec.gov/Archives/edgar/data/813828/000081382819000014/cbs10q-033119.htm']\n",
      "['VIAC', '813828', '10-Q', 2019, 3, 'https://www.sec.gov/Archives/edgar/data/813828/000081382819000025/cbs10q-063019.htm']\n",
      "['VTRS', '1792044', '10-Q', 2020, 4, 'https://www.sec.gov/Archives/edgar/data/1792044/0001193125-20-290294-index.html']\n",
      "['V', '1403161', '10-Q', 2010, 3, 'https://www.sec.gov/Archives/edgar/data/1403161/000119312510172477/d10q.htm']\n",
      "['V', '1403161', '10-Q', 2011, 2, 'https://www.sec.gov/Archives/edgar/data/1403161/0001193125-11-128562-index.html']\n",
      "['V', '1403161', '10-Q', 2012, 2, 'https://www.sec.gov/Archives/edgar/data/1403161/0001384108-12-000004-index.html']\n",
      "['V', '1403161', '10-Q', 2012, 3, 'https://www.sec.gov/Archives/edgar/data/1403161/0001384108-12-000008-index.html']\n",
      "['VNO', '899689', '10-Q', 2010, 2, 'https://www.sec.gov/Archives/edgar/data/899689/0000899689-10-000020-index.html']\n",
      "['VNO', '899689', '10-Q', 2010, 3, 'https://www.sec.gov/Archives/edgar/data/899689/0000899689-10-000032-index.html']\n",
      "['VNO', '899689', '10-Q', 2010, 4, 'https://www.sec.gov/Archives/edgar/data/899689/0000899689-10-000045-index.html']\n",
      "['VNO', '899689', '10-Q', 2011, 2, 'https://www.sec.gov/Archives/edgar/data/899689/0000899689-11-000016-index.html']\n",
      "['VNO', '899689', '10-Q', 2011, 3, 'https://www.sec.gov/Archives/edgar/data/899689/0000899689-11-000030-index.html']\n",
      "['VNO', '899689', '10-Q', 2012, 2, 'https://www.sec.gov/Archives/edgar/data/899689/0000899689-12-000013-index.html']\n",
      "['VNO', '899689', '10-Q', 2012, 3, 'https://www.sec.gov/Archives/edgar/data/899689/0001040765-12-000020-index.html']\n",
      "['VMC', '1396009', '10-Q', 2020, 4, 'https://www.sec.gov/Archives/edgar/data/1396009/000139600920000053/vmc-20200930x10q.htm']\n",
      "['WRB', '11544', '10-Q', 2010, 2, 'https://www.sec.gov/Archives/edgar/data/11544/000095012310046102/y84408e10vq.htm']\n",
      "['WRB', '11544', '10-Q', 2010, 3, 'https://www.sec.gov/Archives/edgar/data/11544/0000950123-10-073981-index.html']\n",
      "['WRB', '11544', '10-Q', 2010, 4, 'https://www.sec.gov/Archives/edgar/data/11544/0000950123-10-102184-index.html']\n",
      "['WRB', '11544', '10-Q', 2011, 2, 'https://www.sec.gov/Archives/edgar/data/11544/000095012311046282/y90829e10vq.htm']\n",
      "['WRB', '11544', '10-Q', 2011, 3, 'https://www.sec.gov/Archives/edgar/data/11544/0001193125-11-211637-index.html']\n",
      "['WRB', '11544', '10-Q', 2012, 2, 'https://www.sec.gov/Archives/edgar/data/11544/0000011544-12-000031-index.html']\n",
      "['WRB', '11544', '10-Q', 2012, 4, 'https://www.sec.gov/Archives/edgar/data/11544/0000011544-12-000092-index.html']\n",
      "['WRB', '11544', '10-Q', 2013, 2, 'https://www.sec.gov/Archives/edgar/data/11544/000001154413000036/wrb331201310q.htm']\n",
      "['WRB', '11544', '10-Q', 2014, 4, 'https://www.sec.gov/Archives/edgar/data/11544/000001154414000066/wrb930201410q.htm']\n",
      "['WRB', '11544', '10-Q', 2015, 2, 'https://www.sec.gov/Archives/edgar/data/11544/0000011544-15-000032-index.html']\n",
      "['WRB', '11544', '10-Q', 2016, 2, 'https://www.sec.gov/Archives/edgar/data/11544/000001154416000095/wrb331201610q.htm']\n",
      "['WRB', '11544', '10-Q', 2016, 3, 'https://www.sec.gov/Archives/edgar/data/11544/000001154416000130/wrb630201610q.htm']\n",
      "['WRB', '11544', '10-Q', 2018, 2, 'https://www.sec.gov/Archives/edgar/data/11544/0000011544-18-000022-index.html']\n",
      "['WRB', '11544', '10-Q', 2019, 2, 'https://www.sec.gov/Archives/edgar/data/11544/000001154419000034/wrb331201910q.htm']\n",
      "['WRB', '11544', '10-Q', 2019, 3, 'https://www.sec.gov/Archives/edgar/data/11544/0000011544-19-000086-index.html']\n",
      "['WRB', '11544', '10-Q', 2019, 4, 'https://www.sec.gov/Archives/edgar/data/11544/0000011544-19-000117-index.html']\n",
      "['WRB', '11544', '10-Q', 2020, 3, 'https://www.sec.gov/Archives/edgar/data/11544/000001154420000087/wrb-20200630.htm']\n",
      "['WAB', '943452', '10-Q', 2019, 2, 'https://www.sec.gov/Archives/edgar/data/943452/0001628280-19-006382-index.html']\n",
      "['WMT', '104169', '10-Q', 2010, 4, 'https://www.sec.gov/Archives/edgar/data/104169/0001193125-10-274171-index.html']\n",
      "['WMT', '104169', '10-Q', 2011, 2, 'https://www.sec.gov/Archives/edgar/data/104169/0001193125-11-158587-index.html']\n",
      "['WMT', '104169', '10-Q', 2012, 3, 'https://www.sec.gov/Archives/edgar/data/104169/0000104169-12-000014-index.html']\n",
      "['WMT', '104169', '10-Q', 2012, 4, 'https://www.sec.gov/Archives/edgar/data/104169/0000104169-12-000018-index.html']\n",
      "['WMT', '104169', '10-Q', 2013, 4, 'https://www.sec.gov/Archives/edgar/data/104169/0000104169-13-000039-index.html']\n",
      "['WMT', '104169', '10-Q', 2014, 4, 'https://www.sec.gov/Archives/edgar/data/104169/000010416914000080/wmt10311410-q.htm']\n",
      "['WMT', '104169', '10-Q', 2015, 2, 'https://www.sec.gov/Archives/edgar/data/104169/0000104169-15-000022-index.html']\n",
      "['WMT', '104169', '10-Q', 2015, 3, 'https://www.sec.gov/Archives/edgar/data/104169/0000104169-15-000039-index.html']\n",
      "['WMT', '104169', '10-Q', 2016, 4, 'https://www.sec.gov/Archives/edgar/data/104169/0000104169-16-000140-index.html']\n",
      "['WMT', '104169', '10-Q', 2017, 3, 'https://www.sec.gov/Archives/edgar/data/104169/000010416917000057/wmtform10-qx7312017.htm']\n",
      "['WM', '823768', '10-Q', 2010, 2, 'https://www.sec.gov/Archives/edgar/data/823768/000095012310040250/h70200e10vq.htm']\n",
      "['WAT', '1000697', '10-Q', 2011, 4, 'https://www.sec.gov/Archives/edgar/data/1000697/000095012311095221/b87819e10vq.htm']\n",
      "['WAT', '1000697', '10-Q', 2012, 2, 'https://www.sec.gov/Archives/edgar/data/1000697/0001193125-12-210192-index.html']\n",
      "['WAT', '1000697', '10-Q', 2013, 3, 'https://www.sec.gov/Archives/edgar/data/1000697/0001193125-13-314925-index.html']\n",
      "['WAT', '1000697', '10-Q', 2014, 2, 'https://www.sec.gov/Archives/edgar/data/1000697/000119312514178559/d720408d10q.htm']\n",
      "['WAT', '1000697', '10-Q', 2015, 3, 'https://www.sec.gov/Archives/edgar/data/1000697/0001193125-15-282127-index.html']\n",
      "['WAT', '1000697', '10-Q', 2016, 4, 'https://www.sec.gov/Archives/edgar/data/1000697/0001193125-16-761414-index.html']\n",
      "['WAT', '1000697', '10-Q', 2018, 3, 'https://www.sec.gov/Archives/edgar/data/1000697/0001193125-18-237475-index.html']\n",
      "['WAT', '1000697', '10-Q', 2019, 2, 'https://www.sec.gov/Archives/edgar/data/1000697/0001193125-19-137001-index.html']\n",
      "['WAT', '1000697', '10-Q', 2019, 3, 'https://www.sec.gov/Archives/edgar/data/1000697/0001193125-19-208128-index.html']\n",
      "['WAT', '1000697', '10-Q', 2019, 4, 'https://www.sec.gov/Archives/edgar/data/1000697/0001193125-19-278910-index.html']\n",
      "['WAT', '1000697', '10-Q', 2020, 3, 'https://www.sec.gov/Archives/edgar/data/1000697/000119312520202145/d944177d10q.htm']\n",
      "['WEC', '783325', '10-Q', 2010, 2, 'https://www.sec.gov/Archives/edgar/data/783325/000010781510000062/wec10q033110.htm']\n",
      "['WEC', '783325', '10-Q', 2010, 3, 'https://www.sec.gov/Archives/edgar/data/783325/0000107815-10-000077-index.html']\n",
      "['WEC', '783325', '10-Q', 2010, 4, 'https://www.sec.gov/Archives/edgar/data/783325/0000107815-10-000098-index.html']\n",
      "['WEC', '783325', '10-Q', 2011, 4, 'https://www.sec.gov/Archives/edgar/data/783325/0000107815-11-000107-index.html']\n",
      "['WEC', '783325', '10-Q', 2012, 4, 'https://www.sec.gov/Archives/edgar/data/783325/0000107815-12-000132-index.html']\n",
      "['WEC', '783325', '10-Q', 2013, 4, 'https://www.sec.gov/Archives/edgar/data/783325/0000107815-13-000133-index.html']\n",
      "['WEC', '783325', '10-Q', 2014, 3, 'https://www.sec.gov/Archives/edgar/data/783325/0000107815-14-000080-index.html']\n",
      "['WEC', '783325', '10-Q', 2014, 4, 'https://www.sec.gov/Archives/edgar/data/783325/0000107815-14-000103-index.html']\n",
      "['WEC', '783325', '10-Q', 2015, 2, 'https://www.sec.gov/Archives/edgar/data/783325/000010781515000058/wec0331201510q.htm']\n",
      "['WFC', '72971', '10-Q', 2012, 2, 'https://www.sec.gov/Archives/edgar/data/72971/0001193125-12-216744-index.html']\n",
      "['WELL', '766704', '10-Q', 2010, 2, 'https://www.sec.gov/Archives/edgar/data/766704/0000950123-10-047238-index.html']\n",
      "['WELL', '766704', '10-Q', 2010, 3, 'https://www.sec.gov/Archives/edgar/data/766704/000095012310074122/l40352e10vq.htm']\n",
      "['WELL', '766704', '10-Q', 2011, 2, 'https://www.sec.gov/Archives/edgar/data/766704/000095012311048445/l42312e10vq.htm']\n",
      "['WELL', '766704', '10-Q', 2020, 3, 'https://www.sec.gov/Archives/edgar/data/766704/000076670420000050/well-20200630.htm']\n",
      "['WST', '105770', '10-Q', 2010, 2, 'https://www.sec.gov/Archives/edgar/data/105770/0000105770-10-000019-index.html']\n",
      "['WST', '105770', '10-Q', 2010, 3, 'https://www.sec.gov/Archives/edgar/data/105770/0000105770-10-000032-index.html']\n",
      "['WST', '105770', '10-Q', 2011, 4, 'https://www.sec.gov/Archives/edgar/data/105770/0000105770-11-000059-index.html']\n",
      "['WST', '105770', '10-Q', 2012, 2, 'https://www.sec.gov/Archives/edgar/data/105770/0000105770-12-000027-index.html']\n",
      "['WY', '106535', '10-Q', 2011, 3, 'https://www.sec.gov/Archives/edgar/data/106535/0000106535-11-000016-index.html']\n",
      "['WY', '106535', '10-Q', 2014, 4, 'https://www.sec.gov/Archives/edgar/data/106535/0000106535-14-000061-index.html']\n",
      "['WHR', '106640', '10-Q', 2011, 3, 'https://www.sec.gov/Archives/edgar/data/106640/0001445305-11-002080-index.html']\n",
      "['WLTW', '1140536', '10-Q', 2010, 4, 'https://www.sec.gov/Archives/edgar/data/1140536/0000950123-10-101712-index.html']\n",
      "['WLTW', '1140536', '10-Q', 2011, 3, 'https://www.sec.gov/Archives/edgar/data/1140536/000095012311078739/u11448e10vqza.htm']\n",
      "['WLTW', '1140536', '10-Q', 2012, 2, 'https://www.sec.gov/Archives/edgar/data/1140536/0001193125-12-224769-index.html']\n",
      "['WLTW', '1140536', '10-Q', 2012, 4, 'https://www.sec.gov/Archives/edgar/data/1140536/0001193125-12-456928-index.html']\n",
      "['WLTW', '1140536', '10-Q', 2014, 4, 'https://www.sec.gov/Archives/edgar/data/1140536/0001140536-14-000016-index.html']\n",
      "['WLTW', '1140536', '10-Q', 2015, 3, 'https://www.sec.gov/Archives/edgar/data/1140536/0001140536-15-000015-index.html']\n",
      "['WLTW', '1140536', '10-Q', 2015, 4, 'https://www.sec.gov/Archives/edgar/data/1140536/0001140536-15-000028-index.html']\n",
      "['WLTW', '1140536', '10-Q', 2020, 4, 'https://www.sec.gov/Archives/edgar/data/1140536/0001564590-20-048782-index.html']\n",
      "['XEL', '72903', '10-Q', 2017, 4, 'https://www.sec.gov/Archives/edgar/data/72903/0000072903-17-000064-index.html']\n",
      "['XLNX', '743988', '10-Q', 2010, 1, 'https://www.sec.gov/Archives/edgar/data/743988/0001206774-10-000261-index.html']\n",
      "['XLNX', '743988', '10-Q', 2011, 3, 'https://www.sec.gov/Archives/edgar/data/743988/0001193125-11-216385-index.html']\n",
      "['XLNX', '743988', '10-Q', 2012, 3, 'https://www.sec.gov/Archives/edgar/data/743988/0001445305-12-002460-index.html']\n",
      "['YUM', '1041061', '10-Q', 2010, 2, 'https://www.sec.gov/Archives/edgar/data/1041061/0001041061-10-000023-index.html']\n",
      "['YUM', '1041061', '10-Q', 2011, 3, 'https://www.sec.gov/Archives/edgar/data/1041061/0001041061-11-000040-index.html']\n",
      "['YUM', '1041061', '10-Q', 2011, 4, 'https://www.sec.gov/Archives/edgar/data/1041061/0001041061-11-000052-index.html']\n",
      "['YUM', '1041061', '10-Q', 2013, 2, 'https://www.sec.gov/Archives/edgar/data/1041061/0001041061-13-000020-index.html']\n",
      "['YUM', '1041061', '10-Q', 2013, 3, 'https://www.sec.gov/Archives/edgar/data/1041061/000104106113000035/yum-6152013x10q.htm']\n",
      "['YUM', '1041061', '10-Q', 2013, 4, 'https://www.sec.gov/Archives/edgar/data/1041061/0001041061-13-000044-index.html']\n",
      "['YUM', '1041061', '10-Q', 2014, 2, 'https://www.sec.gov/Archives/edgar/data/1041061/000104106114000014/yum-3222014x10q.htm']\n",
      "['YUM', '1041061', '10-Q', 2014, 3, 'https://www.sec.gov/Archives/edgar/data/1041061/0001041061-14-000023-index.html']\n",
      "['YUM', '1041061', '10-Q', 2014, 4, 'https://www.sec.gov/Archives/edgar/data/1041061/0001041061-14-000031-index.html']\n",
      "['YUM', '1041061', '10-Q', 2015, 2, 'https://www.sec.gov/Archives/edgar/data/1041061/000104106115000015/yum-3212015x10q.htm']\n",
      "['YUM', '1041061', '10-Q', 2016, 3, 'https://www.sec.gov/Archives/edgar/data/1041061/000104106116000084/yum-6112016x10q.htm']\n",
      "['YUM', '1041061', '10-Q', 2017, 2, 'https://www.sec.gov/Archives/edgar/data/1041061/0001041061-17-000038-index.html']\n",
      "['YUM', '1041061', '10-Q', 2017, 4, 'https://www.sec.gov/Archives/edgar/data/1041061/000104106117000065/yum-9302017x10q.htm']\n",
      "['YUM', '1041061', '10-Q', 2018, 2, 'https://www.sec.gov/Archives/edgar/data/1041061/000104106118000026/yum-3312018x10q.htm']\n",
      "['YUM', '1041061', '10-Q', 2018, 3, 'https://www.sec.gov/Archives/edgar/data/1041061/0001041061-18-000040-index.html']\n",
      "['YUM', '1041061', '10-Q', 2019, 2, 'https://www.sec.gov/Archives/edgar/data/1041061/0001041061-19-000018-index.html']\n",
      "['YUM', '1041061', '10-Q', 2019, 4, 'https://www.sec.gov/Archives/edgar/data/1041061/0001041061-19-000048-index.html']\n",
      "['YUM', '1041061', '10-Q', 2020, 2, 'https://www.sec.gov/Archives/edgar/data/1041061/000104106120000034/yum-3312020x10q.htm']\n",
      "['YUM', '1041061', '10-Q', 2020, 3, 'https://www.sec.gov/Archives/edgar/data/1041061/000104106120000053/yum-6302020x10q.htm']\n",
      "['ZBRA', '877212', '10-Q', 2016, 2, 'https://www.sec.gov/Archives/edgar/data/877212/0000877212-16-000012-index.html']\n",
      "['ZBH', '1136869', '10-Q', 2010, 4, 'https://www.sec.gov/Archives/edgar/data/1136869/000095012310100041/c60101e10vq.htm']\n",
      "['ZBH', '1136869', '10-Q', 2011, 2, 'https://www.sec.gov/Archives/edgar/data/1136869/0000950123-11-044906-index.html']\n",
      "['ZBH', '1136869', '10-Q', 2011, 4, 'https://www.sec.gov/Archives/edgar/data/1136869/0001193125-11-292603-index.html']\n",
      "['ZBH', '1136869', '10-Q', 2012, 3, 'https://www.sec.gov/Archives/edgar/data/1136869/0001193125-12-339583-index.html']\n",
      "['ZBH', '1136869', '10-Q', 2012, 4, 'https://www.sec.gov/Archives/edgar/data/1136869/0001193125-12-454834-index.html']\n",
      "['ZBH', '1136869', '10-Q', 2013, 2, 'https://www.sec.gov/Archives/edgar/data/1136869/0001193125-13-207263-index.html']\n",
      "['ZBH', '1136869', '10-Q', 2013, 3, 'https://www.sec.gov/Archives/edgar/data/1136869/000119312513323827/d560322d10q.htm']\n",
      "['ZBH', '1136869', '10-Q', 2013, 4, 'https://www.sec.gov/Archives/edgar/data/1136869/0001193125-13-437324-index.html']\n",
      "['ZBH', '1136869', '10-Q', 2015, 2, 'https://www.sec.gov/Archives/edgar/data/1136869/000119312515177116/d905008d10q.htm']\n",
      "['ZION', '109380', '10-Q', 2012, 3, 'https://www.sec.gov/Archives/edgar/data/109380/0000109380-12-000345-index.html']\n",
      "['ZION', '109380', '10-Q', 2017, 2, 'https://www.sec.gov/Archives/edgar/data/109380/000010938017000103/zion-20170331x10q.htm']\n",
      "Wall time: 1h 9min 57s\n"
     ]
    }
   ],
   "source": [
    "%%time\n",
    "list_of_fails = []\n",
    "for to_do in to_do_list[:]:\n",
    "    selectedsymbol = to_do[0]\n",
    "    selectedcompany = to_do[1]\n",
    "    selectedreport = to_do[2]\n",
    "    year = to_do[3]\n",
    "    quarter = to_do[4]\n",
    "    # print(to_do)\n",
    "\n",
    "    try:\n",
    "        url = \"N/A\"\n",
    "\n",
    "        csv = csvs[(year,quarter)]\n",
    "\n",
    "        csv.columns.values[0] = 'Item'\n",
    "\n",
    "        # companyreport = csv[(csv['Item'].str.contains(f\"/{selectedcompany}/\")) & (csv['Item'].str.contains(selectedreport.lower()))]\n",
    "        companyreport = csv[csv['Item'].map(lambda item: (f\"/{selectedcompany}/\" in item) and (selectedreport.lower() in item))]\n",
    "        if len(companyreport) == 0:\n",
    "            continue\n",
    "\n",
    "        Filing = companyreport['Item'].str.split('|')\n",
    "        # Filing = companyreport.split('|')\n",
    "\n",
    "        Filing = Filing.to_list()\n",
    "\n",
    "        for item in Filing[0]:\n",
    "            \n",
    "            if 'html' in item:\n",
    "                report = item\n",
    "                \n",
    "        url = 'https://www.sec.gov/Archives/' + report\n",
    "        url = url.strip()\n",
    "\n",
    "        df = pd.read_html(url)\n",
    "\n",
    "        time.sleep(.12)\n",
    "\n",
    "        document_index = df[0]\n",
    "        document_index = document_index.dropna()\n",
    "\n",
    "        document_name = document_index[document_index['Description'].str.contains(selectedreport)]\n",
    "        document_name = document_name['Document'].str.split(' ')\n",
    "        document_name = document_name[0][0]\n",
    "\n",
    "        report_formatted = report.replace('-','').replace('index.html','')\n",
    "        url = 'https://www.sec.gov/Archives/' + report_formatted.strip() + '/' + document_name # That's the HTM with all the numbers and text\n",
    "\n",
    "        urllib.request.urlretrieve(url, f'./data/{selectedsymbol}/{selectedsymbol}_{year}_{quarter}-{selectedreport}.htm')\n",
    "        time.sleep(.12)\n",
    "    except:\n",
    "        # time.sleep(1)\n",
    "        failure = [selectedsymbol,selectedcompany,selectedreport,year,quarter,url]\n",
    "        list_of_fails.append(failure)\n",
    "        print(failure)\n",
    "# pickle.dump(list_of_fails,open('list_of_fails','wb'))"
   ]
  },
  {
   "cell_type": "code",
   "execution_count": null,
   "metadata": {},
   "outputs": [],
   "source": [
    "# os.system(r\"%windir%\\System32\\rundll32.exe powrprof.dll,SetSuspendState 0,1,0\")"
   ]
  },
  {
   "cell_type": "code",
   "execution_count": 53,
   "metadata": {},
   "outputs": [
    {
     "output_type": "stream",
     "name": "stdout",
     "text": [
      "('MS', '895421')\n('SNA', '91440')\n('DXCM', '1093557')\n('PHM', '822416')\n('RMD', '943819')\n('SPGI', '64040')\n('MOS', '1285785')\n('DAL', '27904')\n('MCO', '1059556')\n('ADP', '8670')\n('TJX', '109198')\n('PRU', '1137774')\n('DISH', '1001082')\n('IT', '749251')\n('HUM', '49071')\n('FBHS', '1519751')\n('MPWR', '1280452')\n('KLAC', '319201')\n('FLIR', '354908')\n('BK', '1390777')\n('CDW', '1402057')\n('CPRT', '900075')\n('MHK', '851968')\n('PFE', '78003')\n('IPG', '51644')\n('CAT', '18230')\n('HAL', '45012')\n('MA', '1141391')\n('ILMN', '1110803')\n('MET', '1099219')\n('NUE', '73309')\n('PENN', '921738')\n('FCX', '831259')\n('XOM', '34088')\n('STZ', '16918')\n('HFC', '48039')\n('GILD', '882095')\n('UNH', '731766')\n('WLTW', '1140536')\n('AES', '874761')\n('LW', '1679273')\n('ALXN', '899866')\n('AIG', '5272')\n('RE', '1095073')\n('ISRG', '1035267')\n('GIS', '40704')\n('LH', '920148')\n('AMT', '1053507')\n('CINF', '20286')\n('HRL', '48465')\n('PG', '80424')\n('APA', '6769')\n('GOOGL', '1652044')\n('TPR', '1116132')\n('MCD', '63908')\n('FMC', '37785')\n('MSFT', '789019')\n('LB', '701985')\n('FE', '1031296')\n('IQV', '1478242')\n('APTV', '1521332')\n('ALGN', '1097149')\n('DISCK', '1437107')\n('AMZN', '1018724')\n('KEY', '91576')\n('KMI', '1506307')\n('K', '55067')\n('ALK', '766421')\n('CAG', '23217')\n('VTR', '740260')\n('WHR', '106640')\n('ODFL', '878927')\n('AOS', '91142')\n('HST', '1070750')\n('URI', '1067701')\n('UNP', '100885')\n('HES', '4447')\n('AXP', '4962')\n('VTRS', '1792044')\n('IPGP', '1111928')\n('USB', '36104')\n('BSX', '885725')\n('BIIB', '875045')\n('LNT', '352541')\n('NLSN', '1492633')\n('ZBH', '1136869')\n('GPS', '39911')\n('PFG', '1126328')\n('OXY', '797468')\n('XYL', '1524472')\n('CBRE', '1138118')\n('DHR', '313616')\n('UDR', '74208')\n('KEYS', '1601046')\n('LHX', '202058')\n('CAH', '721371')\n('DUK', '1326160')\n('JNJ', '200406')\n('LUV', '92380')\n('KMB', '55785')\n('EIX', '827052')\n('CL', '21665')\n('JPM', '19617')\n('GD', '40533')\n('MAS', '62996')\n('RSG', '1060391')\n('REGN', '872589')\n('PGR', '80661')\n('MRK', '310158')\n('HBI', '1359841')\n('NFLX', '1065280')\n('BLK', '1364742')\n('ESS', '920522')\n('LRCX', '707549')\n('WY', '106535')\n('COG', '858470')\n('PM', '1413329')\n('FLT', '1175454')\n('LMT', '936468')\n('EVRG', '1711269')\n('AEE', '1002910')\n('COO', '711404')\n('EL', '1001250')\n('CMI', '26172')\n('MNST', '865752')\n('LEG', '58492')\n('FOX', '1754301')\n('EBAY', '1065088')\n('LYB', '1489393')\n('NSC', '702165')\n('CLX', '21076')\n('DOW', '1751788')\n('TDG', '1260221')\n('AIZ', '1267238')\n('RL', '1037038')\n('DE', '315189')\n('ORLY', '898173')\n('WELL', '766704')\n('SPG', '1063761')\n('PWR', '1050915')\n('UA', '1336917')\n('TRV', '86312')\n('FB', '1326801')\n('STT', '93751')\n('AWK', '1410636')\n('ATO', '731802')\n('COP', '1163165')\n('PNR', '77360')\n('CRM', '1108524')\n('XEL', '72903')\n('UPS', '1090727')\n('CME', '1156375')\n('FRT', '34903')\n('OTIS', '1781335')\n('ORCL', '1341439')\n('RTX', '101829')\n('HPQ', '47217')\n('NWL', '814453')\n('HON', '773840')\n('SBAC', '1034054')\n('LNC', '59558')\n('MMM', '66740')\n('NOC', '1133421')\n('MMC', '62709')\n('CSCO', '858877')\n('SEE', '1012100')\n('NOW', '1373715')\n('MGM', '789570')\n('SRE', '1032208')\n('GPC', '40987')\n('T', '732717')\n('KMX', '1170010')\n('ETSY', '1370637')\n('CF', '1324404')\n('HLT', '1585689')\n('MO', '764180')\n('DPZ', '1286681')\n('ICE', '1571949')\n('FANG', '1539838')\n('SJM', '91419')\n('ADM', '7084')\n('CERN', '804753')\n('STE', '1757898')\n('CMA', '28412')\n('EMR', '32604')\n('AJG', '354190')\n('ADSK', '769397')\n('PNC', '713676')\n('TT', '1466258')\n('GOOG', '1652044')\n('MXIM', '743316')\n('SYY', '96021')\n('XLNX', '743988')\n('INTC', '50863')\n('ALB', '915913')\n('APD', '2969')\n('CI', '1739940')\n('MTD', '1037646')\n('IFF', '51253')\n('VMC', '1396009')\n('FISV', '798354')\n('CHTR', '1091667')\n('HBAN', '49196')\n('MU', '723125')\n('TDY', '1094285')\n('KHC', '1637459')\n('AMP', '820027')\n('WRB', '11544')\n('AAPL', '320193')\n('CZR', '1590895')\n('LYV', '1335258')\n('BWA', '908255')\n('DRE', '783280')\n('AON', '315293')\n('BKR', '1701605')\n('XRAY', '818479')\n('COF', '927628')\n('BMY', '14272')\n('FRC', '1132979')\n('MDLZ', '1103982')\n('WM', '823768')\n('NKE', '320187')\n('CMS', '811156')\n('HSIC', '1000228')\n('F', '37996')\n('CHRW', '1043277')\n('GE', '40545')\n('EQIX', '1101239')\n('CDNS', '813672')\n('VRSK', '1442145')\n('KO', '21344')\n('BA', '12927')\n('TXT', '217346')\n('PSA', '1393311')\n('V', '1403161')\n('TSCO', '916365')\n('BAC', '70858')\n('OKE', '1039684')\n('BBY', '764478')\n('TXN', '97476')\n('CNC', '1071739')\n('MCK', '927653')\n('STX', '1137789')\n('IP', '51434')\n('BIO', '12208')\n('BEN', '38777')\n('AAP', '1158449')\n('MRO', '101778')\n('HAS', '46080')\n('SYF', '1601712')\n('CE', '1306830')\n('ACN', '1467373')\n('PKG', '75677')\n('PSX', '1534701')\n('IBM', '51143')\n('VNO', '899689')\n('AAL', '6201')\n('TMO', '97745')\n('TER', '97210')\n('WMB', '107263')\n('FIS', '1136893')\n('FITB', '35527')\n('HWM', '4281')\n('VLO', '1035002')\n('BDX', '10795')\n('NWS', '1564708')\n('FAST', '815556')\n('DVA', '927066')\n('ANTM', '1156039')\n('BAX', '10456')\n('CSX', '277948')\n('NCLH', '1513761')\n('AMCR', '1748790')\n('NI', '1111711')\n('MLM', '916076')\n('INFO', '1598014')\n('PYPL', '1633917')\n('ABC', '1140859')\n('WAB', '943452')\n('SO', '92122')\n('WMT', '104169')\n('DHI', '882184')\n('SBUX', '829224')\n('CPB', '16732')\n('NVDA', '1045810')\n('NWSA', '1564708')\n('EXPD', '746515')\n('AFL', '4977')\n('TSLA', '1318605')\n('LKQ', '1065696')\n('D', '715957')\n('GLW', '24741')\n('WYNN', '1174922')\n('IVZ', '914208')\n('ES', '72741')\n('ROST', '745732')\n('PAYC', '1590955')\n('DG', '29534')\n('AME', '1037868')\n('NVR', '906163')\n('DVN', '1090012')\n('VRSN', '1014473')\n('QCOM', '804328')\n('LDOS', '1336920')\n('ARE', '1035443')\n('HOLX', '859737')\n('TFC', '92230')\n('JCI', '833444')\n('AMGN', '318154')\n('CTXS', '877890')\n('SNPS', '883241')\n('VRTX', '875320')\n('SWK', '93556')\n('TEL', '1385157')\n('JNPR', '1043604')\n('DLR', '1297996')\n('SHW', '89800')\n('AKAM', '1086222')\n('BKNG', '1075531')\n('NRG', '1013871')\n('CMCSA', '1166691')\n('CARR', '1783180')\n('GS', '886982')\n('UHS', '352915')\n('ANSS', '1013462')\n('VIAC', '813828')\n('VZ', '732712')\n('CTSH', '1058290')\n('TRMB', '864749')\n('PCAR', '75362')\n('LUMN', '18926')\n('NDAQ', '1120193')\n('RJF', '720005')\n('ABT', '1800')\n('CTVA', '1755672')\n('ROL', '84839')\n('ABMD', '815094')\n('SWKS', '4127')\n('DD', '1666700')\n('DGX', '1022079')\n('CB', '896159')\n('EXC', '1109357')\n('TSN', '100493')\n('NXPI', '1413447')\n('POOL', '945841')\n('SIVB', '719739')\n('ETN', '1551182')\n('TAP', '24545')\n('SLB', '87347')\n('LVS', '1300514')\n('FOXA', '1754301')\n('HIG', '874766')\n('LIN', '1707925')\n('PRGO', '1585364')\n('GM', '1467858')\n('WAT', '1000697')\n('CTLT', '1596783')\n('C', '831001')\n('EW', '1099800')\n('FFIV', '1048695')\n('PBCT', '1378946')\n('ALL', '899051')\n('MKC', '63754')\n('CFG', '759944')\n('CBOE', '1374310')\n('MSCI', '1408198')\n('IRM', '1020569')\n('UAL', '100517')\n('DTE', '936340')\n('TTWO', '946581')\n('NOV', '1021860')\n('DRI', '940944')\n('EMN', '915389')\n('WRK', '1732845')\n('WST', '105770')\n('PKI', '31791')\n('MDT', '1613103')\n('UAA', '1336917')\n('HII', '1501585')\n('ZION', '109380')\n('BF.B', '14693')\n('AVY', '8818')\n('FTNT', '1262039')\n('ABBV', '1551152')\n('DXC', '1688568')\n('INTU', '896878')\n('QRVO', '1604778')\n('CVX', '93410')\n('CNP', '1130310')\n('GRMN', '1121788')\n('ADI', '6281')\n('CTAS', '723254')\n('NEE', '753308')\n('EQR', '906107')\n('A', '1090872')\n('BLL', '9389')\n('PH', '76334')\n('GPN', '1123360')\n('AMD', '2488')\n('PLD', '1045609')\n('PEP', '77476')\n('ED', '1047862')\n('NEM', '1164727')\n('ENPH', '1463101')\n('WBA', '1618921')\n('PPL', '922224')\n('DFS', '1393612')\n('FTV', '1659166')\n('RHI', '315213')\n('ECL', '31462')\n('EXR', '1289490')\n('EA', '712515')\n('GL', '320335')\n('MSI', '68505')\n('GWW', '277135')\n('OMC', '29989')\n('WFC', '72971')\n('AVGO', '1730168')\n('ETR', '65984')\n('YUM', '1041061')\n('AEP', '4904')\n('PAYX', '723531')\n('EFX', '33185')\n('RCL', '884887')\n('TWTR', '1418091')\n('HD', '354950')\n('LLY', '59478')\n('O', '726728')\n('DIS', '1744489')\n('PVH', '78239')\n('EOG', '821189')\n('NTRS', '73124')\n('CVS', '64803')\n('MKTX', '1278021')\n('TGT', '27419')\n('BRK.B', '1067983')\n('LOW', '60667')\n('ULTA', '1403568')\n('CCL', '815097')\n('PPG', '79879')\n('PEG', '788784')\n('WU', '1365135')\n('MPC', '1510295')\n('MAA', '912595')\n('AMAT', '6951')\n('AZO', '866787')\n('AVB', '915912')\n('WEC', '783325')\n('BXP', '1037540')\n('GNRC', '1474735')\n('SYK', '310764')\n('PTC', '857005')\n('TYL', '860731')\n('SCHW', '316709')\n('ATVI', '718877')\n('KR', '56873')\n('TMUS', '1283699')\n('L', '60086')\n('APH', '820313')\n('PNW', '764622')\n('HPE', '1645590')\n('DOV', '29905')\n('ROK', '1024478')\n('ITW', '49826')\n('NLOK', '849399')\n('WDC', '106040')\n('INCY', '879169')\n('CHD', '313927')\n('REG', '910606')\n('HCA', '860730')\n('ANET', '1596532')\n('DLTR', '935703')\n('HSY', '47111')\n('JBHT', '728535')\n('LEN', '920760')\n('PEAK', '765880')\n('RF', '1281761')\n('IEX', '832101')\n('VFC', '103379')\n('CMG', '1058090')\n('PXD', '1038357')\n('MAR', '1048286')\n('IR', '1699150')\n('CCI', '1051470')\n('ALLE', '1579241')\n('MTB', '36270')\n('KSU', '54480')\n('ZTS', '1555280')\n('J', '52988')\n('COST', '909832')\n('BR', '1383312')\n('DISCA', '1437107')\n('ROP', '882835')\n('IDXX', '874716')\n('FDX', '1048911')\n('KIM', '879101')\n('TFX', '96943')\n('ADBE', '796343')\n('MCHP', '827054')\n('NTAP', '1002047')\n('ZBRA', '877212')\n('UNM', '5513')\n('EXPE', '1324424')\n('JKHY', '779152')\n('TROW', '1113169')\n"
     ]
    }
   ],
   "source": [
    "failed = set()\n",
    "for item in to_do_list:\n",
    "    failed.add(tuple([item[0],item[1]]))\n",
    "for item in failed:\n",
    "    print(item)"
   ]
  },
  {
   "cell_type": "code",
   "execution_count": 50,
   "metadata": {},
   "outputs": [
    {
     "output_type": "execute_result",
     "data": {
      "text/plain": [
       "2158"
      ]
     },
     "metadata": {},
     "execution_count": 50
    }
   ],
   "source": [
    "# list_of_fails = pickle.load(open('list_of_fails','rb'))\n",
    "# len(list_of_fails)"
   ]
  },
  {
   "cell_type": "code",
   "execution_count": 118,
   "metadata": {
    "tags": [
     "outputPrepend"
    ]
   },
   "outputs": [
    {
     "output_type": "stream",
     "name": "stdout",
     "text": [
      "', '882835', '10-Q', 2011, 4, 'https://www.sec.gov/Archives/edgar/data/882835/0000882835-11-000032-index.html']\n",
      "['ROP', '882835', '10-Q', 2012, 2, 'https://www.sec.gov/Archives/edgar/data/882835/0000882835-12-000022-index.html']\n",
      "['ROP', '882835', '10-Q', 2012, 3, 'https://www.sec.gov/Archives/edgar/data/882835/0000882835-12-000034-index.html']\n",
      "['ROP', '882835', '10-Q', 2012, 4, 'https://www.sec.gov/Archives/edgar/data/882835/0000882835-12-000048-index.html']\n",
      "['ROP', '882835', '10-Q', 2013, 2, 'https://www.sec.gov/Archives/edgar/data/882835/0000882835-13-000026-index.html']\n",
      "['ROP', '882835', '10-Q', 2013, 3, 'https://www.sec.gov/Archives/edgar/data/882835/0000882835-13-000042-index.html']\n",
      "['ROP', '882835', '10-Q', 2013, 4, 'https://www.sec.gov/Archives/edgar/data/882835/0000882835-13-000050-index.html']\n",
      "['ROP', '882835', '10-Q', 2014, 2, 'https://www.sec.gov/Archives/edgar/data/882835/0000882835-14-000020-index.html']\n",
      "['ROP', '882835', '10-Q', 2014, 3, 'https://www.sec.gov/Archives/edgar/data/882835/0000882835-14-000024-index.html']\n",
      "['ROP', '882835', '10-Q', 2014, 4, 'https://www.sec.gov/Archives/edgar/data/882835/0000882835-14-000031-index.html']\n",
      "['ROP', '882835', '10-Q', 2015, 2, 'https://www.sec.gov/Archives/edgar/data/882835/0000882835-15-000015-index.html']\n",
      "['ROP', '882835', '10-Q', 2015, 3, 'https://www.sec.gov/Archives/edgar/data/882835/0000882835-15-000019-index.html']\n",
      "['ROP', '882835', '10-Q', 2015, 4, 'https://www.sec.gov/Archives/edgar/data/882835/0000882835-15-000025-index.html']\n",
      "['ROP', '882835', '10-Q', 2016, 2, 'https://www.sec.gov/Archives/edgar/data/882835/0000882835-16-000042-index.html']\n",
      "['ROP', '882835', '10-Q', 2016, 3, 'https://www.sec.gov/Archives/edgar/data/882835/0000882835-16-000046-index.html']\n",
      "['ROP', '882835', '10-Q', 2016, 4, 'https://www.sec.gov/Archives/edgar/data/882835/0000882835-16-000052-index.html']\n",
      "['ROP', '882835', '10-Q', 2017, 2, 'https://www.sec.gov/Archives/edgar/data/882835/0000882835-17-000017-index.html']\n",
      "['ROP', '882835', '10-Q', 2017, 3, 'https://www.sec.gov/Archives/edgar/data/882835/0000882835-17-000024-index.html']\n",
      "['ROST', '745732', '10-Q', 2010, 2, 'https://www.sec.gov/Archives/edgar/data/745732/0001206774-10-001420-index.html']\n",
      "['ROST', '745732', '10-Q', 2010, 4, 'https://www.sec.gov/Archives/edgar/data/745732/0001206774-10-002589-index.html']\n",
      "['ROST', '745732', '10-Q', 2011, 2, 'https://www.sec.gov/Archives/edgar/data/745732/000120677411001349/rossstores_10q.htm']\n",
      "['ROST', '745732', '10-Q', 2011, 3, 'https://www.sec.gov/Archives/edgar/data/745732/0001206774-11-002035-index.html']\n",
      "['ROST', '745732', '10-Q', 2012, 2, 'https://www.sec.gov/Archives/edgar/data/745732/0001206774-12-002608-index.html']\n",
      "['ROST', '745732', '10-Q', 2012, 3, 'https://www.sec.gov/Archives/edgar/data/745732/000120677412003949/rossstores_10q.htm']\n",
      "['ROST', '745732', '10-Q', 2019, 2, 'https://www.sec.gov/Archives/edgar/data/745732/0000745732-19-000030-index.html']\n",
      "['RCL', '884887', '10-Q', 2010, 3, 'https://www.sec.gov/Archives/edgar/data/884887/000119312510165048/d10q.htm']\n",
      "['RCL', '884887', '10-Q', 2017, 3, 'https://www.sec.gov/Archives/edgar/data/884887/0000884887-17-000043-index.html']\n",
      "['SPGI', '64040', '10-Q', 2012, 3, 'https://www.sec.gov/Archives/edgar/data/64040/000006404012000006/mhp-2012630x10q.htm']\n",
      "['SPGI', '64040', '10-Q', 2013, 3, 'https://www.sec.gov/Archives/edgar/data/64040/0000064040-13-000015-index.html']\n",
      "['CRM', '1108524', '10-Q', 2018, 2, 'https://www.sec.gov/Archives/edgar/data/1108524/000110852418000035/crmq1fy1910-q.htm']\n",
      "['CRM', '1108524', '10-Q', 2019, 2, 'https://www.sec.gov/Archives/edgar/data/1108524/0001108524-19-000025-index.html']\n",
      "['SBAC', '1034054', '10-Q', 2015, 3, 'https://www.sec.gov/Archives/edgar/data/1034054/0001034054-15-000012-index.html']\n",
      "['SLB', '87347', '10-Q', 2017, 4, 'https://www.sec.gov/Archives/edgar/data/87347/0001564590-17-019977-index.html']\n",
      "['SLB', '87347', '10-Q', 2018, 3, 'https://www.sec.gov/Archives/edgar/data/87347/0001564590-18-017379-index.html']\n",
      "['SLB', '87347', '10-Q', 2019, 3, 'https://www.sec.gov/Archives/edgar/data/87347/000156459019025739/slb-10q_20190630.htm']\n",
      "['SEE', '1012100', '10-Q', 2018, 3, 'https://www.sec.gov/Archives/edgar/data/1012100/0001628280-18-010542-index.html']\n",
      "['SRE', '1032208', '10-Q', 2015, 4, 'https://www.sec.gov/Archives/edgar/data/1032208/000008652115000067/sre10q09302015.htm']\n",
      "['SHW', '89800', '10-Q', 2017, 2, 'https://www.sec.gov/Archives/edgar/data/89800/0000089800-17-000009-index.html']\n",
      "['SWKS', '4127', '10-Q', 2012, 1, 'https://www.sec.gov/Archives/edgar/data/4127/0000004127-12-000010-index.html']\n",
      "['SWKS', '4127', '10-Q', 2012, 3, 'https://www.sec.gov/Archives/edgar/data/4127/0000004127-12-000028-index.html']\n",
      "['LUV', '92380', '10-Q', 2010, 2, 'https://www.sec.gov/Archives/edgar/data/92380/0000092380-10-000032-index.html']\n",
      "['LUV', '92380', '10-Q', 2010, 3, 'https://www.sec.gov/Archives/edgar/data/92380/0000092380-10-000079-index.html']\n",
      "['LUV', '92380', '10-Q', 2011, 4, 'https://www.sec.gov/Archives/edgar/data/92380/0000092380-11-000095-index.html']\n",
      "['LUV', '92380', '10-Q', 2012, 3, 'https://www.sec.gov/Archives/edgar/data/92380/000009238012000089/form10q.htm']\n",
      "['SBUX', '829224', '10-Q', 2012, 3, 'https://www.sec.gov/Archives/edgar/data/829224/0001445305-12-002431-index.html']\n",
      "['SYK', '310764', '10-Q', 2012, 3, 'https://www.sec.gov/Archives/edgar/data/310764/0000310764-12-000182-index.html']\n",
      "['SYY', '96021', '10-Q', 2011, 4, 'https://www.sec.gov/Archives/edgar/data/96021/0000950123-11-096211-index.html']\n",
      "['TMUS', '1283699', '10-Q', 2013, 2, 'https://www.sec.gov/Archives/edgar/data/1283699/0001283699-13-000088-index.html']\n",
      "['TROW', '1113169', '10-Q', 2014, 3, 'https://www.sec.gov/Archives/edgar/data/1113169/0001113169-14-000019-index.html']\n",
      "['TROW', '1113169', '10-Q', 2014, 4, 'https://www.sec.gov/Archives/edgar/data/1113169/000111316914000029/a10q-q32014.htm']\n",
      "['TROW', '1113169', '10-Q', 2016, 4, 'https://www.sec.gov/Archives/edgar/data/1113169/000111316916000056/a10q-q32016.htm']\n",
      "['TTWO', '946581', '10-Q', 2015, 1, 'https://www.sec.gov/Archives/edgar/data/946581/0001104659-15-001581-index.html']\n",
      "['TTWO', '946581', '10-Q', 2018, 1, 'https://www.sec.gov/Archives/edgar/data/946581/0001628280-18-001226-index.html']\n",
      "['TPR', '1116132', '10-Q', 2011, 2, 'https://www.sec.gov/Archives/edgar/data/1116132/0001144204-11-028134-index.html']\n",
      "['TPR', '1116132', '10-Q', 2011, 4, 'https://www.sec.gov/Archives/edgar/data/1116132/0001144204-11-062566-index.html']\n",
      "['TPR', '1116132', '10-Q', 2013, 4, 'https://www.sec.gov/Archives/edgar/data/1116132/000114420413059305/v358914_10q.htm']\n",
      "['TPR', '1116132', '10-Q', 2014, 2, 'https://www.sec.gov/Archives/edgar/data/1116132/000114420414027951/v377068_10q.htm']\n",
      "['TPR', '1116132', '10-Q', 2015, 4, 'https://www.sec.gov/Archives/edgar/data/1116132/000111613215000014/coh0926201510q.htm']\n",
      "['TPR', '1116132', '10-Q', 2017, 1, 'https://www.sec.gov/Archives/edgar/data/1116132/0001116132-17-000003-index.html']\n",
      "['TPR', '1116132', '10-Q', 2017, 4, 'https://www.sec.gov/Archives/edgar/data/1116132/000111613217000016/tpr930201710q.htm']\n",
      "['TPR', '1116132', '10-Q', 2019, 1, 'https://www.sec.gov/Archives/edgar/data/1116132/000111613219000007/tpr1229201810q.htm']\n",
      "['TPR', '1116132', '10-Q', 2020, 2, 'https://www.sec.gov/Archives/edgar/data/1116132/000111613220000012/tpr328202010q.htm']\n",
      "['TSLA', '1318605', '10-Q', 2011, 2, 'https://www.sec.gov/Archives/edgar/data/1318605/0001193125-11-139677-index.html']\n",
      "['TSLA', '1318605', '10-Q', 2011, 3, 'https://www.sec.gov/Archives/edgar/data/1318605/0001193125-11-221497-index.html']\n",
      "['TSLA', '1318605', '10-Q', 2019, 4, 'https://www.sec.gov/Archives/edgar/data/1318605/000156459019038256/tsla-10q_20190930.htm']\n",
      "['TXT', '217346', '10-Q', 2010, 4, 'https://www.sec.gov/Archives/edgar/data/217346/0000217346-10-000096-index.html']\n",
      "['TJX', '109198', '10-Q', 2010, 2, 'https://www.sec.gov/Archives/edgar/data/109198/0000950123-10-054084-index.html']\n",
      "['TJX', '109198', '10-Q', 2010, 3, 'https://www.sec.gov/Archives/edgar/data/109198/0000950123-10-081603-index.html']\n",
      "['TT', '1466258', '10-Q', 2016, 2, 'https://www.sec.gov/Archives/edgar/data/1466258/000146625816000403/ir-10qx03312016xq1.htm']\n",
      "['TDG', '1260221', '10-Q', 2011, 1, 'https://www.sec.gov/Archives/edgar/data/1260221/0001193125-11-027069-index.html']\n",
      "['TDG', '1260221', '10-Q', 2013, 1, 'https://www.sec.gov/Archives/edgar/data/1260221/000119312513095117/d497414d10qa.htm']\n",
      "['TRV', '86312', '10-Q', 2012, 3, 'https://www.sec.gov/Archives/edgar/data/86312/0001104659-12-049705-index.html']\n",
      "['TRV', '86312', '10-Q', 2013, 2, 'https://www.sec.gov/Archives/edgar/data/86312/0001104659-13-031454-index.html']\n",
      "['TRV', '86312', '10-Q', 2017, 2, 'https://www.sec.gov/Archives/edgar/data/86312/0001104659-17-024701-index.html']\n",
      "['TRV', '86312', '10-Q', 2020, 2, 'https://www.sec.gov/Archives/edgar/data/86312/0000086312-20-000021-index.html']\n",
      "['TFC', '92230', '10-Q', 2012, 4, 'https://www.sec.gov/Archives/edgar/data/92230/0000092230-12-000112-index.html']\n",
      "['TFC', '92230', '10-Q', 2013, 2, 'https://www.sec.gov/Archives/edgar/data/92230/0000092230-13-000043-index.html']\n",
      "['TFC', '92230', '10-Q', 2013, 3, 'https://www.sec.gov/Archives/edgar/data/92230/0000092230-13-000062-index.html']\n",
      "['TFC', '92230', '10-Q', 2013, 4, 'https://www.sec.gov/Archives/edgar/data/92230/0000092230-13-000081-index.html']\n",
      "['TFC', '92230', '10-Q', 2014, 2, 'https://www.sec.gov/Archives/edgar/data/92230/0000092230-14-000026-index.html']\n",
      "['TFC', '92230', '10-Q', 2014, 3, 'https://www.sec.gov/Archives/edgar/data/92230/0000092230-14-000052-index.html']\n",
      "['TFC', '92230', '10-Q', 2014, 4, 'https://www.sec.gov/Archives/edgar/data/92230/0000092230-14-000076-index.html']\n",
      "['TWTR', '1418091', '10-Q', 2019, 2, 'https://www.sec.gov/Archives/edgar/data/1418091/000156459019014333/twtr-10q_20190331.htm']\n",
      "['TYL', '860731', '10-Q', 2016, 4, 'https://www.sec.gov/Archives/edgar/data/860731/0001564590-16-026222-index.html']\n",
      "['UDR', '74208', '10-Q', 2014, 2, 'https://www.sec.gov/Archives/edgar/data/74208/0000074208-14-000006-index.html']\n",
      "['ULTA', '1403568', '10-Q', 2010, 3, 'https://www.sec.gov/Archives/edgar/data/1403568/0000950123-10-083459-index.html']\n",
      "['ULTA', '1403568', '10-Q', 2012, 4, 'https://www.sec.gov/Archives/edgar/data/1403568/000119312512485695/d418173d10q.htm']\n",
      "['ULTA', '1403568', '10-Q', 2016, 2, 'https://www.sec.gov/Archives/edgar/data/1403568/0001193125-16-611186-index.html']\n",
      "['USB', '36104', '10-Q', 2016, 4, 'https://www.sec.gov/Archives/edgar/data/36104/000119312516759887/d231217d10q.htm']\n",
      "['UAA', '1336917', '10-Q', 2010, 4, 'https://www.sec.gov/Archives/edgar/data/1336917/0001193125-10-245956-index.html']\n",
      "['UAA', '1336917', '10-Q', 2013, 2, 'https://www.sec.gov/Archives/edgar/data/1336917/0001336917-13-000017-index.html']\n",
      "['UA', '1336917', '10-Q', 2013, 4, 'https://www.sec.gov/Archives/edgar/data/1336917/000133691713000030/ua-9302013x10q.htm']\n",
      "['UA', '1336917', '10-Q', 2014, 2, 'https://www.sec.gov/Archives/edgar/data/1336917/000133691714000020/ua-3312014x10q.htm']\n",
      "['UA', '1336917', '10-Q', 2014, 4, 'https://www.sec.gov/Archives/edgar/data/1336917/000133691714000049/ua-9302014x10q.htm']\n",
      "['UA', '1336917', '10-Q', 2015, 2, 'https://www.sec.gov/Archives/edgar/data/1336917/000133691715000022/ua-3312015x10q.htm']\n",
      "['UA', '1336917', '10-Q', 2017, 2, 'https://www.sec.gov/Archives/edgar/data/1336917/000133691717000029/ua-03312017x10q.htm']\n",
      "['UA', '1336917', '10-Q', 2018, 2, 'https://www.sec.gov/Archives/edgar/data/1336917/0001336917-18-000017-index.html']\n",
      "['UAL', '100517', '10-Q', 2011, 2, 'https://www.sec.gov/Archives/edgar/data/100517/000119312511105320/d10q.htm']\n",
      "['UAL', '100517', '10-Q', 2013, 2, 'https://www.sec.gov/Archives/edgar/data/100517/0001193125-13-173707-index.html']\n",
      "['UAL', '100517', '10-Q', 2015, 3, 'https://www.sec.gov/Archives/edgar/data/100517/0001193125-15-261239-index.html']\n",
      "['UPS', '1090727', '10-Q', 2012, 3, 'https://www.sec.gov/Archives/edgar/data/1090727/0001090727-12-000015-index.html']\n",
      "['URI', '1067701', '10-Q', 2012, 3, 'https://www.sec.gov/Archives/edgar/data/1067701/0001067701-12-000017-index.html']\n",
      "['UHS', '352915', '10-Q', 2016, 4, 'https://www.sec.gov/Archives/edgar/data/352915/0001564590-16-028360-index.html']\n",
      "['UHS', '352915', '10-Q', 2017, 2, 'https://www.sec.gov/Archives/edgar/data/352915/000156459017009398/uhs-10q_20170331.htm']\n",
      "['UNM', '5513', '10-Q', 2012, 2, 'https://www.sec.gov/Archives/edgar/data/5513/0000005513-12-000014-index.html']\n",
      "['VLO', '1035002', '10-Q', 2011, 4, 'https://www.sec.gov/Archives/edgar/data/1035002/0001035002-11-000064-index.html']\n",
      "['VLO', '1035002', '10-Q', 2013, 2, 'https://www.sec.gov/Archives/edgar/data/1035002/000103500213000037/vloform10-qx3312013.htm']\n",
      "['VRSN', '1014473', '10-Q', 2012, 2, 'https://www.sec.gov/Archives/edgar/data/1014473/0001014473-12-000003-index.html']\n",
      "['VFC', '103379', '10-Q', 2019, 1, 'https://www.sec.gov/Archives/edgar/data/103379/0000103379-19-000003-index.html']\n",
      "['VIAC', '813828', '10-Q', 2012, 2, 'https://www.sec.gov/Archives/edgar/data/813828/0001047469-12-005106-index.html']\n",
      "['VIAC', '813828', '10-Q', 2012, 3, 'https://www.sec.gov/Archives/edgar/data/813828/0001047469-12-007699-index.html']\n",
      "['VIAC', '813828', '10-Q', 2012, 4, 'https://www.sec.gov/Archives/edgar/data/813828/000104746912010188/a2211663z10-q.htm']\n",
      "['VIAC', '813828', '10-Q', 2013, 4, 'https://www.sec.gov/Archives/edgar/data/813828/000104746913010325/a2217153z10-q.htm']\n",
      "['VIAC', '813828', '10-Q', 2014, 4, 'https://www.sec.gov/Archives/edgar/data/813828/000081382814000018/cbs_10q-093014.htm']\n",
      "['VIAC', '813828', '10-Q', 2018, 4, 'https://www.sec.gov/Archives/edgar/data/813828/000081382818000044/cbs_10q-093018.htm']\n",
      "['V', '1403161', '10-Q', 2011, 2, 'https://www.sec.gov/Archives/edgar/data/1403161/000119312511128562/d10q.htm']\n",
      "['V', '1403161', '10-Q', 2012, 2, 'https://www.sec.gov/Archives/edgar/data/1403161/0001384108-12-000004-index.html']\n",
      "['VNO', '899689', '10-Q', 2010, 2, 'https://www.sec.gov/Archives/edgar/data/899689/0000899689-10-000020-index.html']\n",
      "['VNO', '899689', '10-Q', 2010, 3, 'https://www.sec.gov/Archives/edgar/data/899689/0000899689-10-000032-index.html']\n",
      "['VNO', '899689', '10-Q', 2010, 4, 'https://www.sec.gov/Archives/edgar/data/899689/0000899689-10-000045-index.html']\n",
      "['VNO', '899689', '10-Q', 2011, 2, 'https://www.sec.gov/Archives/edgar/data/899689/0000899689-11-000016-index.html']\n",
      "['VNO', '899689', '10-Q', 2011, 3, 'https://www.sec.gov/Archives/edgar/data/899689/0000899689-11-000030-index.html']\n",
      "['VNO', '899689', '10-Q', 2012, 2, 'https://www.sec.gov/Archives/edgar/data/899689/0000899689-12-000013-index.html']\n",
      "['WRB', '11544', '10-Q', 2010, 4, 'https://www.sec.gov/Archives/edgar/data/11544/0000950123-10-102184-index.html']\n",
      "['WRB', '11544', '10-Q', 2012, 2, 'https://www.sec.gov/Archives/edgar/data/11544/0000011544-12-000031-index.html']\n",
      "['WRB', '11544', '10-Q', 2012, 4, 'https://www.sec.gov/Archives/edgar/data/11544/0000011544-12-000092-index.html']\n",
      "['WRB', '11544', '10-Q', 2018, 2, 'https://www.sec.gov/Archives/edgar/data/11544/0000011544-18-000022-index.html']\n",
      "['WAB', '943452', '10-Q', 2019, 2, 'https://www.sec.gov/Archives/edgar/data/943452/0001628280-19-006382-index.html']\n",
      "['WMT', '104169', '10-Q', 2010, 4, 'https://www.sec.gov/Archives/edgar/data/104169/0001193125-10-274171-index.html']\n",
      "['WMT', '104169', '10-Q', 2011, 2, 'https://www.sec.gov/Archives/edgar/data/104169/000119312511158587/d10q.htm']\n",
      "['WMT', '104169', '10-Q', 2012, 3, 'https://www.sec.gov/Archives/edgar/data/104169/0000104169-12-000014-index.html']\n",
      "['WMT', '104169', '10-Q', 2012, 4, 'https://www.sec.gov/Archives/edgar/data/104169/0000104169-12-000018-index.html']\n",
      "['WMT', '104169', '10-Q', 2015, 2, 'https://www.sec.gov/Archives/edgar/data/104169/000010416915000022/wmtform10-qx4302015.htm']\n",
      "['WMT', '104169', '10-Q', 2015, 3, 'https://www.sec.gov/Archives/edgar/data/104169/000010416915000039/wmtform10-qx7312015.htm']\n",
      "['WMT', '104169', '10-Q', 2016, 4, 'https://www.sec.gov/Archives/edgar/data/104169/000010416916000140/wmtform10-qx10312016.htm']\n",
      "['WAT', '1000697', '10-Q', 2012, 2, 'https://www.sec.gov/Archives/edgar/data/1000697/000119312512210192/d342685d10q.htm']\n",
      "['WAT', '1000697', '10-Q', 2013, 3, 'https://www.sec.gov/Archives/edgar/data/1000697/000119312513314925/d570428d10q.htm']\n",
      "['WAT', '1000697', '10-Q', 2016, 4, 'https://www.sec.gov/Archives/edgar/data/1000697/0001193125-16-761414-index.html']\n",
      "['WAT', '1000697', '10-Q', 2019, 4, 'https://www.sec.gov/Archives/edgar/data/1000697/000119312519278910/d716085d10q.htm']\n",
      "['WEC', '783325', '10-Q', 2010, 3, 'https://www.sec.gov/Archives/edgar/data/783325/0000107815-10-000077-index.html']\n",
      "['WEC', '783325', '10-Q', 2011, 4, 'https://www.sec.gov/Archives/edgar/data/783325/0000107815-11-000107-index.html']\n",
      "['WEC', '783325', '10-Q', 2012, 4, 'https://www.sec.gov/Archives/edgar/data/783325/0000107815-12-000132-index.html']\n",
      "['WEC', '783325', '10-Q', 2013, 4, 'https://www.sec.gov/Archives/edgar/data/783325/0000107815-13-000133-index.html']\n",
      "['WEC', '783325', '10-Q', 2014, 3, 'https://www.sec.gov/Archives/edgar/data/783325/0000107815-14-000080-index.html']\n",
      "['WEC', '783325', '10-Q', 2014, 4, 'https://www.sec.gov/Archives/edgar/data/783325/000010781514000103/wec0930201410q.htm']\n",
      "['WELL', '766704', '10-Q', 2010, 2, 'https://www.sec.gov/Archives/edgar/data/766704/000095012310047238/l39699e10vq.htm']\n",
      "['WST', '105770', '10-Q', 2010, 2, 'https://www.sec.gov/Archives/edgar/data/105770/000010577010000019/form10q.htm']\n",
      "['WST', '105770', '10-Q', 2010, 3, 'https://www.sec.gov/Archives/edgar/data/105770/0000105770-10-000032-index.html']\n",
      "['WY', '106535', '10-Q', 2011, 3, 'https://www.sec.gov/Archives/edgar/data/106535/0000106535-11-000016-index.html']\n",
      "['WY', '106535', '10-Q', 2014, 4, 'https://www.sec.gov/Archives/edgar/data/106535/0000106535-14-000061-index.html']\n",
      "['WHR', '106640', '10-Q', 2011, 3, 'https://www.sec.gov/Archives/edgar/data/106640/0001445305-11-002080-index.html']\n",
      "['WLTW', '1140536', '10-Q', 2014, 4, 'https://www.sec.gov/Archives/edgar/data/1140536/0001140536-14-000016-index.html']\n",
      "['WLTW', '1140536', '10-Q', 2015, 3, 'https://www.sec.gov/Archives/edgar/data/1140536/000114053615000015/willisgroupholdings10qq220.htm']\n",
      "['XEL', '72903', '10-Q', 2017, 4, 'https://www.sec.gov/Archives/edgar/data/72903/0000072903-17-000064-index.html']\n",
      "['XLNX', '743988', '10-Q', 2010, 1, 'https://www.sec.gov/Archives/edgar/data/743988/000120677410000261/xilinx_10q.htm']\n",
      "['XLNX', '743988', '10-Q', 2012, 3, 'https://www.sec.gov/Archives/edgar/data/743988/0001445305-12-002460-index.html']\n",
      "['YUM', '1041061', '10-Q', 2011, 3, 'https://www.sec.gov/Archives/edgar/data/1041061/0001041061-11-000040-index.html']\n",
      "['YUM', '1041061', '10-Q', 2013, 2, 'https://www.sec.gov/Archives/edgar/data/1041061/0001041061-13-000020-index.html']\n",
      "['YUM', '1041061', '10-Q', 2013, 4, 'https://www.sec.gov/Archives/edgar/data/1041061/0001041061-13-000044-index.html']\n",
      "['YUM', '1041061', '10-Q', 2014, 4, 'https://www.sec.gov/Archives/edgar/data/1041061/0001041061-14-000031-index.html']\n",
      "['YUM', '1041061', '10-Q', 2017, 2, 'https://www.sec.gov/Archives/edgar/data/1041061/0001041061-17-000038-index.html']\n",
      "['YUM', '1041061', '10-Q', 2018, 3, 'https://www.sec.gov/Archives/edgar/data/1041061/0001041061-18-000040-index.html']\n",
      "['YUM', '1041061', '10-Q', 2019, 4, 'https://www.sec.gov/Archives/edgar/data/1041061/0001041061-19-000048-index.html']\n",
      "['ZBH', '1136869', '10-Q', 2011, 2, 'https://www.sec.gov/Archives/edgar/data/1136869/000095012311044906/c63533e10vq.htm']\n",
      "['ZBH', '1136869', '10-Q', 2011, 4, 'https://www.sec.gov/Archives/edgar/data/1136869/0001193125-11-292603-index.html']\n",
      "['ZBH', '1136869', '10-Q', 2012, 4, 'https://www.sec.gov/Archives/edgar/data/1136869/0001193125-12-454834-index.html']\n",
      "['ZBH', '1136869', '10-Q', 2013, 2, 'https://www.sec.gov/Archives/edgar/data/1136869/0001193125-13-207263-index.html']\n",
      "['ZION', '109380', '10-Q', 2012, 3, 'https://www.sec.gov/Archives/edgar/data/109380/0000109380-12-000345-index.html']\n",
      "1482\n",
      "2158\n",
      "853\n",
      "Wall time: 14min 1s\n"
     ]
    }
   ],
   "source": [
    "%%time\n",
    "\n",
    "list_of_fails2 = []\n",
    "count = 0\n",
    "for fail_item in list_of_fails[:]:\n",
    "    if fail_item[5][-4:] == 'html':\n",
    "        count += 1\n",
    "\n",
    "        selectedsymbol = fail_item[0]\n",
    "        selectedcompany = fail_item[1]\n",
    "        selectedreport = fail_item[2]\n",
    "        year = fail_item[3]\n",
    "        quarter = fail_item[4]\n",
    "\n",
    "        try:\n",
    "            url = \"N/A\"\n",
    "\n",
    "            csv = csvs[(year,quarter)]\n",
    "\n",
    "            csv.columns.values[0] = 'Item'\n",
    "\n",
    "            # companyreport = csv[(csv['Item'].str.contains(f\"/{selectedcompany}/\")) & (csv['Item'].str.contains(selectedreport.lower()))]\n",
    "            companyreport = csv[csv['Item'].map(lambda item: (f\"/{selectedcompany}/\" in item) and (selectedreport.lower() in item))]\n",
    "            if len(companyreport) == 0:\n",
    "                continue\n",
    "\n",
    "            Filing = companyreport['Item'].str.split('|')\n",
    "            # Filing = companyreport.split('|')\n",
    "\n",
    "            Filing = Filing.to_list()\n",
    "\n",
    "            for item in Filing[0]:\n",
    "                \n",
    "                if 'html' in item:\n",
    "                    report = item\n",
    "                    \n",
    "            url = 'https://www.sec.gov/Archives/' + report\n",
    "            url = url.strip()\n",
    "\n",
    "            df = pd.read_html(url)\n",
    "\n",
    "            time.sleep(.12)\n",
    "\n",
    "            document_index = df[0]\n",
    "            document_index = document_index.dropna()\n",
    "\n",
    "            # Method 1\n",
    "            document_name = document_index[document_index['Description'].str.contains(selectedreport)]\n",
    "\n",
    "            # Method 2\n",
    "            if len(document_name) == 0:\n",
    "                document_name = document_index[document_index['Description'].str.contains(selectedreport.replace(\"-\",\"\"))]\n",
    "\n",
    "            # Method 3\n",
    "            if len(document_name) == 0:\n",
    "                document_name = document_index[document_index['Document'].str.contains(selectedreport.replace(\"-\",\"\").lower() + \".htm\")]\n",
    "\n",
    "            document_name = document_name['Document'].str.split(' ')\n",
    "            document_name = document_name[0][0]\n",
    "\n",
    "            report_formatted = report.replace('-','').replace('index.html','')\n",
    "            url = 'https://www.sec.gov/Archives/' + report_formatted.strip() + '/' + document_name # That's the HTM with all the numbers and text\n",
    "\n",
    "            urllib.request.urlretrieve(url, f'./data/{selectedsymbol}/{selectedsymbol}_{year}_{quarter}-{selectedreport}.htm')\n",
    "            time.sleep(.12)\n",
    "        except:\n",
    "            failure = [selectedsymbol,selectedcompany,selectedreport,year,quarter,url]\n",
    "            list_of_fails2.append(failure)\n",
    "            print(failure)\n",
    "\n",
    "\n",
    "print(count)\n",
    "print(len(list_of_fails))\n",
    "print(len(list_of_fails2))\n"
   ]
  },
  {
   "cell_type": "code",
   "execution_count": 119,
   "metadata": {},
   "outputs": [],
   "source": [
    "# pickle.dump(list_of_fails2,open('list_of_fails2','wb'))"
   ]
  },
  {
   "cell_type": "code",
   "execution_count": 121,
   "metadata": {},
   "outputs": [
    {
     "output_type": "stream",
     "name": "stdout",
     "text": [
      "14481\n"
     ]
    }
   ],
   "source": [
    "done_list = []\n",
    "selectedreport = '10-Q'\n",
    "for selectedsymbol in SP500_Symbols:\n",
    "    selectedcompany = symbol2company[selectedsymbol]\n",
    "    for year in years:\n",
    "        for quarter in quarters:\n",
    "            if os.path.isfile(f'./data/{selectedsymbol}/{selectedsymbol}_{year}_{quarter}-{selectedreport}.htm'):\n",
    "                done_list.append([selectedsymbol,selectedcompany,selectedreport,year,quarter])\n",
    "\n",
    "print(len(done_list))\n",
    "# print(to_do_list)"
   ]
  },
  {
   "source": [
    "# Scraping Stocks"
   ],
   "cell_type": "markdown",
   "metadata": {}
  },
  {
   "cell_type": "code",
   "execution_count": 124,
   "metadata": {},
   "outputs": [
    {
     "output_type": "stream",
     "name": "stdout",
     "text": [
      "505\n11\n4\n"
     ]
    }
   ],
   "source": [
    "print(len(SP500_Symbols))\n",
    "print(len(years))\n",
    "print(len(quarters))"
   ]
  },
  {
   "cell_type": "code",
   "execution_count": 131,
   "metadata": {},
   "outputs": [
    {
     "output_type": "execute_result",
     "data": {
      "text/plain": [
       "'MMM ABT ABBV ABMD ACN ATVI ADBE AMD AAP AES AFL A APD AKAM ALK ALB ARE ALXN ALGN ALLE LNT ALL GOOGL GOOG MO AMZN AMCR AEE AAL AEP AXP AIG AMT AWK AMP ABC AME AMGN APH ADI ANSS ANTM AON AOS APA AAPL AMAT APTV ADM ANET AJG AIZ T ATO ADSK ADP AZO AVB AVY BKR BLL BAC BK BAX BDX BRK.B BBY BIO BIIB BLK BA BKNG BWA BXP BSX BMY AVGO BR BF.B CHRW COG CDNS CZR CPB COF CAH KMX CCL CARR CTLT CAT CBOE CBRE CDW CE CNC CNP CERN CF SCHW CHTR CVX CMG CB CHD CI CINF CTAS CSCO C CFG CTXS CLX CME CMS KO CTSH CL CMCSA CMA CAG COP ED STZ COO CPRT GLW CTVA COST CCI CSX CMI CVS DHI DHR DRI DVA DE DAL XRAY DVN DXCM FANG DLR DFS DISCA DISCK DISH DG DLTR D DPZ DOV DOW DTE DUK DRE DD DXC EMN ETN EBAY ECL EIX EW EA EMR ENPH ETR EOG EFX EQIX EQR ESS EL ETSY EVRG ES RE EXC EXPE EXPD EXR XOM FFIV FB FAST FRT FDX FIS FITB FE FRC FISV FLT FLIR FMC F FTNT FTV FBHS FOXA FOX BEN FCX GPS GRMN IT GNRC GD GE GIS GM GPC GILD GL GPN GS GWW HAL HBI HIG HAS HCA PEAK HSIC HSY HES HPE HLT HFC HOLX HD HON HRL HST HWM HPQ HUM HBAN HII IEX IDXX INFO ITW ILMN INCY IR INTC ICE IBM IP IPG IFF INTU ISRG IVZ IPGP IQV IRM JKHY J JBHT SJM JNJ JCI JPM JNPR KSU K KEY KEYS KMB KIM KMI KLAC KHC KR LB LHX LH LRCX LW LVS LEG LDOS LEN LLY LNC LIN LYV LKQ LMT L LOW LUMN LYB MTB MRO MPC MKTX MAR MMC MLM MAS MA MKC MXIM MCD MCK MDT MRK MET MTD MGM MCHP MU MSFT MAA MHK TAP MDLZ MPWR MNST MCO MS MOS MSI MSCI NDAQ NTAP NFLX NWL NEM NWSA NWS NEE NLSN NKE NI NSC NTRS NOC NLOK NCLH NOV NRG NUE NVDA NVR NXPI ORLY OXY ODFL OMC OKE ORCL OTIS PCAR PKG PH PAYX PAYC PYPL PENN PNR PBCT PEP PKI PRGO PFE PM PSX PNW PXD PNC POOL PPG PPL PFG PG PGR PLD PRU PTC PEG PSA PHM PVH QRVO PWR QCOM DGX RL RJF RTX O REG REGN RF RSG RMD RHI ROK ROL ROP ROST RCL SPGI CRM SBAC SLB STX SEE SRE NOW SHW SPG SWKS SNA SO LUV SWK SBUX STT STE SYK SIVB SYF SNPS SYY TMUS TROW TTWO TPR TGT TEL TDY TFX TER TSLA TXN TXT TMO TJX TSCO TT TDG TRV TRMB TFC TWTR TYL TSN UDR ULTA USB UAA UA UNP UAL UNH UPS URI UHS UNM VLO VTR VRSN VRSK VZ VRTX VFC VIAC VTRS V VNO VMC WRB WAB WMT WBA DIS WM WAT WEC WFC WELL WST WDC WU WRK WY WHR WMB WLTW WYNN XEL XLNX XYL YUM ZBRA ZBH ZION ZTS'"
      ]
     },
     "metadata": {},
     "execution_count": 131
    }
   ],
   "source": [
    "tickers = \" \".join(SP500_Symbols)\n",
    "tickers"
   ]
  },
  {
   "cell_type": "code",
   "execution_count": 137,
   "metadata": {},
   "outputs": [
    {
     "output_type": "stream",
     "name": "stdout",
     "text": [
      "[*********************100%***********************]  505 of 505 completed\n",
      "\n",
      "2 Failed downloads:\n",
      "- BRK.B: No data found, symbol may be delisted\n",
      "- BF.B: No data found for this date range, symbol may be delisted\n"
     ]
    }
   ],
   "source": [
    "# data = yf.download(tickers, start=\"2010-01-01\", end=\"2021-3-31\")"
   ]
  },
  {
   "cell_type": "code",
   "execution_count": 138,
   "metadata": {},
   "outputs": [],
   "source": [
    "# pickle.dump(data, open(\"stock_history\",\"wb\"))"
   ]
  },
  {
   "cell_type": "code",
   "execution_count": 139,
   "metadata": {},
   "outputs": [
    {
     "output_type": "execute_result",
     "data": {
      "text/plain": [
       "             Adj Close                                                 \\\n",
       "                     A        AAL         AAP        AAPL        ABBV   \n",
       "Date                                                                    \n",
       "2010-01-04   20.514248   4.496876   38.980095    6.547977         NaN   \n",
       "2010-01-05   20.291416   5.005957   38.748432    6.559296         NaN   \n",
       "2010-01-06   20.219320   4.798555   39.086288    6.454964         NaN   \n",
       "2010-01-07   20.193102   4.939965   39.076641    6.443031         NaN   \n",
       "2010-01-08   20.186556   4.845690   39.231079    6.485865         NaN   \n",
       "...                ...        ...         ...         ...         ...   \n",
       "2021-03-25  121.714798  22.770000  185.649994  120.589996  102.632133   \n",
       "2021-03-26  125.449112  22.930000  187.320007  121.209999  104.706917   \n",
       "2021-03-29  125.229446  22.910000  185.059998  121.389999  105.447906   \n",
       "2021-03-30  124.650322  24.120001  186.070007  119.900002  105.507179   \n",
       "2021-03-31         NaN        NaN         NaN         NaN         NaN   \n",
       "\n",
       "                                                                        ...  \\\n",
       "                   ABC        ABMD         ABT         ACN        ADBE  ...   \n",
       "Date                                                                    ...   \n",
       "2010-01-04   22.419764    8.740000   20.001102   33.614555   37.090000  ...   \n",
       "2010-01-05   22.259808    8.530000   19.839502   33.822308   37.700001  ...   \n",
       "2010-01-06   22.049330    8.400000   19.949684   34.181858   37.619999  ...   \n",
       "2010-01-07   21.695730    8.400000   20.114946   34.149891   36.889999  ...   \n",
       "2010-01-08   21.931467    8.230000   20.217783   34.014061   36.689999  ...   \n",
       "...                ...         ...         ...         ...         ...  ...   \n",
       "2021-03-25  117.339996  294.140015  118.614487  267.781250  450.989990  ...   \n",
       "2021-03-26  118.730003  301.399994  121.623436  279.903717  469.089996  ...   \n",
       "2021-03-29  119.050003  305.769989  121.782860  278.677551  469.320007  ...   \n",
       "2021-03-30  119.059998  309.880005  119.311928  277.690582  465.459991  ...   \n",
       "2021-03-31         NaN         NaN         NaN         NaN         NaN  ...   \n",
       "\n",
       "               Volume                                                          \\\n",
       "                  XEL       XLNX         XOM       XRAY        XYL        YUM   \n",
       "Date                                                                            \n",
       "2010-01-04  2670400.0  2824700.0  27809100.0  1051400.0        NaN  2962200.0   \n",
       "2010-01-05  4321400.0  3469700.0  30174700.0   763400.0        NaN  3298700.0   \n",
       "2010-01-06  2164500.0  6329200.0  35044700.0  1595100.0        NaN  4178900.0   \n",
       "2010-01-07  3041700.0  9252700.0  27192100.0  1096100.0        NaN  2452400.0   \n",
       "2010-01-08  1599100.0  5005800.0  24891800.0   803600.0        NaN  3772300.0   \n",
       "...               ...        ...         ...        ...        ...        ...   \n",
       "2021-03-25  3475400.0  1479400.0  31495900.0  1893500.0  1070700.0  1430400.0   \n",
       "2021-03-26  2643000.0  2360300.0  34226500.0  1131300.0   790900.0  1391400.0   \n",
       "2021-03-29  2379000.0  1792200.0  21144400.0  1237000.0   808900.0  1717900.0   \n",
       "2021-03-30  2284400.0  1594700.0  20303400.0  1664600.0   773800.0  1694000.0   \n",
       "2021-03-31        NaN        NaN         NaN        NaN        NaN        NaN   \n",
       "\n",
       "                                                        \n",
       "                  ZBH      ZBRA        ZION        ZTS  \n",
       "Date                                                    \n",
       "2010-01-04   782400.0  168800.0   3974600.0        NaN  \n",
       "2010-01-05  1718100.0  168800.0   5605500.0        NaN  \n",
       "2010-01-06  1277300.0  385300.0  12615200.0        NaN  \n",
       "2010-01-07  1683500.0  183600.0  24716800.0        NaN  \n",
       "2010-01-08  2149500.0  266500.0   6903000.0        NaN  \n",
       "...               ...       ...         ...        ...  \n",
       "2021-03-25  1081900.0  349000.0   1194300.0  1656600.0  \n",
       "2021-03-26   651900.0  261300.0   1257900.0  1877200.0  \n",
       "2021-03-29   667100.0  235500.0   1059700.0  2044800.0  \n",
       "2021-03-30   762900.0  251400.0   1225500.0  1298000.0  \n",
       "2021-03-31        NaN       NaN         NaN        NaN  \n",
       "\n",
       "[2834 rows x 3030 columns]"
      ],
      "text/html": "<div>\n<style scoped>\n    .dataframe tbody tr th:only-of-type {\n        vertical-align: middle;\n    }\n\n    .dataframe tbody tr th {\n        vertical-align: top;\n    }\n\n    .dataframe thead tr th {\n        text-align: left;\n    }\n\n    .dataframe thead tr:last-of-type th {\n        text-align: right;\n    }\n</style>\n<table border=\"1\" class=\"dataframe\">\n  <thead>\n    <tr>\n      <th></th>\n      <th colspan=\"10\" halign=\"left\">Adj Close</th>\n      <th>...</th>\n      <th colspan=\"10\" halign=\"left\">Volume</th>\n    </tr>\n    <tr>\n      <th></th>\n      <th>A</th>\n      <th>AAL</th>\n      <th>AAP</th>\n      <th>AAPL</th>\n      <th>ABBV</th>\n      <th>ABC</th>\n      <th>ABMD</th>\n      <th>ABT</th>\n      <th>ACN</th>\n      <th>ADBE</th>\n      <th>...</th>\n      <th>XEL</th>\n      <th>XLNX</th>\n      <th>XOM</th>\n      <th>XRAY</th>\n      <th>XYL</th>\n      <th>YUM</th>\n      <th>ZBH</th>\n      <th>ZBRA</th>\n      <th>ZION</th>\n      <th>ZTS</th>\n    </tr>\n    <tr>\n      <th>Date</th>\n      <th></th>\n      <th></th>\n      <th></th>\n      <th></th>\n      <th></th>\n      <th></th>\n      <th></th>\n      <th></th>\n      <th></th>\n      <th></th>\n      <th></th>\n      <th></th>\n      <th></th>\n      <th></th>\n      <th></th>\n      <th></th>\n      <th></th>\n      <th></th>\n      <th></th>\n      <th></th>\n      <th></th>\n    </tr>\n  </thead>\n  <tbody>\n    <tr>\n      <th>2010-01-04</th>\n      <td>20.514248</td>\n      <td>4.496876</td>\n      <td>38.980095</td>\n      <td>6.547977</td>\n      <td>NaN</td>\n      <td>22.419764</td>\n      <td>8.740000</td>\n      <td>20.001102</td>\n      <td>33.614555</td>\n      <td>37.090000</td>\n      <td>...</td>\n      <td>2670400.0</td>\n      <td>2824700.0</td>\n      <td>27809100.0</td>\n      <td>1051400.0</td>\n      <td>NaN</td>\n      <td>2962200.0</td>\n      <td>782400.0</td>\n      <td>168800.0</td>\n      <td>3974600.0</td>\n      <td>NaN</td>\n    </tr>\n    <tr>\n      <th>2010-01-05</th>\n      <td>20.291416</td>\n      <td>5.005957</td>\n      <td>38.748432</td>\n      <td>6.559296</td>\n      <td>NaN</td>\n      <td>22.259808</td>\n      <td>8.530000</td>\n      <td>19.839502</td>\n      <td>33.822308</td>\n      <td>37.700001</td>\n      <td>...</td>\n      <td>4321400.0</td>\n      <td>3469700.0</td>\n      <td>30174700.0</td>\n      <td>763400.0</td>\n      <td>NaN</td>\n      <td>3298700.0</td>\n      <td>1718100.0</td>\n      <td>168800.0</td>\n      <td>5605500.0</td>\n      <td>NaN</td>\n    </tr>\n    <tr>\n      <th>2010-01-06</th>\n      <td>20.219320</td>\n      <td>4.798555</td>\n      <td>39.086288</td>\n      <td>6.454964</td>\n      <td>NaN</td>\n      <td>22.049330</td>\n      <td>8.400000</td>\n      <td>19.949684</td>\n      <td>34.181858</td>\n      <td>37.619999</td>\n      <td>...</td>\n      <td>2164500.0</td>\n      <td>6329200.0</td>\n      <td>35044700.0</td>\n      <td>1595100.0</td>\n      <td>NaN</td>\n      <td>4178900.0</td>\n      <td>1277300.0</td>\n      <td>385300.0</td>\n      <td>12615200.0</td>\n      <td>NaN</td>\n    </tr>\n    <tr>\n      <th>2010-01-07</th>\n      <td>20.193102</td>\n      <td>4.939965</td>\n      <td>39.076641</td>\n      <td>6.443031</td>\n      <td>NaN</td>\n      <td>21.695730</td>\n      <td>8.400000</td>\n      <td>20.114946</td>\n      <td>34.149891</td>\n      <td>36.889999</td>\n      <td>...</td>\n      <td>3041700.0</td>\n      <td>9252700.0</td>\n      <td>27192100.0</td>\n      <td>1096100.0</td>\n      <td>NaN</td>\n      <td>2452400.0</td>\n      <td>1683500.0</td>\n      <td>183600.0</td>\n      <td>24716800.0</td>\n      <td>NaN</td>\n    </tr>\n    <tr>\n      <th>2010-01-08</th>\n      <td>20.186556</td>\n      <td>4.845690</td>\n      <td>39.231079</td>\n      <td>6.485865</td>\n      <td>NaN</td>\n      <td>21.931467</td>\n      <td>8.230000</td>\n      <td>20.217783</td>\n      <td>34.014061</td>\n      <td>36.689999</td>\n      <td>...</td>\n      <td>1599100.0</td>\n      <td>5005800.0</td>\n      <td>24891800.0</td>\n      <td>803600.0</td>\n      <td>NaN</td>\n      <td>3772300.0</td>\n      <td>2149500.0</td>\n      <td>266500.0</td>\n      <td>6903000.0</td>\n      <td>NaN</td>\n    </tr>\n    <tr>\n      <th>...</th>\n      <td>...</td>\n      <td>...</td>\n      <td>...</td>\n      <td>...</td>\n      <td>...</td>\n      <td>...</td>\n      <td>...</td>\n      <td>...</td>\n      <td>...</td>\n      <td>...</td>\n      <td>...</td>\n      <td>...</td>\n      <td>...</td>\n      <td>...</td>\n      <td>...</td>\n      <td>...</td>\n      <td>...</td>\n      <td>...</td>\n      <td>...</td>\n      <td>...</td>\n      <td>...</td>\n    </tr>\n    <tr>\n      <th>2021-03-25</th>\n      <td>121.714798</td>\n      <td>22.770000</td>\n      <td>185.649994</td>\n      <td>120.589996</td>\n      <td>102.632133</td>\n      <td>117.339996</td>\n      <td>294.140015</td>\n      <td>118.614487</td>\n      <td>267.781250</td>\n      <td>450.989990</td>\n      <td>...</td>\n      <td>3475400.0</td>\n      <td>1479400.0</td>\n      <td>31495900.0</td>\n      <td>1893500.0</td>\n      <td>1070700.0</td>\n      <td>1430400.0</td>\n      <td>1081900.0</td>\n      <td>349000.0</td>\n      <td>1194300.0</td>\n      <td>1656600.0</td>\n    </tr>\n    <tr>\n      <th>2021-03-26</th>\n      <td>125.449112</td>\n      <td>22.930000</td>\n      <td>187.320007</td>\n      <td>121.209999</td>\n      <td>104.706917</td>\n      <td>118.730003</td>\n      <td>301.399994</td>\n      <td>121.623436</td>\n      <td>279.903717</td>\n      <td>469.089996</td>\n      <td>...</td>\n      <td>2643000.0</td>\n      <td>2360300.0</td>\n      <td>34226500.0</td>\n      <td>1131300.0</td>\n      <td>790900.0</td>\n      <td>1391400.0</td>\n      <td>651900.0</td>\n      <td>261300.0</td>\n      <td>1257900.0</td>\n      <td>1877200.0</td>\n    </tr>\n    <tr>\n      <th>2021-03-29</th>\n      <td>125.229446</td>\n      <td>22.910000</td>\n      <td>185.059998</td>\n      <td>121.389999</td>\n      <td>105.447906</td>\n      <td>119.050003</td>\n      <td>305.769989</td>\n      <td>121.782860</td>\n      <td>278.677551</td>\n      <td>469.320007</td>\n      <td>...</td>\n      <td>2379000.0</td>\n      <td>1792200.0</td>\n      <td>21144400.0</td>\n      <td>1237000.0</td>\n      <td>808900.0</td>\n      <td>1717900.0</td>\n      <td>667100.0</td>\n      <td>235500.0</td>\n      <td>1059700.0</td>\n      <td>2044800.0</td>\n    </tr>\n    <tr>\n      <th>2021-03-30</th>\n      <td>124.650322</td>\n      <td>24.120001</td>\n      <td>186.070007</td>\n      <td>119.900002</td>\n      <td>105.507179</td>\n      <td>119.059998</td>\n      <td>309.880005</td>\n      <td>119.311928</td>\n      <td>277.690582</td>\n      <td>465.459991</td>\n      <td>...</td>\n      <td>2284400.0</td>\n      <td>1594700.0</td>\n      <td>20303400.0</td>\n      <td>1664600.0</td>\n      <td>773800.0</td>\n      <td>1694000.0</td>\n      <td>762900.0</td>\n      <td>251400.0</td>\n      <td>1225500.0</td>\n      <td>1298000.0</td>\n    </tr>\n    <tr>\n      <th>2021-03-31</th>\n      <td>NaN</td>\n      <td>NaN</td>\n      <td>NaN</td>\n      <td>NaN</td>\n      <td>NaN</td>\n      <td>NaN</td>\n      <td>NaN</td>\n      <td>NaN</td>\n      <td>NaN</td>\n      <td>NaN</td>\n      <td>...</td>\n      <td>NaN</td>\n      <td>NaN</td>\n      <td>NaN</td>\n      <td>NaN</td>\n      <td>NaN</td>\n      <td>NaN</td>\n      <td>NaN</td>\n      <td>NaN</td>\n      <td>NaN</td>\n      <td>NaN</td>\n    </tr>\n  </tbody>\n</table>\n<p>2834 rows × 3030 columns</p>\n</div>"
     },
     "metadata": {},
     "execution_count": 139
    }
   ],
   "source": [
    "data"
   ]
  },
  {
   "cell_type": "code",
   "execution_count": 147,
   "metadata": {},
   "outputs": [
    {
     "output_type": "stream",
     "name": "stdout",
     "text": [
      "Index(['Adj Close', 'Close', 'High', 'Low', 'Open', 'Volume'], dtype='object')\nIndex(['A', 'AAL', 'AAP', 'AAPL', 'ABBV', 'ABC', 'ABMD', 'ABT', 'ACN', 'ADBE',\n       ...\n       'XEL', 'XLNX', 'XOM', 'XRAY', 'XYL', 'YUM', 'ZBH', 'ZBRA', 'ZION',\n       'ZTS'],\n      dtype='object', length=505)\n"
     ]
    }
   ],
   "source": [
    "print(data.columns.levels[0])\n",
    "print(data.columns.levels[1])"
   ]
  },
  {
   "source": [
    "# Extracting Data Out of Scrapes"
   ],
   "cell_type": "markdown",
   "metadata": {}
  },
  {
   "cell_type": "code",
   "execution_count": 13,
   "metadata": {},
   "outputs": [
    {
     "output_type": "stream",
     "name": "stdout",
     "text": [
      "7.168811881188119\n"
     ]
    }
   ],
   "source": [
    "done_list = []\n",
    "selectedreport = '10-Q'\n",
    "for selectedsymbol in SP500_Symbols:\n",
    "    selectedcompany = symbol2company[selectedsymbol]\n",
    "    for year in years:\n",
    "        for quarter in quarters:\n",
    "            if os.path.isfile(f'./data/{selectedsymbol}/{selectedsymbol}_{year}_{quarter}-{selectedreport}.htm'):\n",
    "                done_list.append([selectedsymbol,selectedcompany,selectedreport,year,quarter])\n",
    "\n",
    "print(len(done_list)/len(SP500_Symbols)/len(quarters))"
   ]
  },
  {
   "cell_type": "code",
   "execution_count": 11,
   "metadata": {},
   "outputs": [
    {
     "output_type": "execute_result",
     "data": {
      "text/plain": [
       "41.666666666666664"
      ]
     },
     "metadata": {},
     "execution_count": 11
    }
   ],
   "source": [
    "15000*10/60/60"
   ]
  },
  {
   "cell_type": "code",
   "execution_count": 14,
   "metadata": {
    "tags": [
     "outputPrepend"
    ]
   },
   "outputs": [
    {
     "output_type": "stream",
     "name": "stdout",
     "text": [
      "809 -> 1.4329874515533447 s\n",
      "13810 -> 0.7457399368286133 s\n",
      "13811 -> 1.4692139625549316 s\n",
      "13812 -> 0.7930383682250977 s\n",
      "13813 -> 1.6681077480316162 s\n",
      "13814 -> 0.7149360179901123 s\n",
      "13815 -> 1.2378289699554443 s\n",
      "13816 -> 1.2352662086486816 s\n",
      "13817 -> 9.730022192001343 s\n",
      "13818 -> 10.813421964645386 s\n",
      "13819 -> 1.8906991481781006 s\n",
      "13820 -> 2.709219217300415 s\n",
      "13821 -> 2.679813861846924 s\n",
      "13822 -> 3.4421908855438232 s\n",
      "13823 -> 3.400707483291626 s\n",
      "13824 -> 2.1375460624694824 s\n",
      "13825 -> 0.025633573532104492 s\n",
      "13826 -> 4.348499536514282 s\n",
      "13827 -> 2.2939183712005615 s\n",
      "13828 -> 4.797140836715698 s\n",
      "13829 -> 5.126198768615723 s\n",
      "13830 -> 2.3660526275634766 s\n",
      "13831 -> 4.043329238891602 s\n",
      "13832 -> 4.501244783401489 s\n",
      "13833 -> 1.876558780670166 s\n",
      "13834 -> 4.58755350112915 s\n",
      "13835 -> 5.037110090255737 s\n",
      "13836 -> 2.4399526119232178 s\n",
      "13837 -> 4.930513620376587 s\n",
      "13838 -> 4.884355545043945 s\n",
      "13839 -> 2.3153653144836426 s\n",
      "13840 -> 4.010316848754883 s\n",
      "13841 -> 4.080643892288208 s\n",
      "13842 -> 1.6371164321899414 s\n",
      "13843 -> 3.1712920665740967 s\n",
      "13844 -> 5.874074697494507 s\n",
      "13845 -> 2.669102907180786 s\n",
      "13846 -> 5.788958787918091 s\n",
      "13847 -> 5.824087142944336 s\n",
      "13848 -> 3.1201610565185547 s\n",
      "13849 -> 1.8832204341888428 s\n",
      "13850 -> 1.8677539825439453 s\n",
      "13851 -> 0.8867807388305664 s\n",
      "13852 -> 0.9241166114807129 s\n",
      "13853 -> 0.9968709945678711 s\n",
      "13854 -> 0.36915135383605957 s\n",
      "13855 -> 0.552924394607544 s\n",
      "13856 -> 0.5364570617675781 s\n",
      "13857 -> 0.3749871253967285 s\n",
      "13858 -> 0.57908034324646 s\n",
      "13859 -> 0.8315374851226807 s\n",
      "13860 -> 0.8184833526611328 s\n",
      "13861 -> 0.6593177318572998 s\n",
      "13862 -> 1.1376557350158691 s\n",
      "13863 -> 0.8829152584075928 s\n",
      "13864 -> 1.2660503387451172 s\n",
      "13865 -> 1.0704700946807861 s\n",
      "13866 -> 0.5655605792999268 s\n",
      "13867 -> 0.9455082416534424 s\n",
      "13868 -> 0.9011449813842773 s\n",
      "13869 -> 0.5726785659790039 s\n",
      "13870 -> 0.9738061428070068 s\n",
      "13871 -> 0.024507999420166016 s\n",
      "13872 -> 0.6367015838623047 s\n",
      "13873 -> 0.9595000743865967 s\n",
      "13874 -> 0.9274740219116211 s\n",
      "13875 -> 0.774538516998291 s\n",
      "13876 -> 1.2051799297332764 s\n",
      "13877 -> 1.2794651985168457 s\n",
      "13878 -> 1.000476598739624 s\n",
      "13879 -> 2.7839748859405518 s\n",
      "13880 -> 2.8950552940368652 s\n",
      "13881 -> 1.2754719257354736 s\n",
      "13882 -> 2.2576959133148193 s\n",
      "13883 -> 1.4524431228637695 s\n",
      "13884 -> 0.668759822845459 s\n",
      "13885 -> 1.227644681930542 s\n",
      "13886 -> 1.293703317642212 s\n",
      "13887 -> 0.7265949249267578 s\n",
      "13888 -> 1.3182764053344727 s\n",
      "13889 -> 1.191854476928711 s\n",
      "13890 -> 0.6796054840087891 s\n",
      "13891 -> 1.2170755863189697 s\n",
      "13892 -> 1.204249382019043 s\n",
      "13893 -> 0.7287769317626953 s\n",
      "13894 -> 1.3001458644866943 s\n",
      "13895 -> 1.2440474033355713 s\n",
      "13896 -> 1.7544896602630615 s\n",
      "13897 -> 1.7218246459960938 s\n",
      "13898 -> 1.0716056823730469 s\n",
      "13899 -> 1.7493078708648682 s\n",
      "13900 -> 1.907144546508789 s\n",
      "13901 -> 1.1739857196807861 s\n",
      "13902 -> 2.038483142852783 s\n",
      "13903 -> 2.0853562355041504 s\n",
      "13904 -> 1.6522564888000488 s\n",
      "13905 -> 2.931976556777954 s\n",
      "13906 -> 3.4988157749176025 s\n",
      "13907 -> 1.9576287269592285 s\n",
      "13908 -> 5.60616397857666 s\n",
      "13909 -> 6.9575300216674805 s\n",
      "13910 -> 2.5204219818115234 s\n",
      "13911 -> 2.6496520042419434 s\n",
      "13912 -> 2.371225357055664 s\n",
      "13913 -> 63.23157453536987 s\n",
      "13914 -> 103.40683674812317 s\n",
      "13915 -> 112.17715382575989 s\n",
      "13916 -> 163.3299036026001 s\n",
      "13917 -> 254.21890473365784 s\n",
      "13918 -> 340.96128487586975 s\n",
      "13919 -> 241.17483711242676 s\n",
      "13920 -> 427.54905700683594 s\n",
      "13921 -> 362.90527057647705 s\n",
      "13922 -> 262.4142143726349 s\n",
      "13923 -> 446.3153748512268 s\n",
      "13924 -> 583.785263299942 s\n",
      "13925 -> 448.6208462715149 s\n",
      "13926 -> 702.3277471065521 s\n",
      "13927 -> 699.5058970451355 s\n",
      "13928 -> 1.3032395839691162 s\n",
      "13929 -> 1.866912603378296 s\n",
      "13930 -> 1.959052562713623 s\n",
      "13931 -> 1.5385544300079346 s\n",
      "13932 -> 1.968489408493042 s\n",
      "13933 -> 2.0820508003234863 s\n",
      "13934 -> 1.3509457111358643 s\n",
      "13935 -> 1.7386226654052734 s\n",
      "13936 -> 1.7022793292999268 s\n",
      "13937 -> 1.2879891395568848 s\n",
      "13938 -> 1.6683402061462402 s\n",
      "13939 -> 1.823822259902954 s\n",
      "13940 -> 1.433058500289917 s\n",
      "13941 -> 2.3385674953460693 s\n",
      "13942 -> 2.481842041015625 s\n",
      "13943 -> 155.04284644126892 s\n",
      "13944 -> 281.56721234321594 s\n",
      "13945 -> 65.31312417984009 s\n",
      "13946 -> 3.8403842449188232 s\n",
      "13947 -> 9.427655220031738 s\n",
      "13948 -> 8.544580936431885 s\n",
      "13949 -> 18.34801983833313 s\n",
      "13950 -> 21.008031606674194 s\n",
      "13951 -> 46.547940492630005 s\n",
      "13952 -> 0.02114248275756836 s\n",
      "13953 -> 17.831562995910645 s\n",
      "13954 -> 43.127694845199585 s\n",
      "13955 -> 51.08149170875549 s\n",
      "13956 -> 19.37333035469055 s\n",
      "13957 -> 47.85309886932373 s\n",
      "13958 -> 56.34353041648865 s\n",
      "13959 -> 21.883195400238037 s\n",
      "13960 -> 53.52838373184204 s\n",
      "13961 -> 58.206058502197266 s\n",
      "13962 -> 22.615597009658813 s\n",
      "13963 -> 47.968942403793335 s\n",
      "13964 -> 51.7756187915802 s\n",
      "13965 -> 20.444749116897583 s\n",
      "13966 -> 49.35210084915161 s\n",
      "13967 -> 55.09977912902832 s\n",
      "13968 -> 20.849328756332397 s\n",
      "13969 -> 8.090766906738281 s\n",
      "13970 -> 9.682273864746094 s\n",
      "13971 -> 4.410555601119995 s\n",
      "13972 -> 11.177064418792725 s\n",
      "13973 -> 12.388216257095337 s\n",
      "13974 -> 3.9470527172088623 s\n",
      "13975 -> 3.011540412902832 s\n",
      "13976 -> 0.4698958396911621 s\n",
      "13977 -> 0.7879698276519775 s\n",
      "13978 -> 0.7435235977172852 s\n",
      "13979 -> 0.479520320892334 s\n",
      "13980 -> 0.028224706649780273 s\n",
      "13981 -> 0.7608158588409424 s\n",
      "13982 -> 0.5009157657623291 s\n",
      "13983 -> 0.8143045902252197 s\n",
      "13984 -> 0.5529792308807373 s\n",
      "13985 -> 0.36376070976257324 s\n",
      "13986 -> 0.5802795886993408 s\n",
      "13987 -> 0.6021842956542969 s\n",
      "13988 -> 0.41532397270202637 s\n",
      "13989 -> 0.5764267444610596 s\n",
      "13990 -> 0.5784804821014404 s\n",
      "13991 -> 0.3746962547302246 s\n",
      "13992 -> 0.5859429836273193 s\n",
      "13993 -> 0.615135908126831 s\n",
      "13994 -> 0.39687085151672363 s\n",
      "13995 -> 0.5910422801971436 s\n",
      "13996 -> 0.6537084579467773 s\n",
      "13997 -> 0.4114339351654053 s\n",
      "13998 -> 0.6051363945007324 s\n",
      "13999 -> 0.6310548782348633 s\n",
      "14000 -> 0.48747944831848145 s\n",
      "14001 -> 0.7078037261962891 s\n",
      "14002 -> 0.7016499042510986 s\n",
      "14003 -> 0.49656105041503906 s\n",
      "14004 -> 0.9922120571136475 s\n",
      "14005 -> 1.0452954769134521 s\n",
      "14006 -> 0.5054159164428711 s\n",
      "14007 -> 0.720405101776123 s\n",
      "14008 -> 0.6448507308959961 s\n",
      "14009 -> 0.5464315414428711 s\n",
      "14010 -> 0.5033369064331055 s\n",
      "14011 -> 0.5221107006072998 s\n",
      "14012 -> 0.5783834457397461 s\n",
      "14013 -> 0.7088823318481445 s\n",
      "14014 -> 0.75323486328125 s\n",
      "14015 -> 0.9580287933349609 s\n",
      "14016 -> 1.1332967281341553 s\n",
      "14017 -> 0.740300178527832 s\n",
      "14018 -> 1.009720802307129 s\n",
      "14019 -> 1.125870704650879 s\n",
      "14020 -> 0.6287055015563965 s\n",
      "14021 -> 0.6748044490814209 s\n",
      "14022 -> 0.7001657485961914 s\n",
      "14023 -> 0.6038811206817627 s\n",
      "14024 -> 0.750455379486084 s\n",
      "14025 -> 0.7626700401306152 s\n",
      "14026 -> 0.6547820568084717 s\n",
      "14027 -> 0.7427752017974854 s\n",
      "14028 -> 0.661848783493042 s\n",
      "14029 -> 1.1225855350494385 s\n",
      "14030 -> 2.5627002716064453 s\n",
      "14031 -> 2.3729794025421143 s\n",
      "14032 -> 1.462341070175171 s\n",
      "14033 -> 2.3846590518951416 s\n",
      "14034 -> 2.4664859771728516 s\n",
      "14035 -> 1.4662401676177979 s\n",
      "14036 -> 2.5355329513549805 s\n",
      "14037 -> 2.6780967712402344 s\n",
      "14038 -> 1.6711046695709229 s\n",
      "14039 -> 2.710508108139038 s\n",
      "14040 -> 1.0217602252960205 s\n",
      "14041 -> 0.7449579238891602 s\n",
      "14042 -> 0.736943244934082 s\n",
      "14043 -> 1.3353824615478516 s\n",
      "14044 -> 1.3267087936401367 s\n",
      "14045 -> 0.8885793685913086 s\n",
      "14046 -> 1.4933395385742188 s\n",
      "14047 -> 1.3660945892333984 s\n",
      "14048 -> 0.5016818046569824 s\n",
      "14049 -> 0.7367045879364014 s\n",
      "14050 -> 0.7550938129425049 s\n",
      "14051 -> 0.5439937114715576 s\n",
      "14052 -> 0.8040952682495117 s\n",
      "14053 -> 0.861029863357544 s\n",
      "14054 -> 0.5302588939666748 s\n",
      "14055 -> 0.8628125190734863 s\n",
      "14056 -> 0.8445925712585449 s\n",
      "14057 -> 0.5041286945343018 s\n",
      "14058 -> 0.7796998023986816 s\n",
      "14059 -> 0.8078300952911377 s\n",
      "14060 -> 0.5587763786315918 s\n",
      "14061 -> 0.8117275238037109 s\n",
      "14062 -> 0.8494374752044678 s\n",
      "14063 -> 0.5497684478759766 s\n",
      "14064 -> 0.8529877662658691 s\n",
      "14065 -> 0.8079817295074463 s\n",
      "14066 -> 0.5862894058227539 s\n",
      "14067 -> 0.894559383392334 s\n",
      "14068 -> 0.8961796760559082 s\n",
      "14069 -> 2.837437391281128 s\n",
      "14070 -> 1.4483842849731445 s\n",
      "14071 -> 1.7286863327026367 s\n",
      "14072 -> 0.9383611679077148 s\n",
      "14073 -> 1.5442194938659668 s\n",
      "14074 -> 1.665891170501709 s\n",
      "14075 -> 1.0661962032318115 s\n",
      "14076 -> 0.7849760055541992 s\n",
      "14077 -> 1.3067097663879395 s\n",
      "14078 -> 1.4177677631378174 s\n",
      "14079 -> 0.748509407043457 s\n",
      "14080 -> 1.277198076248169 s\n",
      "14081 -> 1.433304786682129 s\n",
      "14082 -> 0.6274135112762451 s\n",
      "14083 -> 3.1439802646636963 s\n",
      "14084 -> 6.959351301193237 s\n",
      "14085 -> 16.365187644958496 s\n",
      "14086 -> 18.956254720687866 s\n",
      "14087 -> 6.793556213378906 s\n",
      "14088 -> 17.149802923202515 s\n",
      "14089 -> 17.903046369552612 s\n",
      "14090 -> 1.4477367401123047 s\n",
      "14091 -> 0.02503037452697754 s\n",
      "14092 -> 3.1439096927642822 s\n",
      "14093 -> 1.2179670333862305 s\n",
      "14094 -> 1.3038151264190674 s\n",
      "14095 -> 0.6885440349578857 s\n",
      "14096 -> 1.0463767051696777 s\n",
      "14097 -> 1.1256129741668701 s\n",
      "14098 -> 0.6031696796417236 s\n",
      "14099 -> 1.1242294311523438 s\n",
      "14100 -> 1.1646850109100342 s\n",
      "14101 -> 0.6051759719848633 s\n",
      "14102 -> 1.0217952728271484 s\n",
      "14103 -> 1.0571930408477783 s\n",
      "14104 -> 0.6979718208312988 s\n",
      "14105 -> 1.1474666595458984 s\n",
      "14106 -> 1.2378222942352295 s\n",
      "14107 -> 0.036663055419921875 s\n",
      "14108 -> 2.6618306636810303 s\n",
      "14109 -> 1.7018451690673828 s\n",
      "14110 -> 0.7849109172821045 s\n",
      "14111 -> 1.3473360538482666 s\n",
      "14112 -> 1.447782278060913 s\n",
      "14113 -> 0.6871726512908936 s\n",
      "14114 -> 1.3097178936004639 s\n",
      "14115 -> 1.3300659656524658 s\n",
      "14116 -> 0.7109944820404053 s\n",
      "14117 -> 2.9280214309692383 s\n",
      "14118 -> 3.0848124027252197 s\n",
      "14119 -> 1.2815742492675781 s\n",
      "14120 -> 2.8267340660095215 s\n",
      "14121 -> 2.7142221927642822 s\n",
      "14122 -> 0.4734518527984619 s\n",
      "14123 -> 0.7918057441711426 s\n",
      "14124 -> 0.9321010112762451 s\n",
      "14125 -> 0.5991184711456299 s\n",
      "14126 -> 0.8270013332366943 s\n",
      "14127 -> 0.4823014736175537 s\n",
      "14128 -> 0.6990866661071777 s\n",
      "14129 -> 0.7222771644592285 s\n",
      "14130 -> 0.4435148239135742 s\n",
      "14131 -> 0.7212941646575928 s\n",
      "14132 -> 0.6980245113372803 s\n",
      "14133 -> 0.3971080780029297 s\n",
      "14134 -> 0.6691241264343262 s\n",
      "14135 -> 0.7283065319061279 s\n",
      "14136 -> 0.45526814460754395 s\n",
      "14137 -> 0.7780282497406006 s\n",
      "14138 -> 0.8068218231201172 s\n",
      "14139 -> 0.4510469436645508 s\n",
      "14140 -> 0.7709059715270996 s\n",
      "14141 -> 0.6828279495239258 s\n",
      "14142 -> 0.4310293197631836 s\n",
      "14143 -> 0.6767177581787109 s\n",
      "14144 -> 0.6871368885040283 s\n",
      "14145 -> 0.5256168842315674 s\n",
      "14146 -> 0.9220707416534424 s\n",
      "14147 -> 0.908088207244873 s\n",
      "14148 -> 0.6529924869537354 s\n",
      "14149 -> 1.2690403461456299 s\n",
      "14150 -> 1.395543098449707 s\n",
      "14151 -> 0.8119955062866211 s\n",
      "14152 -> 1.340080738067627 s\n",
      "14153 -> 0.9011554718017578 s\n",
      "14154 -> 1.0392792224884033 s\n",
      "14155 -> 0.03473210334777832 s\n",
      "14156 -> 2.0363221168518066 s\n",
      "14157 -> 0.9581799507141113 s\n",
      "14158 -> 1.8705997467041016 s\n",
      "14159 -> 2.9590091705322266 s\n",
      "14160 -> 1.1131350994110107 s\n",
      "14161 -> 1.8762052059173584 s\n",
      "14162 -> 2.019772529602051 s\n",
      "14163 -> 1.1466670036315918 s\n",
      "14164 -> 1.705733060836792 s\n",
      "14165 -> 1.078949213027954 s\n",
      "14166 -> 0.6523768901824951 s\n",
      "14167 -> 1.0344436168670654 s\n",
      "14168 -> 1.1865053176879883 s\n",
      "14169 -> 0.6420884132385254 s\n",
      "14170 -> 0.9652445316314697 s\n",
      "14171 -> 1.133547306060791 s\n",
      "14172 -> 0.7593472003936768 s\n",
      "14173 -> 1.040215253829956 s\n",
      "14174 -> 1.0476570129394531 s\n",
      "14175 -> 0.6741034984588623 s\n",
      "14176 -> 0.960512638092041 s\n",
      "14177 -> 1.0408601760864258 s\n",
      "14178 -> 0.8079028129577637 s\n",
      "14179 -> 1.3237786293029785 s\n",
      "14180 -> 1.630713701248169 s\n",
      "14181 -> 0.8268401622772217 s\n",
      "14182 -> 2.3396353721618652 s\n",
      "14183 -> 2.66784405708313 s\n",
      "14184 -> 1.0624597072601318 s\n",
      "14185 -> 2.2148454189300537 s\n",
      "14186 -> 0.8532495498657227 s\n",
      "14187 -> 7.357724666595459 s\n",
      "14188 -> 18.84577441215515 s\n",
      "14189 -> 18.548441410064697 s\n",
      "14190 -> 10.09400200843811 s\n",
      "14191 -> 22.999844074249268 s\n",
      "14192 -> 14.662392139434814 s\n",
      "14193 -> 34.11975169181824 s\n",
      "14194 -> 37.83720660209656 s\n",
      "14195 -> 3.3261945247650146 s\n",
      "14196 -> 7.865528583526611 s\n",
      "14197 -> 17.252626180648804 s\n",
      "14198 -> 8.654031038284302 s\n",
      "14199 -> 24.60896635055542 s\n",
      "14200 -> 28.055032968521118 s\n",
      "14201 -> 9.082210540771484 s\n",
      "14202 -> 23.98992347717285 s\n",
      "14203 -> 8.181410074234009 s\n",
      "14204 -> 19.793227910995483 s\n",
      "14205 -> 20.656346321105957 s\n",
      "14206 -> 6.619875907897949 s\n",
      "14207 -> 16.54282546043396 s\n",
      "14208 -> 17.145022869110107 s\n",
      "14209 -> 7.063607692718506 s\n",
      "14210 -> 5.506303548812866 s\n",
      "14211 -> 32.08335208892822 s\n",
      "14212 -> 6.741707801818848 s\n",
      "14213 -> 21.67134737968445 s\n",
      "14214 -> 26.626356601715088 s\n",
      "14215 -> 2.498335599899292 s\n",
      "14216 -> 6.434972763061523 s\n",
      "14217 -> 7.7985382080078125 s\n",
      "14218 -> 0.4823760986328125 s\n",
      "14219 -> 0.564976692199707 s\n",
      "14220 -> 0.5944602489471436 s\n",
      "14221 -> 0.39811015129089355 s\n",
      "14222 -> 0.6070115566253662 s\n",
      "14223 -> 0.6635787487030029 s\n",
      "14224 -> 0.6211276054382324 s\n",
      "14225 -> 0.9197275638580322 s\n",
      "14226 -> 1.0216162204742432 s\n",
      "14227 -> 0.7137038707733154 s\n",
      "14228 -> 1.144892930984497 s\n",
      "14229 -> 1.0681827068328857 s\n",
      "14230 -> 0.4834597110748291 s\n",
      "14231 -> 0.7041840553283691 s\n",
      "14232 -> 0.7008175849914551 s\n",
      "14233 -> 0.6268041133880615 s\n",
      "14234 -> 0.8609411716461182 s\n",
      "14235 -> 0.8845367431640625 s\n",
      "14236 -> 0.6101160049438477 s\n",
      "14237 -> 0.8866398334503174 s\n",
      "14238 -> 1.0577600002288818 s\n",
      "14239 -> 0.6556484699249268 s\n",
      "14240 -> 1.091322898864746 s\n",
      "14241 -> 1.1000933647155762 s\n",
      "14242 -> 0.9969813823699951 s\n",
      "14243 -> 1.2713682651519775 s\n",
      "14244 -> 1.2801294326782227 s\n",
      "14245 -> 0.9349474906921387 s\n",
      "14246 -> 2.1127004623413086 s\n",
      "14247 -> 2.402615785598755 s\n",
      "14248 -> 0.5435929298400879 s\n",
      "14249 -> 1.0607171058654785 s\n",
      "14250 -> 0.8487422466278076 s\n",
      "14251 -> 3.004575490951538 s\n",
      "14252 -> 5.744871377944946 s\n",
      "14253 -> 4.688099384307861 s\n",
      "14254 -> 2.3712410926818848 s\n",
      "14255 -> 4.1443281173706055 s\n",
      "14256 -> 4.421846628189087 s\n",
      "14257 -> 2.2813100814819336 s\n",
      "14258 -> 4.200246572494507 s\n",
      "14259 -> 2.9760353565216064 s\n",
      "14260 -> 2.759124279022217 s\n",
      "14261 -> 2.518378257751465 s\n",
      "14262 -> 2.641054153442383 s\n",
      "14263 -> 1.504826545715332 s\n",
      "14264 -> 2.645334482192993 s\n",
      "14265 -> 2.9126195907592773 s\n",
      "14266 -> 1.651151180267334 s\n",
      "14267 -> 2.836991310119629 s\n",
      "14268 -> 2.7322094440460205 s\n",
      "14269 -> 1.628157138824463 s\n",
      "14270 -> 2.4826180934906006 s\n",
      "14271 -> 2.7522428035736084 s\n",
      "14272 -> 1.5607852935791016 s\n",
      "14273 -> 2.5157556533813477 s\n",
      "14274 -> 1.5678377151489258 s\n",
      "14275 -> 2.642470598220825 s\n",
      "14276 -> 2.7790679931640625 s\n",
      "14277 -> 1.3812603950500488 s\n",
      "14278 -> 2.7133102416992188 s\n",
      "14279 -> 3.205812692642212 s\n",
      "14280 -> 1.811694860458374 s\n",
      "14281 -> 1.4609112739562988 s\n",
      "14282 -> 1.2674744129180908 s\n",
      "14283 -> 0.894862174987793 s\n",
      "14284 -> 1.243173599243164 s\n",
      "14285 -> 1.3196330070495605 s\n",
      "14286 -> 1.2519786357879639 s\n",
      "14287 -> 1.4960060119628906 s\n",
      "14288 -> 1.8757104873657227 s\n",
      "14289 -> 0.8716604709625244 s\n",
      "14290 -> 0.934166431427002 s\n",
      "14291 -> 0.6731128692626953 s\n",
      "14292 -> 0.8865571022033691 s\n",
      "14293 -> 0.9227502346038818 s\n",
      "14294 -> 0.7517116069793701 s\n",
      "14295 -> 0.9304137229919434 s\n",
      "14296 -> 0.9250133037567139 s\n",
      "14297 -> 0.7400989532470703 s\n",
      "14298 -> 0.8977081775665283 s\n",
      "14299 -> 0.9689879417419434 s\n",
      "14300 -> 0.7209148406982422 s\n",
      "14301 -> 0.9202795028686523 s\n",
      "14302 -> 0.9205241203308105 s\n",
      "14303 -> 0.7818684577941895 s\n",
      "14304 -> 0.9252760410308838 s\n",
      "14305 -> 0.9194467067718506 s\n",
      "14306 -> 0.7433891296386719 s\n",
      "14307 -> 0.952578067779541 s\n",
      "14308 -> 0.9185729026794434 s\n",
      "14309 -> 0.8608477115631104 s\n",
      "14310 -> 1.1923105716705322 s\n",
      "14311 -> 1.2011327743530273 s\n",
      "14312 -> 0.5419886112213135 s\n",
      "14313 -> 0.5924851894378662 s\n",
      "14314 -> 1.1977174282073975 s\n",
      "14315 -> 0.730170726776123 s\n",
      "14316 -> 1.3722941875457764 s\n",
      "14317 -> 0.7226419448852539 s\n",
      "14318 -> 0.48801755905151367 s\n",
      "14319 -> 0.7690615653991699 s\n",
      "14320 -> 0.8002257347106934 s\n",
      "14321 -> 0.4488348960876465 s\n",
      "14322 -> 0.6694388389587402 s\n",
      "14323 -> 0.7370729446411133 s\n",
      "14324 -> 0.4222567081451416 s\n",
      "14325 -> 0.6871652603149414 s\n",
      "14326 -> 0.6737174987792969 s\n",
      "14327 -> 0.48270177841186523 s\n",
      "14328 -> 0.7212710380554199 s\n",
      "14329 -> 0.8633632659912109 s\n",
      "14330 -> 0.6809847354888916 s\n",
      "14331 -> 1.0274839401245117 s\n",
      "14332 -> 1.0635466575622559 s\n",
      "14333 -> 0.7902557849884033 s\n",
      "14334 -> 1.3235797882080078 s\n",
      "14335 -> 1.7635431289672852 s\n",
      "14336 -> 1.0144085884094238 s\n",
      "14337 -> 1.7794907093048096 s\n",
      "14338 -> 2.068516254425049 s\n",
      "14339 -> 0.734447717666626 s\n",
      "14340 -> 1.2275075912475586 s\n",
      "14341 -> 0.990828275680542 s\n",
      "14342 -> 1.479391098022461 s\n",
      "14343 -> 2.3089659214019775 s\n",
      "14344 -> 2.2987515926361084 s\n",
      "14345 -> 1.4929661750793457 s\n",
      "14346 -> 0.9761090278625488 s\n",
      "14347 -> 0.8985614776611328 s\n",
      "14348 -> 0.6444838047027588 s\n",
      "14349 -> 1.0927927494049072 s\n",
      "14350 -> 1.1281795501708984 s\n",
      "14351 -> 1.3231313228607178 s\n",
      "14352 -> 1.3326961994171143 s\n",
      "14353 -> 1.369257926940918 s\n",
      "14354 -> 1.1710834503173828 s\n",
      "14355 -> 1.1501855850219727 s\n",
      "14356 -> 0.6118502616882324 s\n",
      "14357 -> 1.5394651889801025 s\n",
      "14358 -> 0.7695996761322021 s\n",
      "14359 -> 1.5124316215515137 s\n",
      "14360 -> 2.3141891956329346 s\n",
      "14361 -> 2.367494821548462 s\n",
      "14362 -> 1.193526268005371 s\n",
      "14363 -> 2.348551034927368 s\n",
      "14364 -> 0.8644599914550781 s\n",
      "14365 -> 1.1788434982299805 s\n",
      "14366 -> 0.022903919219970703 s\n",
      "14367 -> 3.01522159576416 s\n",
      "14368 -> 1.8031749725341797 s\n",
      "14369 -> 2.407957077026367 s\n",
      "14370 -> 2.4897220134735107 s\n",
      "14371 -> 1.41849946975708 s\n",
      "14372 -> 2.3198678493499756 s\n",
      "14373 -> 2.5056021213531494 s\n",
      "14374 -> 1.3442847728729248 s\n",
      "14375 -> 2.5389726161956787 s\n",
      "14376 -> 2.5013816356658936 s\n",
      "14377 -> 1.2792015075683594 s\n",
      "14378 -> 2.469644784927368 s\n",
      "14379 -> 2.103287935256958 s\n",
      "14380 -> 1.000420093536377 s\n",
      "14381 -> 1.4611964225769043 s\n",
      "14382 -> 1.3158578872680664 s\n",
      "14383 -> 0.515876293182373 s\n",
      "14384 -> 0.7339985370635986 s\n",
      "14385 -> 0.5590240955352783 s\n",
      "14386 -> 0.36747097969055176 s\n",
      "14387 -> 0.5755987167358398 s\n",
      "14388 -> 0.5851461887359619 s\n",
      "14389 -> 0.4456143379211426 s\n",
      "14390 -> 0.6656286716461182 s\n",
      "14391 -> 0.6505715847015381 s\n",
      "14392 -> 0.4838240146636963 s\n",
      "14393 -> 1.008124828338623 s\n",
      "14394 -> 1.0022690296173096 s\n",
      "14395 -> 0.5383107662200928 s\n",
      "14396 -> 0.6481277942657471 s\n",
      "14397 -> 0.5260405540466309 s\n",
      "14398 -> 0.6419632434844971 s\n",
      "14399 -> 0.9725956916809082 s\n",
      "14400 -> 0.8599588871002197 s\n",
      "14401 -> 1.3761811256408691 s\n",
      "14402 -> 0.8318328857421875 s\n",
      "14403 -> 1.409402847290039 s\n",
      "14404 -> 1.879030704498291 s\n",
      "14405 -> 1.0489754676818848 s\n",
      "14406 -> 1.3282530307769775 s\n",
      "14407 -> 1.3885033130645752 s\n",
      "14408 -> 1.9357366561889648 s\n",
      "14409 -> 2.961085081100464 s\n",
      "14410 -> 1.0079011917114258 s\n",
      "14411 -> 1.7818939685821533 s\n",
      "14412 -> 1.4840590953826904 s\n",
      "14413 -> 0.8795621395111084 s\n",
      "14414 -> 2.2468912601470947 s\n",
      "14415 -> 2.1430346965789795 s\n",
      "14416 -> 1.2488086223602295 s\n",
      "14417 -> 2.723057746887207 s\n",
      "14418 -> 2.803457498550415 s\n",
      "14419 -> 1.4949297904968262 s\n",
      "14420 -> 3.2740941047668457 s\n",
      "14421 -> 3.489638090133667 s\n",
      "14422 -> 2.0239505767822266 s\n",
      "14423 -> 3.4316835403442383 s\n",
      "14424 -> 3.549997329711914 s\n",
      "14425 -> 26.6183979511261 s\n",
      "14426 -> 14.015363693237305 s\n",
      "14427 -> 32.66081476211548 s\n",
      "14428 -> 65.49535083770752 s\n",
      "14429 -> 45.71334099769592 s\n",
      "14430 -> 107.39271688461304 s\n",
      "14431 -> 119.14420342445374 s\n",
      "14432 -> 62.577094078063965 s\n",
      "14433 -> 33.01880168914795 s\n",
      "14434 -> 18.274872303009033 s\n",
      "14435 -> 35.60948038101196 s\n",
      "14436 -> 35.0351459980011 s\n",
      "14437 -> 15.273942708969116 s\n",
      "14438 -> 32.99744200706482 s\n",
      "14439 -> 33.36589479446411 s\n",
      "14440 -> 10.34090781211853 s\n",
      "14441 -> 22.58272910118103 s\n",
      "14442 -> 23.12953519821167 s\n",
      "14443 -> 9.248585939407349 s\n",
      "14444 -> 16.98164653778076 s\n",
      "14445 -> 16.584412336349487 s\n",
      "14446 -> 12.290077924728394 s\n",
      "14447 -> 12.82323694229126 s\n",
      "14448 -> 6.834611654281616 s\n",
      "14449 -> 14.86340069770813 s\n",
      "14450 -> 14.91641902923584 s\n",
      "14451 -> 7.59072208404541 s\n",
      "14452 -> 4.498097896575928 s\n",
      "14453 -> 8.240089416503906 s\n",
      "14454 -> 5.249054431915283 s\n",
      "14455 -> 8.717841148376465 s\n",
      "14456 -> 5.545547723770142 s\n",
      "14457 -> 1.4369127750396729 s\n",
      "14458 -> 2.413013458251953 s\n",
      "14459 -> 2.446072816848755 s\n",
      "14460 -> 1.2996881008148193 s\n",
      "14461 -> 2.117079734802246 s\n",
      "14462 -> 2.4010980129241943 s\n",
      "14463 -> 1.1792263984680176 s\n",
      "14464 -> 2.1826722621917725 s\n",
      "14465 -> 2.275590181350708 s\n",
      "14466 -> 1.2732386589050293 s\n",
      "14467 -> 2.386354446411133 s\n",
      "14468 -> 2.5787136554718018 s\n",
      "14469 -> 1.2416656017303467 s\n",
      "14470 -> 2.413383960723877 s\n",
      "14471 -> 2.7874038219451904 s\n",
      "14472 -> 1.3685879707336426 s\n",
      "14473 -> 2.6941018104553223 s\n",
      "14474 -> 3.11391282081604 s\n",
      "14475 -> 1.5965464115142822 s\n",
      "14476 -> 0.03290271759033203 s\n",
      "14477 -> 3.563398838043213 s\n",
      "14478 -> 0.7787878513336182 s\n",
      "14479 -> 1.346195936203003 s\n",
      "14480 -> 1.0601530075073242 s\n",
      "Wall time: 1d 10h 36min 11s\n"
     ]
    }
   ],
   "source": [
    "%%time\n",
    "dfs = {}\n",
    "i = 3657\n",
    "failures = []\n",
    "for line in done_list[:]:\n",
    "    t1 = time.time()\n",
    "    # ['MMM', '66740', '10-Q', 2010, 2]\n",
    "    selectedsymbol = line[0]\n",
    "    selectedreport = line[2]\n",
    "    year = line[3]\n",
    "    quarter = line[4]\n",
    "    url = f'./data/{selectedsymbol}/{selectedsymbol}_{year}_{quarter}-{selectedreport}.htm'\n",
    "\n",
    "    try:\n",
    "        df = pd.read_html(url)\n",
    "\n",
    "        dfs[(selectedsymbol,selectedreport,year,quarter)] = df\n",
    "\n",
    "    except:\n",
    "        failures.append((i,selectedsymbol,selectedreport,year,quarter))\n",
    "\n",
    "    print(f\"{i} -> {time.time()-t1} s\")\n",
    "    i += 1"
   ]
  },
  {
   "cell_type": "code",
   "execution_count": 15,
   "metadata": {},
   "outputs": [],
   "source": [
    "# pickle.dump(dfs, open(\"quarterly_report_history\",\"wb\"))"
   ]
  },
  {
   "cell_type": "code",
   "execution_count": 18,
   "metadata": {},
   "outputs": [],
   "source": [
    "# dfs = pickle.load(open('quarterly_report_history','rb'))"
   ]
  },
  {
   "cell_type": "code",
   "execution_count": 25,
   "metadata": {},
   "outputs": [
    {
     "output_type": "execute_result",
     "data": {
      "text/plain": [
       "14477"
      ]
     },
     "metadata": {},
     "execution_count": 25
    }
   ],
   "source": [
    "len(dfs)"
   ]
  },
  {
   "cell_type": "code",
   "execution_count": 4,
   "metadata": {},
   "outputs": [
    {
     "output_type": "stream",
     "name": "stdout",
     "text": [
      "Wall time: 13min 9s\n"
     ]
    }
   ],
   "source": [
    "# %%time\n",
    "# dfs = pickle.load(open('quarterly_report_history3657','rb'))\n",
    "# dfs.update(pickle.load(open('quarterly_report_history3657_on','rb')))\n"
   ]
  },
  {
   "cell_type": "code",
   "execution_count": 5,
   "metadata": {},
   "outputs": [
    {
     "output_type": "stream",
     "name": "stdout",
     "text": [
      "Wall time: 10min 2s\n"
     ]
    }
   ],
   "source": [
    "# %%time\n",
    "# pickle.dump(dfs, open(\"quarterly_report_history\",\"wb\"))"
   ]
  },
  {
   "source": [
    "# Re Pickle"
   ],
   "cell_type": "markdown",
   "metadata": {}
  },
  {
   "cell_type": "code",
   "execution_count": 2,
   "metadata": {},
   "outputs": [
    {
     "output_type": "stream",
     "name": "stdout",
     "text": [
      "Wall time: 5min 14s\n"
     ]
    }
   ],
   "source": [
    "%%time\n",
    "dfs = pickle.load(open('quarterly_report_history','rb'))"
   ]
  },
  {
   "cell_type": "code",
   "execution_count": 3,
   "metadata": {},
   "outputs": [
    {
     "output_type": "execute_result",
     "data": {
      "text/plain": [
       "68"
      ]
     },
     "metadata": {},
     "execution_count": 3
    }
   ],
   "source": [
    "len(list(dfs.items())[0][1])"
   ]
  },
  {
   "cell_type": "code",
   "execution_count": 4,
   "metadata": {},
   "outputs": [
    {
     "output_type": "execute_result",
     "data": {
      "text/plain": [
       "4"
      ]
     },
     "metadata": {},
     "execution_count": 4
    }
   ],
   "source": [
    "pickle.HIGHEST_PROTOCOL"
   ]
  },
  {
   "cell_type": "code",
   "execution_count": 5,
   "metadata": {},
   "outputs": [
    {
     "output_type": "execute_result",
     "data": {
      "text/plain": [
       "3"
      ]
     },
     "metadata": {},
     "execution_count": 5
    }
   ],
   "source": [
    "pickle.DEFAULT_PROTOCOL"
   ]
  },
  {
   "cell_type": "code",
   "execution_count": 8,
   "metadata": {},
   "outputs": [],
   "source": [
    "pickle.dump(dfs, open('quarterly_report_history_p4','wb'),protocol=4)"
   ]
  },
  {
   "cell_type": "code",
   "execution_count": 9,
   "metadata": {},
   "outputs": [
    {
     "output_type": "stream",
     "name": "stdout",
     "text": [
      "Wall time: 21min 33s\n"
     ]
    }
   ],
   "source": [
    "%%time\n",
    "dfs = pickle.load(open('quarterly_report_history_p4','rb'))"
   ]
  },
  {
   "cell_type": "code",
   "execution_count": 10,
   "metadata": {},
   "outputs": [
    {
     "output_type": "stream",
     "name": "stdout",
     "text": [
      "Wall time: 21h 2min 53s\n"
     ]
    }
   ],
   "source": [
    "%%time\n",
    "pickle.dump(dfs, open('quarterly_report_history_p1','wb'),protocol=1)"
   ]
  },
  {
   "cell_type": "code",
   "execution_count": 2,
   "metadata": {},
   "outputs": [
    {
     "output_type": "stream",
     "name": "stdout",
     "text": [
      "Wall time: 6min 3s\n"
     ]
    }
   ],
   "source": [
    "%%time\n",
    "dfs = pickle.load(open('quarterly_report_history_p1','rb'))"
   ]
  },
  {
   "source": [
    "# Data Size Reduciton"
   ],
   "cell_type": "markdown",
   "metadata": {}
  },
  {
   "cell_type": "code",
   "execution_count": 5,
   "metadata": {},
   "outputs": [
    {
     "output_type": "execute_result",
     "data": {
      "text/plain": [
       "14477"
      ]
     },
     "metadata": {},
     "execution_count": 5
    }
   ],
   "source": [
    "len(dfs)"
   ]
  },
  {
   "cell_type": "code",
   "execution_count": 37,
   "metadata": {},
   "outputs": [
    {
     "output_type": "execute_result",
     "data": {
      "text/plain": [
       "68"
      ]
     },
     "metadata": {},
     "execution_count": 37
    }
   ],
   "source": [
    "len(list(dfs.items())[0][1])"
   ]
  },
  {
   "cell_type": "code",
   "execution_count": 48,
   "metadata": {},
   "outputs": [
    {
     "output_type": "execute_result",
     "data": {
      "text/plain": [
       "('MMM', '10-Q', 2010, 2)"
      ]
     },
     "metadata": {},
     "execution_count": 48
    }
   ],
   "source": [
    "list(dfs.items())[0][0]"
   ]
  },
  {
   "cell_type": "code",
   "execution_count": 87,
   "metadata": {},
   "outputs": [
    {
     "output_type": "stream",
     "name": "stdout",
     "text": [
      "MMM:10-Q:2010:2\n14477\nWall time: 49.4 ms\n"
     ]
    }
   ],
   "source": [
    "%%time\n",
    "inputs = []\n",
    "for item in dfs:\n",
    "    inputs.append(\":\".join(str(x) for x in item))\n",
    "print(inputs[0])\n",
    "print(len(inputs))\n"
   ]
  },
  {
   "cell_type": "code",
   "execution_count": 121,
   "metadata": {
    "tags": []
   },
   "outputs": [
    {
     "output_type": "stream",
     "name": "stdout",
     "text": [
      "14477\nWall time: 1h 31min 10s\n"
     ]
    }
   ],
   "source": [
    "%%time\n",
    "outputs = []\n",
    "# i = 0\n",
    "for item in dfs:\n",
    "    string_list = []\n",
    "    contents = dfs[item]\n",
    "    # j = 0\n",
    "    for content in contents:\n",
    "        string_list.append(content.to_string())\n",
    "        # j += 1\n",
    "        # if j == 20:\n",
    "        #     break\n",
    "    final_string = \" \".join(string_list)\n",
    "    outputs.append(final_string)\n",
    "    # i += 1\n",
    "    # if i == 15000:\n",
    "    #     break\n",
    "# print(outputs[0][1:1000])\n",
    "print(len(outputs))\n"
   ]
  },
  {
   "cell_type": "code",
   "execution_count": 118,
   "metadata": {},
   "outputs": [],
   "source": [
    "# pickle.dump(inputs,open(\"inputs\",\"wb\"))"
   ]
  },
  {
   "cell_type": "code",
   "execution_count": 122,
   "metadata": {},
   "outputs": [
    {
     "output_type": "stream",
     "name": "stdout",
     "text": [
      "Wall time: 1min 39s\n"
     ]
    }
   ],
   "source": [
    "# %%time\n",
    "# pickle.dump(outputs,open(\"outputs\",\"wb\"))"
   ]
  },
  {
   "cell_type": "code",
   "execution_count": 123,
   "metadata": {},
   "outputs": [
    {
     "output_type": "stream",
     "name": "stdout",
     "text": [
      "Wall time: 1min 36s\n"
     ]
    }
   ],
   "source": [
    "%%time\n",
    "outputs = pickle.load(open('outputs','rb'))"
   ]
  },
  {
   "source": [
    "# Stock History Data"
   ],
   "cell_type": "markdown",
   "metadata": {}
  },
  {
   "cell_type": "code",
   "execution_count": 124,
   "metadata": {},
   "outputs": [],
   "source": [
    "stock_history = pickle.load(open(\"stock_history\",'rb'))"
   ]
  },
  {
   "cell_type": "code",
   "execution_count": 133,
   "metadata": {},
   "outputs": [
    {
     "output_type": "execute_result",
     "data": {
      "text/plain": [
       "Index(['Adj Close', 'Close', 'High', 'Low', 'Open', 'Volume'], dtype='object')"
      ]
     },
     "metadata": {},
     "execution_count": 133
    }
   ],
   "source": [
    "stock_history.columns.levels[0]"
   ]
  },
  {
   "cell_type": "code",
   "execution_count": 148,
   "metadata": {},
   "outputs": [
    {
     "output_type": "execute_result",
     "data": {
      "text/plain": [
       "                     A        AAL         AAP        AAPL        ABBV  \\\n",
       "Date                                                                    \n",
       "2010-01-04   20.514248   4.496876   38.980095    6.547977         NaN   \n",
       "2010-01-05   20.291416   5.005957   38.748432    6.559296         NaN   \n",
       "2010-01-06   20.219320   4.798555   39.086288    6.454964         NaN   \n",
       "2010-01-07   20.193102   4.939965   39.076641    6.443031         NaN   \n",
       "2010-01-08   20.186556   4.845690   39.231079    6.485865         NaN   \n",
       "...                ...        ...         ...         ...         ...   \n",
       "2021-03-25  121.714798  22.770000  185.649994  120.589996  102.632133   \n",
       "2021-03-26  125.449112  22.930000  187.320007  121.209999  104.706917   \n",
       "2021-03-29  125.229446  22.910000  185.059998  121.389999  105.447906   \n",
       "2021-03-30  124.650322  24.120001  186.070007  119.900002  105.507179   \n",
       "2021-03-31         NaN        NaN         NaN         NaN         NaN   \n",
       "\n",
       "                   ABC        ABMD         ABT         ACN        ADBE  ...  \\\n",
       "Date                                                                    ...   \n",
       "2010-01-04   22.419764    8.740000   20.001102   33.614555   37.090000  ...   \n",
       "2010-01-05   22.259808    8.530000   19.839502   33.822308   37.700001  ...   \n",
       "2010-01-06   22.049330    8.400000   19.949684   34.181858   37.619999  ...   \n",
       "2010-01-07   21.695730    8.400000   20.114946   34.149891   36.889999  ...   \n",
       "2010-01-08   21.931467    8.230000   20.217783   34.014061   36.689999  ...   \n",
       "...                ...         ...         ...         ...         ...  ...   \n",
       "2021-03-25  117.339996  294.140015  118.614487  267.781250  450.989990  ...   \n",
       "2021-03-26  118.730003  301.399994  121.623436  279.903717  469.089996  ...   \n",
       "2021-03-29  119.050003  305.769989  121.782860  278.677551  469.320007  ...   \n",
       "2021-03-30  119.059998  309.880005  119.311928  277.690582  465.459991  ...   \n",
       "2021-03-31         NaN         NaN         NaN         NaN         NaN  ...   \n",
       "\n",
       "                  XEL        XLNX        XOM       XRAY         XYL  \\\n",
       "Date                                                                  \n",
       "2010-01-04  14.165524   19.830650  45.575386  32.887291         NaN   \n",
       "2010-01-05  13.997527   19.580618  45.753330  32.496326         NaN   \n",
       "2010-01-06  14.024410   19.447794  46.148773  32.710423         NaN   \n",
       "2010-01-07  13.963934   19.252451  46.003792  33.138615         NaN   \n",
       "2010-01-08  13.970654   19.533739  45.819229  33.138615         NaN   \n",
       "...               ...         ...        ...        ...         ...   \n",
       "2021-03-25  66.000000  120.029999  56.180000  60.549999  101.930000   \n",
       "2021-03-26  66.309998  123.139999  57.709999  61.279999  104.760002   \n",
       "2021-03-29  67.000000  122.230003  57.400002  62.060001  104.269997   \n",
       "2021-03-30  66.010002  120.300003  56.689999  63.540001  104.879997   \n",
       "2021-03-31        NaN         NaN        NaN        NaN         NaN   \n",
       "\n",
       "                   YUM         ZBH        ZBRA       ZION         ZTS  \n",
       "Date                                                                   \n",
       "2010-01-04   20.231468   55.417038   28.670000  11.648637         NaN  \n",
       "2010-01-05   20.162270   57.171318   28.620001  12.059352         NaN  \n",
       "2010-01-06   20.018137   57.152866   28.400000  13.107989         NaN  \n",
       "2010-01-07   20.012373   58.463970   27.690001  14.576083         NaN  \n",
       "2010-01-08   20.018137   57.235977   27.600000  14.340141         NaN  \n",
       "...                ...         ...         ...        ...         ...  \n",
       "2021-03-25  107.379997  157.639999  461.260010  54.740002  152.652649  \n",
       "2021-03-26  108.059998  161.320007  476.959991  55.849998  155.917770  \n",
       "2021-03-29  109.209999  160.210007  467.070007  53.889999  158.154449  \n",
       "2021-03-30  109.769997  161.220001  474.829987  55.910000  156.806442  \n",
       "2021-03-31         NaN         NaN         NaN        NaN         NaN  \n",
       "\n",
       "[2834 rows x 505 columns]"
      ],
      "text/html": "<div>\n<style scoped>\n    .dataframe tbody tr th:only-of-type {\n        vertical-align: middle;\n    }\n\n    .dataframe tbody tr th {\n        vertical-align: top;\n    }\n\n    .dataframe thead th {\n        text-align: right;\n    }\n</style>\n<table border=\"1\" class=\"dataframe\">\n  <thead>\n    <tr style=\"text-align: right;\">\n      <th></th>\n      <th>A</th>\n      <th>AAL</th>\n      <th>AAP</th>\n      <th>AAPL</th>\n      <th>ABBV</th>\n      <th>ABC</th>\n      <th>ABMD</th>\n      <th>ABT</th>\n      <th>ACN</th>\n      <th>ADBE</th>\n      <th>...</th>\n      <th>XEL</th>\n      <th>XLNX</th>\n      <th>XOM</th>\n      <th>XRAY</th>\n      <th>XYL</th>\n      <th>YUM</th>\n      <th>ZBH</th>\n      <th>ZBRA</th>\n      <th>ZION</th>\n      <th>ZTS</th>\n    </tr>\n    <tr>\n      <th>Date</th>\n      <th></th>\n      <th></th>\n      <th></th>\n      <th></th>\n      <th></th>\n      <th></th>\n      <th></th>\n      <th></th>\n      <th></th>\n      <th></th>\n      <th></th>\n      <th></th>\n      <th></th>\n      <th></th>\n      <th></th>\n      <th></th>\n      <th></th>\n      <th></th>\n      <th></th>\n      <th></th>\n      <th></th>\n    </tr>\n  </thead>\n  <tbody>\n    <tr>\n      <th>2010-01-04</th>\n      <td>20.514248</td>\n      <td>4.496876</td>\n      <td>38.980095</td>\n      <td>6.547977</td>\n      <td>NaN</td>\n      <td>22.419764</td>\n      <td>8.740000</td>\n      <td>20.001102</td>\n      <td>33.614555</td>\n      <td>37.090000</td>\n      <td>...</td>\n      <td>14.165524</td>\n      <td>19.830650</td>\n      <td>45.575386</td>\n      <td>32.887291</td>\n      <td>NaN</td>\n      <td>20.231468</td>\n      <td>55.417038</td>\n      <td>28.670000</td>\n      <td>11.648637</td>\n      <td>NaN</td>\n    </tr>\n    <tr>\n      <th>2010-01-05</th>\n      <td>20.291416</td>\n      <td>5.005957</td>\n      <td>38.748432</td>\n      <td>6.559296</td>\n      <td>NaN</td>\n      <td>22.259808</td>\n      <td>8.530000</td>\n      <td>19.839502</td>\n      <td>33.822308</td>\n      <td>37.700001</td>\n      <td>...</td>\n      <td>13.997527</td>\n      <td>19.580618</td>\n      <td>45.753330</td>\n      <td>32.496326</td>\n      <td>NaN</td>\n      <td>20.162270</td>\n      <td>57.171318</td>\n      <td>28.620001</td>\n      <td>12.059352</td>\n      <td>NaN</td>\n    </tr>\n    <tr>\n      <th>2010-01-06</th>\n      <td>20.219320</td>\n      <td>4.798555</td>\n      <td>39.086288</td>\n      <td>6.454964</td>\n      <td>NaN</td>\n      <td>22.049330</td>\n      <td>8.400000</td>\n      <td>19.949684</td>\n      <td>34.181858</td>\n      <td>37.619999</td>\n      <td>...</td>\n      <td>14.024410</td>\n      <td>19.447794</td>\n      <td>46.148773</td>\n      <td>32.710423</td>\n      <td>NaN</td>\n      <td>20.018137</td>\n      <td>57.152866</td>\n      <td>28.400000</td>\n      <td>13.107989</td>\n      <td>NaN</td>\n    </tr>\n    <tr>\n      <th>2010-01-07</th>\n      <td>20.193102</td>\n      <td>4.939965</td>\n      <td>39.076641</td>\n      <td>6.443031</td>\n      <td>NaN</td>\n      <td>21.695730</td>\n      <td>8.400000</td>\n      <td>20.114946</td>\n      <td>34.149891</td>\n      <td>36.889999</td>\n      <td>...</td>\n      <td>13.963934</td>\n      <td>19.252451</td>\n      <td>46.003792</td>\n      <td>33.138615</td>\n      <td>NaN</td>\n      <td>20.012373</td>\n      <td>58.463970</td>\n      <td>27.690001</td>\n      <td>14.576083</td>\n      <td>NaN</td>\n    </tr>\n    <tr>\n      <th>2010-01-08</th>\n      <td>20.186556</td>\n      <td>4.845690</td>\n      <td>39.231079</td>\n      <td>6.485865</td>\n      <td>NaN</td>\n      <td>21.931467</td>\n      <td>8.230000</td>\n      <td>20.217783</td>\n      <td>34.014061</td>\n      <td>36.689999</td>\n      <td>...</td>\n      <td>13.970654</td>\n      <td>19.533739</td>\n      <td>45.819229</td>\n      <td>33.138615</td>\n      <td>NaN</td>\n      <td>20.018137</td>\n      <td>57.235977</td>\n      <td>27.600000</td>\n      <td>14.340141</td>\n      <td>NaN</td>\n    </tr>\n    <tr>\n      <th>...</th>\n      <td>...</td>\n      <td>...</td>\n      <td>...</td>\n      <td>...</td>\n      <td>...</td>\n      <td>...</td>\n      <td>...</td>\n      <td>...</td>\n      <td>...</td>\n      <td>...</td>\n      <td>...</td>\n      <td>...</td>\n      <td>...</td>\n      <td>...</td>\n      <td>...</td>\n      <td>...</td>\n      <td>...</td>\n      <td>...</td>\n      <td>...</td>\n      <td>...</td>\n      <td>...</td>\n    </tr>\n    <tr>\n      <th>2021-03-25</th>\n      <td>121.714798</td>\n      <td>22.770000</td>\n      <td>185.649994</td>\n      <td>120.589996</td>\n      <td>102.632133</td>\n      <td>117.339996</td>\n      <td>294.140015</td>\n      <td>118.614487</td>\n      <td>267.781250</td>\n      <td>450.989990</td>\n      <td>...</td>\n      <td>66.000000</td>\n      <td>120.029999</td>\n      <td>56.180000</td>\n      <td>60.549999</td>\n      <td>101.930000</td>\n      <td>107.379997</td>\n      <td>157.639999</td>\n      <td>461.260010</td>\n      <td>54.740002</td>\n      <td>152.652649</td>\n    </tr>\n    <tr>\n      <th>2021-03-26</th>\n      <td>125.449112</td>\n      <td>22.930000</td>\n      <td>187.320007</td>\n      <td>121.209999</td>\n      <td>104.706917</td>\n      <td>118.730003</td>\n      <td>301.399994</td>\n      <td>121.623436</td>\n      <td>279.903717</td>\n      <td>469.089996</td>\n      <td>...</td>\n      <td>66.309998</td>\n      <td>123.139999</td>\n      <td>57.709999</td>\n      <td>61.279999</td>\n      <td>104.760002</td>\n      <td>108.059998</td>\n      <td>161.320007</td>\n      <td>476.959991</td>\n      <td>55.849998</td>\n      <td>155.917770</td>\n    </tr>\n    <tr>\n      <th>2021-03-29</th>\n      <td>125.229446</td>\n      <td>22.910000</td>\n      <td>185.059998</td>\n      <td>121.389999</td>\n      <td>105.447906</td>\n      <td>119.050003</td>\n      <td>305.769989</td>\n      <td>121.782860</td>\n      <td>278.677551</td>\n      <td>469.320007</td>\n      <td>...</td>\n      <td>67.000000</td>\n      <td>122.230003</td>\n      <td>57.400002</td>\n      <td>62.060001</td>\n      <td>104.269997</td>\n      <td>109.209999</td>\n      <td>160.210007</td>\n      <td>467.070007</td>\n      <td>53.889999</td>\n      <td>158.154449</td>\n    </tr>\n    <tr>\n      <th>2021-03-30</th>\n      <td>124.650322</td>\n      <td>24.120001</td>\n      <td>186.070007</td>\n      <td>119.900002</td>\n      <td>105.507179</td>\n      <td>119.059998</td>\n      <td>309.880005</td>\n      <td>119.311928</td>\n      <td>277.690582</td>\n      <td>465.459991</td>\n      <td>...</td>\n      <td>66.010002</td>\n      <td>120.300003</td>\n      <td>56.689999</td>\n      <td>63.540001</td>\n      <td>104.879997</td>\n      <td>109.769997</td>\n      <td>161.220001</td>\n      <td>474.829987</td>\n      <td>55.910000</td>\n      <td>156.806442</td>\n    </tr>\n    <tr>\n      <th>2021-03-31</th>\n      <td>NaN</td>\n      <td>NaN</td>\n      <td>NaN</td>\n      <td>NaN</td>\n      <td>NaN</td>\n      <td>NaN</td>\n      <td>NaN</td>\n      <td>NaN</td>\n      <td>NaN</td>\n      <td>NaN</td>\n      <td>...</td>\n      <td>NaN</td>\n      <td>NaN</td>\n      <td>NaN</td>\n      <td>NaN</td>\n      <td>NaN</td>\n      <td>NaN</td>\n      <td>NaN</td>\n      <td>NaN</td>\n      <td>NaN</td>\n      <td>NaN</td>\n    </tr>\n  </tbody>\n</table>\n<p>2834 rows × 505 columns</p>\n</div>"
     },
     "metadata": {},
     "execution_count": 148
    }
   ],
   "source": [
    "stock_history['Adj Close']"
   ]
  },
  {
   "cell_type": "code",
   "execution_count": 178,
   "metadata": {},
   "outputs": [
    {
     "output_type": "stream",
     "name": "stdout",
     "text": [
      "Wall time: 237 ms\n"
     ]
    },
    {
     "output_type": "execute_result",
     "data": {
      "text/plain": [
       "                     A        AAL         AAP        AAPL         ABC  \\\n",
       "Date                                                                    \n",
       "2010-03-15   21.831623   7.447657   40.621174    6.848741   23.431705   \n",
       "2010-06-15   21.104124   9.861077   50.401211    7.945628   27.478739   \n",
       "2010-09-15   19.275530   8.399828   55.561707    8.267811   25.678307   \n",
       "2010-12-15   25.220085   9.559399   65.665291    9.801922   27.482336   \n",
       "2011-03-15   28.719950   8.409253   63.435417   10.568980   31.118685   \n",
       "2011-06-15   31.046650   7.758763   55.748959    9.997436   35.143578   \n",
       "2011-09-15   24.276295   5.524466   60.887012   12.023236   33.135494   \n",
       "2011-12-15   21.923384   5.383055   65.847656   11.594273   30.853142   \n",
       "2012-03-15   30.056978   7.145980   86.870781   17.916140   32.785091   \n",
       "2012-06-15   26.281967  11.341178   67.926765   17.566420   32.363552   \n",
       "2013-03-15   28.470963  15.065010   77.701530   13.774840   42.994137   \n",
       "2014-09-15   38.918461  35.036018  131.332428   22.886187   69.004211   \n",
       "2014-12-15   36.419151  48.171078  157.886459   24.478138   81.708984   \n",
       "2015-06-15   37.393044  38.121368  155.369247   28.938877  100.222221   \n",
       "2015-09-15   34.290028  40.661041  173.619339   26.632868   95.895615   \n",
       "2015-12-15   38.822624  40.710503  153.369156   25.415049   92.700745   \n",
       "2016-03-15   36.524960  40.352039  155.798431   24.186163   78.978142   \n",
       "2016-06-15   42.992474  29.301603  151.061539   22.602293   69.978424   \n",
       "2016-09-15   43.585346  35.095589  146.440475   27.036213   77.703560   \n",
       "2016-12-15   44.770588  46.673889  170.087952   27.233803   71.083542   \n",
       "2017-03-15   52.171421  40.763432  150.466934   33.170826   83.293587   \n",
       "2017-06-15   57.240967  47.664589  129.097366   34.215954   88.274788   \n",
       "2017-09-15   63.908520  44.736687   98.000160   38.061756   76.630577   \n",
       "2017-12-15   65.642159  49.766453   99.234940   41.564972   87.911934   \n",
       "2018-03-15   68.288216  53.875736  115.466606   42.857140   92.224548   \n",
       "2018-06-15   64.491005  41.864315  135.317245   45.476349   90.240791   \n",
       "2019-03-15   79.645309  31.014191  152.938446   45.329025   77.322113   \n",
       "2020-06-15   86.348381  16.700001  136.994263   84.856766   95.024231   \n",
       "2020-09-15   99.873344  13.140000  156.168793  115.168915   94.115158   \n",
       "2020-12-15  117.019737  17.010000  159.373032  127.689186   98.619980   \n",
       "2021-03-15  123.851547  25.170000  181.440369  123.989998  113.860001   \n",
       "\n",
       "                  ABMD         ABT         ACN        ADBE         ADI  ...  \\\n",
       "Date                                                                    ...   \n",
       "2010-03-15   10.350000   20.272953   33.958130   35.490002   21.875849  ...   \n",
       "2010-06-15    9.740000   17.970345   31.064312   32.509998   23.142696  ...   \n",
       "2010-09-15   10.040000   19.451303   31.950949   32.759998   22.196320  ...   \n",
       "2010-12-15    9.220000   18.268618   37.527168   27.719999   28.702520  ...   \n",
       "2011-03-15   13.740000   18.258106   40.718197   33.040001   29.222143  ...   \n",
       "2011-06-15   15.960000   19.847197   45.472313   31.129999   28.903385  ...   \n",
       "2011-09-15   11.850000   20.019785   43.510948   26.120001   27.076778  ...   \n",
       "2011-12-15   19.770000   21.621883   46.615009   26.459999   27.035887  ...   \n",
       "2012-03-15   21.959999   23.485102   52.843628   34.169998   31.844351  ...   \n",
       "2012-06-15   22.150000   25.044371   49.595051   32.389999   29.781584  ...   \n",
       "2013-03-15   17.490000   29.065540   65.050774   41.380001   37.576729  ...   \n",
       "2014-09-15   24.670000   37.436451   70.942757   70.269997   42.123569  ...   \n",
       "2014-12-15   36.250000   38.287273   73.047592   73.040001   48.091644  ...   \n",
       "2015-06-15   65.019997   42.790550   86.371086   78.900002   58.621830  ...   \n",
       "2015-09-15  100.290001   39.186771   88.580162   79.529999   51.647388  ...   \n",
       "2015-12-15   84.430000   41.015736   97.260223   94.019997   50.424660  ...   \n",
       "2016-03-15   87.339996   36.123180   97.579208   86.830002   50.444042  ...   \n",
       "2016-06-15  103.089996   34.093983  108.078423   97.019997   51.498802  ...   \n",
       "2016-09-15  123.169998   37.685833  101.885414   99.620003   57.108852  ...   \n",
       "2016-12-15  118.669998   35.905540  115.804138  105.099998   67.479736  ...   \n",
       "2017-03-15  122.970001   42.069096  116.036591  122.110001   76.973511  ...   \n",
       "2017-06-15  142.880005   44.941463  119.335350  137.520004   73.923111  ...   \n",
       "2017-09-15  158.580002   48.608551  127.151382  154.490005   78.140434  ...   \n",
       "2017-12-15  188.710007   52.375786  144.801834  177.509995   81.223389  ...   \n",
       "2018-03-15  294.570007   59.349152  154.476807  218.869995   88.474129  ...   \n",
       "2018-06-15  443.579987   59.939728  156.433228  251.820007   96.045784  ...   \n",
       "2019-03-15  333.230011   77.101593  160.673004  257.089996  105.106323  ...   \n",
       "2020-06-15  246.330002   88.226692  196.999298  401.339996  116.870056  ...   \n",
       "2020-09-15  279.160004  105.412682  237.712570  497.670013  115.055550  ...   \n",
       "2020-12-15  275.359985  106.627357  245.449036  482.640015  143.445496  ...   \n",
       "2021-03-15  307.179993  117.667961  265.438507  447.589996  151.000000  ...   \n",
       "\n",
       "                   WY        WYNN        XEL        XLNX        XOM  \\\n",
       "Date                                                                  \n",
       "2010-03-15  11.220833   46.234886  14.212567   20.728977  43.982063   \n",
       "2010-06-15  10.553507   55.883804  14.315210   20.875732  41.749474   \n",
       "2010-09-15  11.198768   59.583954  15.799513   20.757133  41.032509   \n",
       "2010-12-15  12.537512   71.756393  16.342747   22.616062  48.635223   \n",
       "2011-03-15  17.526907   86.308533  16.610018   25.251810  55.383179   \n",
       "2011-06-15  14.293878   93.181389  17.130363   27.190594  53.829094   \n",
       "2011-09-15  12.623442  107.258888  17.966824   25.792480  50.981449   \n",
       "2011-12-15  12.080142   78.470772  19.170029   25.410080  55.456764   \n",
       "2012-03-15  16.228251   96.480072  19.331430   30.366581  59.982555   \n",
       "2012-06-15  15.333859   75.379547  21.359831   26.979883  58.382359   \n",
       "2013-03-15  22.945105   98.623970  22.195343   32.488224  63.905045   \n",
       "2014-09-15  25.865410  157.262283  25.307777   36.772438  71.758553   \n",
       "2014-12-15  28.194323  128.110214  27.933985   38.945145  65.228386   \n",
       "2015-06-15  25.824232   92.009949  26.982275   41.441235  63.838108   \n",
       "2015-09-15  22.310349   63.286297  28.032585   38.901268  56.076969   \n",
       "2015-12-15  24.800510   59.813263  30.115343   43.511116  61.666523   \n",
       "2016-03-15  24.444054   75.884224  34.893242   42.978844  64.881981   \n",
       "2016-06-15  24.159124   93.108994  36.771236   42.968853  71.225822   \n",
       "2016-09-15  25.618149  100.097519  35.779587   49.618046  67.785820   \n",
       "2016-12-15  26.279161   84.201363  35.219151   56.105667  73.056046   \n",
       "2017-03-15  29.356398   97.545334  39.220795   56.556755  66.513077   \n",
       "2017-06-15  29.386448  125.342178  42.698513   61.144909  67.354065   \n",
       "2017-09-15  29.124643  134.442673  44.360218   64.771309  66.196365   \n",
       "2017-12-15  31.929590  156.363724  45.896732   64.752861  69.278778   \n",
       "2018-03-15  32.026154  175.903000  40.101822   72.609695  62.729702   \n",
       "2018-06-15  33.501503  164.362686  40.166981   67.589561  68.678642   \n",
       "2019-03-15  23.992041  111.845482  53.579346  121.006149  70.420471   \n",
       "2020-06-15  21.858566   92.000000  62.234169   90.044930  44.385216   \n",
       "2020-09-15  28.445807   82.279999  69.429115  102.538651  34.824158   \n",
       "2020-12-15  33.389851  114.099998  65.100273  152.110001  42.321289   \n",
       "2021-03-15  36.090000  139.800003  63.070000  128.619995  60.389999   \n",
       "\n",
       "                 XRAY         YUM         ZBH        ZBRA       ZION  \n",
       "Date                                                                  \n",
       "2010-03-15  32.366016   21.852259   53.773556   30.080000  18.571239  \n",
       "2010-06-15  29.299294   25.286951   50.191101   27.500000  21.201899  \n",
       "2010-09-15  28.552584   26.903006   46.691769   31.700001  18.323788  \n",
       "2010-12-15  31.534311   29.058336   49.581734   38.630001  19.391413  \n",
       "2011-03-15  33.368744   30.159559   56.017197   35.509998  19.916029  \n",
       "2011-06-15  33.865601   32.143921   57.974613   40.740002  19.582691  \n",
       "2011-09-15  32.173832   32.062984   52.370125   32.040001  15.317099  \n",
       "2011-12-15  32.724586   34.553699   44.078808   36.720001  13.080435  \n",
       "2012-03-15  37.448090   41.432911   58.971786   41.279999  19.424265  \n",
       "2012-06-15  35.631622   39.405113   58.517105   32.290001  16.422480  \n",
       "2013-03-15  40.106857   43.197838   69.056236   46.270000  22.479073  \n",
       "2014-09-15  44.564594   45.455154   98.966934   73.500000  26.117985  \n",
       "2014-12-15  51.117973   45.024040  104.656754   74.669998  23.818527  \n",
       "2015-06-15  49.629993   58.568371  106.606201  114.260002  28.627689  \n",
       "2015-09-15  52.225506   53.354053   95.436760   83.029999  25.674809  \n",
       "2015-12-15  57.677177   47.314625   96.702599   70.000000  24.975492  \n",
       "2016-03-15  58.672268   51.316086  100.027710   63.419998  22.283026  \n",
       "2016-06-15  61.092800   54.633251  111.897926   55.919998  24.214006  \n",
       "2016-09-15  57.980705   58.222370  120.282356   67.139999  27.375715  \n",
       "2016-12-15  58.414581   59.204056   99.053368   85.199997  38.906300  \n",
       "2017-03-15  61.513256   59.571873  115.727020   90.889999  39.909798  \n",
       "2017-06-15  61.395737   67.999435  121.955574  104.400002  38.899845  \n",
       "2017-09-15  57.624477   70.758759  112.117172  105.820000  39.376904  \n",
       "2017-12-15  64.653244   77.680244  112.125404  101.830002  45.660793  \n",
       "2018-03-15  55.459015   78.590088  113.012772  144.399994  50.181717  \n",
       "2018-06-15  43.840561   78.682365  110.781570  155.960007  50.878654  \n",
       "2019-03-15  48.210464   97.339287  123.822357  211.399994  46.055454  \n",
       "2020-06-15  43.528557   90.155502  126.245773  259.410004  35.211124  \n",
       "2020-09-15  46.085743   92.657288  143.595261  257.459991  30.687584  \n",
       "2020-12-15  53.627113  106.867783  147.347549  383.450012  41.334225  \n",
       "2021-03-15  63.794117  107.989998  161.224548  478.109985  57.720001  \n",
       "\n",
       "[31 rows x 446 columns]"
      ],
      "text/html": "<div>\n<style scoped>\n    .dataframe tbody tr th:only-of-type {\n        vertical-align: middle;\n    }\n\n    .dataframe tbody tr th {\n        vertical-align: top;\n    }\n\n    .dataframe thead th {\n        text-align: right;\n    }\n</style>\n<table border=\"1\" class=\"dataframe\">\n  <thead>\n    <tr style=\"text-align: right;\">\n      <th></th>\n      <th>A</th>\n      <th>AAL</th>\n      <th>AAP</th>\n      <th>AAPL</th>\n      <th>ABC</th>\n      <th>ABMD</th>\n      <th>ABT</th>\n      <th>ACN</th>\n      <th>ADBE</th>\n      <th>ADI</th>\n      <th>...</th>\n      <th>WY</th>\n      <th>WYNN</th>\n      <th>XEL</th>\n      <th>XLNX</th>\n      <th>XOM</th>\n      <th>XRAY</th>\n      <th>YUM</th>\n      <th>ZBH</th>\n      <th>ZBRA</th>\n      <th>ZION</th>\n    </tr>\n    <tr>\n      <th>Date</th>\n      <th></th>\n      <th></th>\n      <th></th>\n      <th></th>\n      <th></th>\n      <th></th>\n      <th></th>\n      <th></th>\n      <th></th>\n      <th></th>\n      <th></th>\n      <th></th>\n      <th></th>\n      <th></th>\n      <th></th>\n      <th></th>\n      <th></th>\n      <th></th>\n      <th></th>\n      <th></th>\n      <th></th>\n    </tr>\n  </thead>\n  <tbody>\n    <tr>\n      <th>2010-03-15</th>\n      <td>21.831623</td>\n      <td>7.447657</td>\n      <td>40.621174</td>\n      <td>6.848741</td>\n      <td>23.431705</td>\n      <td>10.350000</td>\n      <td>20.272953</td>\n      <td>33.958130</td>\n      <td>35.490002</td>\n      <td>21.875849</td>\n      <td>...</td>\n      <td>11.220833</td>\n      <td>46.234886</td>\n      <td>14.212567</td>\n      <td>20.728977</td>\n      <td>43.982063</td>\n      <td>32.366016</td>\n      <td>21.852259</td>\n      <td>53.773556</td>\n      <td>30.080000</td>\n      <td>18.571239</td>\n    </tr>\n    <tr>\n      <th>2010-06-15</th>\n      <td>21.104124</td>\n      <td>9.861077</td>\n      <td>50.401211</td>\n      <td>7.945628</td>\n      <td>27.478739</td>\n      <td>9.740000</td>\n      <td>17.970345</td>\n      <td>31.064312</td>\n      <td>32.509998</td>\n      <td>23.142696</td>\n      <td>...</td>\n      <td>10.553507</td>\n      <td>55.883804</td>\n      <td>14.315210</td>\n      <td>20.875732</td>\n      <td>41.749474</td>\n      <td>29.299294</td>\n      <td>25.286951</td>\n      <td>50.191101</td>\n      <td>27.500000</td>\n      <td>21.201899</td>\n    </tr>\n    <tr>\n      <th>2010-09-15</th>\n      <td>19.275530</td>\n      <td>8.399828</td>\n      <td>55.561707</td>\n      <td>8.267811</td>\n      <td>25.678307</td>\n      <td>10.040000</td>\n      <td>19.451303</td>\n      <td>31.950949</td>\n      <td>32.759998</td>\n      <td>22.196320</td>\n      <td>...</td>\n      <td>11.198768</td>\n      <td>59.583954</td>\n      <td>15.799513</td>\n      <td>20.757133</td>\n      <td>41.032509</td>\n      <td>28.552584</td>\n      <td>26.903006</td>\n      <td>46.691769</td>\n      <td>31.700001</td>\n      <td>18.323788</td>\n    </tr>\n    <tr>\n      <th>2010-12-15</th>\n      <td>25.220085</td>\n      <td>9.559399</td>\n      <td>65.665291</td>\n      <td>9.801922</td>\n      <td>27.482336</td>\n      <td>9.220000</td>\n      <td>18.268618</td>\n      <td>37.527168</td>\n      <td>27.719999</td>\n      <td>28.702520</td>\n      <td>...</td>\n      <td>12.537512</td>\n      <td>71.756393</td>\n      <td>16.342747</td>\n      <td>22.616062</td>\n      <td>48.635223</td>\n      <td>31.534311</td>\n      <td>29.058336</td>\n      <td>49.581734</td>\n      <td>38.630001</td>\n      <td>19.391413</td>\n    </tr>\n    <tr>\n      <th>2011-03-15</th>\n      <td>28.719950</td>\n      <td>8.409253</td>\n      <td>63.435417</td>\n      <td>10.568980</td>\n      <td>31.118685</td>\n      <td>13.740000</td>\n      <td>18.258106</td>\n      <td>40.718197</td>\n      <td>33.040001</td>\n      <td>29.222143</td>\n      <td>...</td>\n      <td>17.526907</td>\n      <td>86.308533</td>\n      <td>16.610018</td>\n      <td>25.251810</td>\n      <td>55.383179</td>\n      <td>33.368744</td>\n      <td>30.159559</td>\n      <td>56.017197</td>\n      <td>35.509998</td>\n      <td>19.916029</td>\n    </tr>\n    <tr>\n      <th>2011-06-15</th>\n      <td>31.046650</td>\n      <td>7.758763</td>\n      <td>55.748959</td>\n      <td>9.997436</td>\n      <td>35.143578</td>\n      <td>15.960000</td>\n      <td>19.847197</td>\n      <td>45.472313</td>\n      <td>31.129999</td>\n      <td>28.903385</td>\n      <td>...</td>\n      <td>14.293878</td>\n      <td>93.181389</td>\n      <td>17.130363</td>\n      <td>27.190594</td>\n      <td>53.829094</td>\n      <td>33.865601</td>\n      <td>32.143921</td>\n      <td>57.974613</td>\n      <td>40.740002</td>\n      <td>19.582691</td>\n    </tr>\n    <tr>\n      <th>2011-09-15</th>\n      <td>24.276295</td>\n      <td>5.524466</td>\n      <td>60.887012</td>\n      <td>12.023236</td>\n      <td>33.135494</td>\n      <td>11.850000</td>\n      <td>20.019785</td>\n      <td>43.510948</td>\n      <td>26.120001</td>\n      <td>27.076778</td>\n      <td>...</td>\n      <td>12.623442</td>\n      <td>107.258888</td>\n      <td>17.966824</td>\n      <td>25.792480</td>\n      <td>50.981449</td>\n      <td>32.173832</td>\n      <td>32.062984</td>\n      <td>52.370125</td>\n      <td>32.040001</td>\n      <td>15.317099</td>\n    </tr>\n    <tr>\n      <th>2011-12-15</th>\n      <td>21.923384</td>\n      <td>5.383055</td>\n      <td>65.847656</td>\n      <td>11.594273</td>\n      <td>30.853142</td>\n      <td>19.770000</td>\n      <td>21.621883</td>\n      <td>46.615009</td>\n      <td>26.459999</td>\n      <td>27.035887</td>\n      <td>...</td>\n      <td>12.080142</td>\n      <td>78.470772</td>\n      <td>19.170029</td>\n      <td>25.410080</td>\n      <td>55.456764</td>\n      <td>32.724586</td>\n      <td>34.553699</td>\n      <td>44.078808</td>\n      <td>36.720001</td>\n      <td>13.080435</td>\n    </tr>\n    <tr>\n      <th>2012-03-15</th>\n      <td>30.056978</td>\n      <td>7.145980</td>\n      <td>86.870781</td>\n      <td>17.916140</td>\n      <td>32.785091</td>\n      <td>21.959999</td>\n      <td>23.485102</td>\n      <td>52.843628</td>\n      <td>34.169998</td>\n      <td>31.844351</td>\n      <td>...</td>\n      <td>16.228251</td>\n      <td>96.480072</td>\n      <td>19.331430</td>\n      <td>30.366581</td>\n      <td>59.982555</td>\n      <td>37.448090</td>\n      <td>41.432911</td>\n      <td>58.971786</td>\n      <td>41.279999</td>\n      <td>19.424265</td>\n    </tr>\n    <tr>\n      <th>2012-06-15</th>\n      <td>26.281967</td>\n      <td>11.341178</td>\n      <td>67.926765</td>\n      <td>17.566420</td>\n      <td>32.363552</td>\n      <td>22.150000</td>\n      <td>25.044371</td>\n      <td>49.595051</td>\n      <td>32.389999</td>\n      <td>29.781584</td>\n      <td>...</td>\n      <td>15.333859</td>\n      <td>75.379547</td>\n      <td>21.359831</td>\n      <td>26.979883</td>\n      <td>58.382359</td>\n      <td>35.631622</td>\n      <td>39.405113</td>\n      <td>58.517105</td>\n      <td>32.290001</td>\n      <td>16.422480</td>\n    </tr>\n    <tr>\n      <th>2013-03-15</th>\n      <td>28.470963</td>\n      <td>15.065010</td>\n      <td>77.701530</td>\n      <td>13.774840</td>\n      <td>42.994137</td>\n      <td>17.490000</td>\n      <td>29.065540</td>\n      <td>65.050774</td>\n      <td>41.380001</td>\n      <td>37.576729</td>\n      <td>...</td>\n      <td>22.945105</td>\n      <td>98.623970</td>\n      <td>22.195343</td>\n      <td>32.488224</td>\n      <td>63.905045</td>\n      <td>40.106857</td>\n      <td>43.197838</td>\n      <td>69.056236</td>\n      <td>46.270000</td>\n      <td>22.479073</td>\n    </tr>\n    <tr>\n      <th>2014-09-15</th>\n      <td>38.918461</td>\n      <td>35.036018</td>\n      <td>131.332428</td>\n      <td>22.886187</td>\n      <td>69.004211</td>\n      <td>24.670000</td>\n      <td>37.436451</td>\n      <td>70.942757</td>\n      <td>70.269997</td>\n      <td>42.123569</td>\n      <td>...</td>\n      <td>25.865410</td>\n      <td>157.262283</td>\n      <td>25.307777</td>\n      <td>36.772438</td>\n      <td>71.758553</td>\n      <td>44.564594</td>\n      <td>45.455154</td>\n      <td>98.966934</td>\n      <td>73.500000</td>\n      <td>26.117985</td>\n    </tr>\n    <tr>\n      <th>2014-12-15</th>\n      <td>36.419151</td>\n      <td>48.171078</td>\n      <td>157.886459</td>\n      <td>24.478138</td>\n      <td>81.708984</td>\n      <td>36.250000</td>\n      <td>38.287273</td>\n      <td>73.047592</td>\n      <td>73.040001</td>\n      <td>48.091644</td>\n      <td>...</td>\n      <td>28.194323</td>\n      <td>128.110214</td>\n      <td>27.933985</td>\n      <td>38.945145</td>\n      <td>65.228386</td>\n      <td>51.117973</td>\n      <td>45.024040</td>\n      <td>104.656754</td>\n      <td>74.669998</td>\n      <td>23.818527</td>\n    </tr>\n    <tr>\n      <th>2015-06-15</th>\n      <td>37.393044</td>\n      <td>38.121368</td>\n      <td>155.369247</td>\n      <td>28.938877</td>\n      <td>100.222221</td>\n      <td>65.019997</td>\n      <td>42.790550</td>\n      <td>86.371086</td>\n      <td>78.900002</td>\n      <td>58.621830</td>\n      <td>...</td>\n      <td>25.824232</td>\n      <td>92.009949</td>\n      <td>26.982275</td>\n      <td>41.441235</td>\n      <td>63.838108</td>\n      <td>49.629993</td>\n      <td>58.568371</td>\n      <td>106.606201</td>\n      <td>114.260002</td>\n      <td>28.627689</td>\n    </tr>\n    <tr>\n      <th>2015-09-15</th>\n      <td>34.290028</td>\n      <td>40.661041</td>\n      <td>173.619339</td>\n      <td>26.632868</td>\n      <td>95.895615</td>\n      <td>100.290001</td>\n      <td>39.186771</td>\n      <td>88.580162</td>\n      <td>79.529999</td>\n      <td>51.647388</td>\n      <td>...</td>\n      <td>22.310349</td>\n      <td>63.286297</td>\n      <td>28.032585</td>\n      <td>38.901268</td>\n      <td>56.076969</td>\n      <td>52.225506</td>\n      <td>53.354053</td>\n      <td>95.436760</td>\n      <td>83.029999</td>\n      <td>25.674809</td>\n    </tr>\n    <tr>\n      <th>2015-12-15</th>\n      <td>38.822624</td>\n      <td>40.710503</td>\n      <td>153.369156</td>\n      <td>25.415049</td>\n      <td>92.700745</td>\n      <td>84.430000</td>\n      <td>41.015736</td>\n      <td>97.260223</td>\n      <td>94.019997</td>\n      <td>50.424660</td>\n      <td>...</td>\n      <td>24.800510</td>\n      <td>59.813263</td>\n      <td>30.115343</td>\n      <td>43.511116</td>\n      <td>61.666523</td>\n      <td>57.677177</td>\n      <td>47.314625</td>\n      <td>96.702599</td>\n      <td>70.000000</td>\n      <td>24.975492</td>\n    </tr>\n    <tr>\n      <th>2016-03-15</th>\n      <td>36.524960</td>\n      <td>40.352039</td>\n      <td>155.798431</td>\n      <td>24.186163</td>\n      <td>78.978142</td>\n      <td>87.339996</td>\n      <td>36.123180</td>\n      <td>97.579208</td>\n      <td>86.830002</td>\n      <td>50.444042</td>\n      <td>...</td>\n      <td>24.444054</td>\n      <td>75.884224</td>\n      <td>34.893242</td>\n      <td>42.978844</td>\n      <td>64.881981</td>\n      <td>58.672268</td>\n      <td>51.316086</td>\n      <td>100.027710</td>\n      <td>63.419998</td>\n      <td>22.283026</td>\n    </tr>\n    <tr>\n      <th>2016-06-15</th>\n      <td>42.992474</td>\n      <td>29.301603</td>\n      <td>151.061539</td>\n      <td>22.602293</td>\n      <td>69.978424</td>\n      <td>103.089996</td>\n      <td>34.093983</td>\n      <td>108.078423</td>\n      <td>97.019997</td>\n      <td>51.498802</td>\n      <td>...</td>\n      <td>24.159124</td>\n      <td>93.108994</td>\n      <td>36.771236</td>\n      <td>42.968853</td>\n      <td>71.225822</td>\n      <td>61.092800</td>\n      <td>54.633251</td>\n      <td>111.897926</td>\n      <td>55.919998</td>\n      <td>24.214006</td>\n    </tr>\n    <tr>\n      <th>2016-09-15</th>\n      <td>43.585346</td>\n      <td>35.095589</td>\n      <td>146.440475</td>\n      <td>27.036213</td>\n      <td>77.703560</td>\n      <td>123.169998</td>\n      <td>37.685833</td>\n      <td>101.885414</td>\n      <td>99.620003</td>\n      <td>57.108852</td>\n      <td>...</td>\n      <td>25.618149</td>\n      <td>100.097519</td>\n      <td>35.779587</td>\n      <td>49.618046</td>\n      <td>67.785820</td>\n      <td>57.980705</td>\n      <td>58.222370</td>\n      <td>120.282356</td>\n      <td>67.139999</td>\n      <td>27.375715</td>\n    </tr>\n    <tr>\n      <th>2016-12-15</th>\n      <td>44.770588</td>\n      <td>46.673889</td>\n      <td>170.087952</td>\n      <td>27.233803</td>\n      <td>71.083542</td>\n      <td>118.669998</td>\n      <td>35.905540</td>\n      <td>115.804138</td>\n      <td>105.099998</td>\n      <td>67.479736</td>\n      <td>...</td>\n      <td>26.279161</td>\n      <td>84.201363</td>\n      <td>35.219151</td>\n      <td>56.105667</td>\n      <td>73.056046</td>\n      <td>58.414581</td>\n      <td>59.204056</td>\n      <td>99.053368</td>\n      <td>85.199997</td>\n      <td>38.906300</td>\n    </tr>\n    <tr>\n      <th>2017-03-15</th>\n      <td>52.171421</td>\n      <td>40.763432</td>\n      <td>150.466934</td>\n      <td>33.170826</td>\n      <td>83.293587</td>\n      <td>122.970001</td>\n      <td>42.069096</td>\n      <td>116.036591</td>\n      <td>122.110001</td>\n      <td>76.973511</td>\n      <td>...</td>\n      <td>29.356398</td>\n      <td>97.545334</td>\n      <td>39.220795</td>\n      <td>56.556755</td>\n      <td>66.513077</td>\n      <td>61.513256</td>\n      <td>59.571873</td>\n      <td>115.727020</td>\n      <td>90.889999</td>\n      <td>39.909798</td>\n    </tr>\n    <tr>\n      <th>2017-06-15</th>\n      <td>57.240967</td>\n      <td>47.664589</td>\n      <td>129.097366</td>\n      <td>34.215954</td>\n      <td>88.274788</td>\n      <td>142.880005</td>\n      <td>44.941463</td>\n      <td>119.335350</td>\n      <td>137.520004</td>\n      <td>73.923111</td>\n      <td>...</td>\n      <td>29.386448</td>\n      <td>125.342178</td>\n      <td>42.698513</td>\n      <td>61.144909</td>\n      <td>67.354065</td>\n      <td>61.395737</td>\n      <td>67.999435</td>\n      <td>121.955574</td>\n      <td>104.400002</td>\n      <td>38.899845</td>\n    </tr>\n    <tr>\n      <th>2017-09-15</th>\n      <td>63.908520</td>\n      <td>44.736687</td>\n      <td>98.000160</td>\n      <td>38.061756</td>\n      <td>76.630577</td>\n      <td>158.580002</td>\n      <td>48.608551</td>\n      <td>127.151382</td>\n      <td>154.490005</td>\n      <td>78.140434</td>\n      <td>...</td>\n      <td>29.124643</td>\n      <td>134.442673</td>\n      <td>44.360218</td>\n      <td>64.771309</td>\n      <td>66.196365</td>\n      <td>57.624477</td>\n      <td>70.758759</td>\n      <td>112.117172</td>\n      <td>105.820000</td>\n      <td>39.376904</td>\n    </tr>\n    <tr>\n      <th>2017-12-15</th>\n      <td>65.642159</td>\n      <td>49.766453</td>\n      <td>99.234940</td>\n      <td>41.564972</td>\n      <td>87.911934</td>\n      <td>188.710007</td>\n      <td>52.375786</td>\n      <td>144.801834</td>\n      <td>177.509995</td>\n      <td>81.223389</td>\n      <td>...</td>\n      <td>31.929590</td>\n      <td>156.363724</td>\n      <td>45.896732</td>\n      <td>64.752861</td>\n      <td>69.278778</td>\n      <td>64.653244</td>\n      <td>77.680244</td>\n      <td>112.125404</td>\n      <td>101.830002</td>\n      <td>45.660793</td>\n    </tr>\n    <tr>\n      <th>2018-03-15</th>\n      <td>68.288216</td>\n      <td>53.875736</td>\n      <td>115.466606</td>\n      <td>42.857140</td>\n      <td>92.224548</td>\n      <td>294.570007</td>\n      <td>59.349152</td>\n      <td>154.476807</td>\n      <td>218.869995</td>\n      <td>88.474129</td>\n      <td>...</td>\n      <td>32.026154</td>\n      <td>175.903000</td>\n      <td>40.101822</td>\n      <td>72.609695</td>\n      <td>62.729702</td>\n      <td>55.459015</td>\n      <td>78.590088</td>\n      <td>113.012772</td>\n      <td>144.399994</td>\n      <td>50.181717</td>\n    </tr>\n    <tr>\n      <th>2018-06-15</th>\n      <td>64.491005</td>\n      <td>41.864315</td>\n      <td>135.317245</td>\n      <td>45.476349</td>\n      <td>90.240791</td>\n      <td>443.579987</td>\n      <td>59.939728</td>\n      <td>156.433228</td>\n      <td>251.820007</td>\n      <td>96.045784</td>\n      <td>...</td>\n      <td>33.501503</td>\n      <td>164.362686</td>\n      <td>40.166981</td>\n      <td>67.589561</td>\n      <td>68.678642</td>\n      <td>43.840561</td>\n      <td>78.682365</td>\n      <td>110.781570</td>\n      <td>155.960007</td>\n      <td>50.878654</td>\n    </tr>\n    <tr>\n      <th>2019-03-15</th>\n      <td>79.645309</td>\n      <td>31.014191</td>\n      <td>152.938446</td>\n      <td>45.329025</td>\n      <td>77.322113</td>\n      <td>333.230011</td>\n      <td>77.101593</td>\n      <td>160.673004</td>\n      <td>257.089996</td>\n      <td>105.106323</td>\n      <td>...</td>\n      <td>23.992041</td>\n      <td>111.845482</td>\n      <td>53.579346</td>\n      <td>121.006149</td>\n      <td>70.420471</td>\n      <td>48.210464</td>\n      <td>97.339287</td>\n      <td>123.822357</td>\n      <td>211.399994</td>\n      <td>46.055454</td>\n    </tr>\n    <tr>\n      <th>2020-06-15</th>\n      <td>86.348381</td>\n      <td>16.700001</td>\n      <td>136.994263</td>\n      <td>84.856766</td>\n      <td>95.024231</td>\n      <td>246.330002</td>\n      <td>88.226692</td>\n      <td>196.999298</td>\n      <td>401.339996</td>\n      <td>116.870056</td>\n      <td>...</td>\n      <td>21.858566</td>\n      <td>92.000000</td>\n      <td>62.234169</td>\n      <td>90.044930</td>\n      <td>44.385216</td>\n      <td>43.528557</td>\n      <td>90.155502</td>\n      <td>126.245773</td>\n      <td>259.410004</td>\n      <td>35.211124</td>\n    </tr>\n    <tr>\n      <th>2020-09-15</th>\n      <td>99.873344</td>\n      <td>13.140000</td>\n      <td>156.168793</td>\n      <td>115.168915</td>\n      <td>94.115158</td>\n      <td>279.160004</td>\n      <td>105.412682</td>\n      <td>237.712570</td>\n      <td>497.670013</td>\n      <td>115.055550</td>\n      <td>...</td>\n      <td>28.445807</td>\n      <td>82.279999</td>\n      <td>69.429115</td>\n      <td>102.538651</td>\n      <td>34.824158</td>\n      <td>46.085743</td>\n      <td>92.657288</td>\n      <td>143.595261</td>\n      <td>257.459991</td>\n      <td>30.687584</td>\n    </tr>\n    <tr>\n      <th>2020-12-15</th>\n      <td>117.019737</td>\n      <td>17.010000</td>\n      <td>159.373032</td>\n      <td>127.689186</td>\n      <td>98.619980</td>\n      <td>275.359985</td>\n      <td>106.627357</td>\n      <td>245.449036</td>\n      <td>482.640015</td>\n      <td>143.445496</td>\n      <td>...</td>\n      <td>33.389851</td>\n      <td>114.099998</td>\n      <td>65.100273</td>\n      <td>152.110001</td>\n      <td>42.321289</td>\n      <td>53.627113</td>\n      <td>106.867783</td>\n      <td>147.347549</td>\n      <td>383.450012</td>\n      <td>41.334225</td>\n    </tr>\n    <tr>\n      <th>2021-03-15</th>\n      <td>123.851547</td>\n      <td>25.170000</td>\n      <td>181.440369</td>\n      <td>123.989998</td>\n      <td>113.860001</td>\n      <td>307.179993</td>\n      <td>117.667961</td>\n      <td>265.438507</td>\n      <td>447.589996</td>\n      <td>151.000000</td>\n      <td>...</td>\n      <td>36.090000</td>\n      <td>139.800003</td>\n      <td>63.070000</td>\n      <td>128.619995</td>\n      <td>60.389999</td>\n      <td>63.794117</td>\n      <td>107.989998</td>\n      <td>161.224548</td>\n      <td>478.109985</td>\n      <td>57.720001</td>\n    </tr>\n  </tbody>\n</table>\n<p>31 rows × 446 columns</p>\n</div>"
     },
     "metadata": {},
     "execution_count": 178
    }
   ],
   "source": [
    "%%time\n",
    "\n",
    "df_stocks = stock_history['Adj Close'].copy()\n",
    "df_stocks = df_stocks[0:0]\n",
    "df_stocks\n",
    "\n",
    "for index, row in stock_history['Adj Close'].iterrows():\n",
    "    if index.day == 15 and index.month in [3,6,9,12]:\n",
    "        df_stocks = df_stocks.append(row)\n",
    "\n",
    "df_stocks = df_stocks.dropna(axis=1)\n",
    "df_stocks"
   ]
  },
  {
   "cell_type": "code",
   "execution_count": 179,
   "metadata": {},
   "outputs": [],
   "source": [
    "# pickle.dump(df_stocks,open('df_stocks','wb'))"
   ]
  },
  {
   "source": [
    "# Stock Increase Data"
   ],
   "cell_type": "markdown",
   "metadata": {}
  },
  {
   "cell_type": "code",
   "execution_count": 194,
   "metadata": {},
   "outputs": [
    {
     "output_type": "stream",
     "name": "stdout",
     "text": [
      "Wall time: 144 ms\n"
     ]
    },
    {
     "output_type": "execute_result",
     "data": {
      "text/plain": [
       "                   A       AAL       AAP      AAPL       ABC      ABMD  \\\n",
       "Date                                                                     \n",
       "2010-06-15 -0.033323  0.324051  0.240762  0.160159  0.172716 -0.058937   \n",
       "2010-09-15 -0.086646 -0.148184  0.102388  0.040548 -0.065521  0.030801   \n",
       "2010-12-15  0.308399  0.138047  0.181844  0.185552  0.070255 -0.081673   \n",
       "2011-03-15  0.138773 -0.120316 -0.033958  0.078256  0.132316  0.490239   \n",
       "2011-06-15  0.081013 -0.077354 -0.121170 -0.054078  0.129340  0.161572   \n",
       "2011-09-15 -0.218070 -0.287971  0.092164  0.202632 -0.057139 -0.257519   \n",
       "2011-12-15 -0.096922 -0.025597  0.081473 -0.035678 -0.068879  0.668354   \n",
       "2012-03-15  0.371001  0.327495  0.319269  0.545258  0.062618  0.110774   \n",
       "2012-06-15 -0.125595  0.587071 -0.218071 -0.019520 -0.012858  0.008652   \n",
       "2013-03-15  0.083289  0.328346  0.143902 -0.215842  0.328474 -0.210384   \n",
       "2014-09-15  0.366953  1.325655  0.690217  0.661448  0.604968  0.410520   \n",
       "2014-12-15 -0.064219  0.374902  0.202189  0.069559  0.184116  0.469396   \n",
       "2015-06-15  0.026741 -0.208625 -0.015943  0.182234  0.226575  0.793655   \n",
       "2015-09-15 -0.082984  0.066621  0.117463 -0.079686 -0.043170  0.542449   \n",
       "2015-12-15  0.132184  0.001216 -0.116636 -0.045726 -0.033316 -0.158141   \n",
       "2016-03-15 -0.059184 -0.008805  0.015839 -0.048353 -0.148031  0.034466   \n",
       "2016-06-15  0.177071 -0.273851 -0.030404 -0.065487 -0.113952  0.180330   \n",
       "2016-09-15  0.013790  0.197736 -0.030591  0.196171  0.110393  0.194781   \n",
       "2016-12-15  0.027194  0.329908  0.161482  0.007308 -0.085196 -0.036535   \n",
       "2017-03-15  0.165306 -0.126633 -0.115358  0.218002  0.171770  0.036235   \n",
       "2017-06-15  0.097171  0.169298 -0.142022  0.031507  0.059803  0.161909   \n",
       "2017-09-15  0.116482 -0.061427 -0.240882  0.112398 -0.131909  0.109882   \n",
       "2017-12-15  0.027127  0.112430  0.012600  0.092040  0.147217  0.189999   \n",
       "2018-03-15  0.040310  0.082571  0.163568  0.031088  0.049056  0.560967   \n",
       "2018-06-15 -0.055606 -0.222947  0.171917  0.061115 -0.021510  0.505856   \n",
       "2019-03-15  0.234983 -0.259174  0.130221 -0.003240 -0.143158 -0.248771   \n",
       "2020-06-15  0.084162 -0.461537 -0.104252  0.872018  0.228940 -0.260781   \n",
       "2020-09-15  0.156633 -0.213174  0.139966  0.357215 -0.009567  0.133277   \n",
       "2020-12-15  0.171681  0.294521  0.020518  0.108712  0.047865 -0.013612   \n",
       "2021-03-15  0.058382  0.479718  0.138463 -0.028970  0.154533  0.115558   \n",
       "\n",
       "                 ABT       ACN      ADBE       ADI  ...        WY      WYNN  \\\n",
       "Date                                                ...                       \n",
       "2010-06-15 -0.113580 -0.085217 -0.083967  0.057911  ... -0.059472  0.208693   \n",
       "2010-09-15  0.082411  0.028542  0.007690 -0.040893  ...  0.061142  0.066211   \n",
       "2010-12-15 -0.060802  0.174524 -0.153846  0.293121  ...  0.119544  0.204291   \n",
       "2011-03-15 -0.000575  0.085032  0.191919  0.018104  ...  0.397957  0.202799   \n",
       "2011-06-15  0.087035  0.116757 -0.057809 -0.010908  ... -0.184461  0.079631   \n",
       "2011-09-15  0.008696 -0.043133 -0.160938 -0.063197  ... -0.116864  0.151076   \n",
       "2011-12-15  0.080026  0.071340  0.013017 -0.001510  ... -0.043039 -0.268398   \n",
       "2012-03-15  0.086173  0.133618  0.291383  0.177855  ...  0.343382  0.229503   \n",
       "2012-06-15  0.066394 -0.061475 -0.052092 -0.064777  ... -0.055113 -0.218703   \n",
       "2013-03-15  0.160562  0.311638  0.277555  0.261744  ...  0.496369  0.308365   \n",
       "2014-09-15  0.288001  0.090575  0.698163  0.121002  ...  0.127274  0.594565   \n",
       "2014-12-15  0.022727  0.029669  0.039419  0.141680  ...  0.090040 -0.185372   \n",
       "2015-06-15  0.117618  0.182395  0.080230  0.218961  ... -0.084063 -0.281791   \n",
       "2015-09-15 -0.084219  0.025577  0.007985 -0.118973  ... -0.136069 -0.312180   \n",
       "2015-12-15  0.046673  0.097991  0.182195 -0.023675  ...  0.111615 -0.054878   \n",
       "2016-03-15 -0.119285  0.003280 -0.076473  0.000384  ... -0.014373  0.268686   \n",
       "2016-06-15 -0.056174  0.107597  0.117356  0.020910  ... -0.011656  0.226987   \n",
       "2016-09-15  0.105351 -0.057301  0.026799  0.108936  ...  0.060392  0.075057   \n",
       "2016-12-15 -0.047240  0.136612  0.055009  0.181599  ...  0.025803 -0.158807   \n",
       "2017-03-15  0.171660  0.002007  0.161846  0.140691  ...  0.117098  0.158477   \n",
       "2017-06-15  0.068277  0.028429  0.126198 -0.039629  ...  0.001024  0.284963   \n",
       "2017-09-15  0.081597  0.065496  0.123400  0.057050  ... -0.008909  0.072605   \n",
       "2017-12-15  0.077501  0.138814  0.149006  0.039454  ...  0.096308  0.163051   \n",
       "2018-03-15  0.133141  0.066815  0.233001  0.089269  ...  0.003024  0.124960   \n",
       "2018-06-15  0.009951  0.012665  0.150546  0.085580  ...  0.046067 -0.065606   \n",
       "2019-03-15  0.286319  0.027103  0.020928  0.094336  ... -0.283852 -0.319520   \n",
       "2020-06-15  0.144291  0.226088  0.561088  0.111922  ... -0.088924 -0.177437   \n",
       "2020-09-15  0.194794  0.206667  0.240021 -0.015526  ...  0.301357 -0.105652   \n",
       "2020-12-15  0.011523  0.032545 -0.030201  0.246750  ...  0.173806  0.386728   \n",
       "2021-03-15  0.103544  0.081440 -0.072621  0.052665  ...  0.080867  0.225241   \n",
       "\n",
       "                 XEL      XLNX       XOM      XRAY       YUM       ZBH  \\\n",
       "Date                                                                     \n",
       "2010-06-15  0.007222  0.007080 -0.050761 -0.094751  0.157178 -0.066621   \n",
       "2010-09-15  0.103687 -0.005681 -0.017173 -0.025486  0.063909 -0.069720   \n",
       "2010-12-15  0.034383  0.089556  0.185285  0.104429  0.080115  0.061895   \n",
       "2011-03-15  0.016354  0.116543  0.138746  0.058173  0.037897  0.129795   \n",
       "2011-06-15  0.031327  0.076778 -0.028061  0.014890  0.065795  0.034943   \n",
       "2011-09-15  0.048829 -0.051419 -0.052902 -0.049955 -0.002518 -0.096671   \n",
       "2011-12-15  0.066968 -0.014826  0.087783  0.017118  0.077682 -0.158322   \n",
       "2012-03-15  0.008419  0.195060  0.081609  0.144341  0.199088  0.337872   \n",
       "2012-06-15  0.104928 -0.111527 -0.026678 -0.048506 -0.048942 -0.007710   \n",
       "2013-03-15  0.039116  0.204165  0.094595  0.125597  0.096250  0.180103   \n",
       "2014-09-15  0.140229  0.131870  0.122893  0.111147  0.052255  0.433135   \n",
       "2014-12-15  0.103771  0.059085 -0.091002  0.147053 -0.009484  0.057492   \n",
       "2015-06-15 -0.034070  0.064092 -0.021314 -0.029109  0.300824  0.018627   \n",
       "2015-09-15  0.038926 -0.061291 -0.121575  0.052297 -0.089030 -0.104773   \n",
       "2015-12-15  0.074298  0.118501  0.099676  0.104387 -0.113195  0.013264   \n",
       "2016-03-15  0.158653 -0.012233  0.052143  0.017253  0.084571  0.034385   \n",
       "2016-06-15  0.053821 -0.000232  0.097775  0.041255  0.064642  0.118669   \n",
       "2016-09-15 -0.026968  0.154744 -0.048297 -0.050940  0.065695  0.074929   \n",
       "2016-12-15 -0.015664  0.130751  0.077748  0.007483  0.016861 -0.176493   \n",
       "2017-03-15  0.113621  0.008040 -0.089561  0.053046  0.006213  0.168330   \n",
       "2017-06-15  0.088670  0.081125  0.012644 -0.001910  0.141469  0.053821   \n",
       "2017-09-15  0.038917  0.059308 -0.017188 -0.061425  0.040579 -0.080672   \n",
       "2017-12-15  0.034637 -0.000285  0.046565  0.121975  0.097818  0.000073   \n",
       "2018-03-15 -0.126260  0.121336 -0.094532 -0.142208  0.011713  0.007914   \n",
       "2018-06-15  0.001625 -0.069139  0.094835 -0.209496  0.001174 -0.019743   \n",
       "2019-03-15  0.333915  0.790308  0.025362  0.099677  0.237117  0.117716   \n",
       "2020-06-15  0.161533 -0.255865 -0.369711 -0.097114 -0.073801  0.019572   \n",
       "2020-09-15  0.115611  0.138750 -0.215411  0.058747  0.027750  0.137426   \n",
       "2020-12-15 -0.062349  0.483441  0.215285  0.163638  0.153366  0.026131   \n",
       "2021-03-15 -0.031187 -0.154428  0.426941  0.189587  0.010501  0.094179   \n",
       "\n",
       "                ZBRA      ZION  \n",
       "Date                            \n",
       "2010-06-15 -0.085771  0.141652  \n",
       "2010-09-15  0.152727 -0.135748  \n",
       "2010-12-15  0.218612  0.058264  \n",
       "2011-03-15 -0.080766  0.027054  \n",
       "2011-06-15  0.147283 -0.016737  \n",
       "2011-09-15 -0.213549 -0.217825  \n",
       "2011-12-15  0.146067 -0.146024  \n",
       "2012-03-15  0.124183  0.484986  \n",
       "2012-06-15 -0.217781 -0.154538  \n",
       "2013-03-15  0.432951  0.368799  \n",
       "2014-09-15  0.588502  0.161880  \n",
       "2014-12-15  0.015918 -0.088041  \n",
       "2015-06-15  0.530200  0.201908  \n",
       "2015-09-15 -0.273324 -0.103148  \n",
       "2015-12-15 -0.156931 -0.027237  \n",
       "2016-03-15 -0.094000 -0.107804  \n",
       "2016-06-15 -0.118259  0.086657  \n",
       "2016-09-15  0.200644  0.130574  \n",
       "2016-12-15  0.268990  0.421198  \n",
       "2017-03-15  0.066784  0.025793  \n",
       "2017-06-15  0.148641 -0.025306  \n",
       "2017-09-15  0.013602  0.012264  \n",
       "2017-12-15 -0.037706  0.159583  \n",
       "2018-03-15  0.418050  0.099011  \n",
       "2018-06-15  0.080055  0.013888  \n",
       "2019-03-15  0.355476 -0.094798  \n",
       "2020-06-15  0.227105 -0.235462  \n",
       "2020-09-15 -0.007517 -0.128469  \n",
       "2020-12-15  0.489358  0.346936  \n",
       "2021-03-15  0.246864  0.396422  \n",
       "\n",
       "[30 rows x 446 columns]"
      ],
      "text/html": "<div>\n<style scoped>\n    .dataframe tbody tr th:only-of-type {\n        vertical-align: middle;\n    }\n\n    .dataframe tbody tr th {\n        vertical-align: top;\n    }\n\n    .dataframe thead th {\n        text-align: right;\n    }\n</style>\n<table border=\"1\" class=\"dataframe\">\n  <thead>\n    <tr style=\"text-align: right;\">\n      <th></th>\n      <th>A</th>\n      <th>AAL</th>\n      <th>AAP</th>\n      <th>AAPL</th>\n      <th>ABC</th>\n      <th>ABMD</th>\n      <th>ABT</th>\n      <th>ACN</th>\n      <th>ADBE</th>\n      <th>ADI</th>\n      <th>...</th>\n      <th>WY</th>\n      <th>WYNN</th>\n      <th>XEL</th>\n      <th>XLNX</th>\n      <th>XOM</th>\n      <th>XRAY</th>\n      <th>YUM</th>\n      <th>ZBH</th>\n      <th>ZBRA</th>\n      <th>ZION</th>\n    </tr>\n    <tr>\n      <th>Date</th>\n      <th></th>\n      <th></th>\n      <th></th>\n      <th></th>\n      <th></th>\n      <th></th>\n      <th></th>\n      <th></th>\n      <th></th>\n      <th></th>\n      <th></th>\n      <th></th>\n      <th></th>\n      <th></th>\n      <th></th>\n      <th></th>\n      <th></th>\n      <th></th>\n      <th></th>\n      <th></th>\n      <th></th>\n    </tr>\n  </thead>\n  <tbody>\n    <tr>\n      <th>2010-06-15</th>\n      <td>-0.033323</td>\n      <td>0.324051</td>\n      <td>0.240762</td>\n      <td>0.160159</td>\n      <td>0.172716</td>\n      <td>-0.058937</td>\n      <td>-0.113580</td>\n      <td>-0.085217</td>\n      <td>-0.083967</td>\n      <td>0.057911</td>\n      <td>...</td>\n      <td>-0.059472</td>\n      <td>0.208693</td>\n      <td>0.007222</td>\n      <td>0.007080</td>\n      <td>-0.050761</td>\n      <td>-0.094751</td>\n      <td>0.157178</td>\n      <td>-0.066621</td>\n      <td>-0.085771</td>\n      <td>0.141652</td>\n    </tr>\n    <tr>\n      <th>2010-09-15</th>\n      <td>-0.086646</td>\n      <td>-0.148184</td>\n      <td>0.102388</td>\n      <td>0.040548</td>\n      <td>-0.065521</td>\n      <td>0.030801</td>\n      <td>0.082411</td>\n      <td>0.028542</td>\n      <td>0.007690</td>\n      <td>-0.040893</td>\n      <td>...</td>\n      <td>0.061142</td>\n      <td>0.066211</td>\n      <td>0.103687</td>\n      <td>-0.005681</td>\n      <td>-0.017173</td>\n      <td>-0.025486</td>\n      <td>0.063909</td>\n      <td>-0.069720</td>\n      <td>0.152727</td>\n      <td>-0.135748</td>\n    </tr>\n    <tr>\n      <th>2010-12-15</th>\n      <td>0.308399</td>\n      <td>0.138047</td>\n      <td>0.181844</td>\n      <td>0.185552</td>\n      <td>0.070255</td>\n      <td>-0.081673</td>\n      <td>-0.060802</td>\n      <td>0.174524</td>\n      <td>-0.153846</td>\n      <td>0.293121</td>\n      <td>...</td>\n      <td>0.119544</td>\n      <td>0.204291</td>\n      <td>0.034383</td>\n      <td>0.089556</td>\n      <td>0.185285</td>\n      <td>0.104429</td>\n      <td>0.080115</td>\n      <td>0.061895</td>\n      <td>0.218612</td>\n      <td>0.058264</td>\n    </tr>\n    <tr>\n      <th>2011-03-15</th>\n      <td>0.138773</td>\n      <td>-0.120316</td>\n      <td>-0.033958</td>\n      <td>0.078256</td>\n      <td>0.132316</td>\n      <td>0.490239</td>\n      <td>-0.000575</td>\n      <td>0.085032</td>\n      <td>0.191919</td>\n      <td>0.018104</td>\n      <td>...</td>\n      <td>0.397957</td>\n      <td>0.202799</td>\n      <td>0.016354</td>\n      <td>0.116543</td>\n      <td>0.138746</td>\n      <td>0.058173</td>\n      <td>0.037897</td>\n      <td>0.129795</td>\n      <td>-0.080766</td>\n      <td>0.027054</td>\n    </tr>\n    <tr>\n      <th>2011-06-15</th>\n      <td>0.081013</td>\n      <td>-0.077354</td>\n      <td>-0.121170</td>\n      <td>-0.054078</td>\n      <td>0.129340</td>\n      <td>0.161572</td>\n      <td>0.087035</td>\n      <td>0.116757</td>\n      <td>-0.057809</td>\n      <td>-0.010908</td>\n      <td>...</td>\n      <td>-0.184461</td>\n      <td>0.079631</td>\n      <td>0.031327</td>\n      <td>0.076778</td>\n      <td>-0.028061</td>\n      <td>0.014890</td>\n      <td>0.065795</td>\n      <td>0.034943</td>\n      <td>0.147283</td>\n      <td>-0.016737</td>\n    </tr>\n    <tr>\n      <th>2011-09-15</th>\n      <td>-0.218070</td>\n      <td>-0.287971</td>\n      <td>0.092164</td>\n      <td>0.202632</td>\n      <td>-0.057139</td>\n      <td>-0.257519</td>\n      <td>0.008696</td>\n      <td>-0.043133</td>\n      <td>-0.160938</td>\n      <td>-0.063197</td>\n      <td>...</td>\n      <td>-0.116864</td>\n      <td>0.151076</td>\n      <td>0.048829</td>\n      <td>-0.051419</td>\n      <td>-0.052902</td>\n      <td>-0.049955</td>\n      <td>-0.002518</td>\n      <td>-0.096671</td>\n      <td>-0.213549</td>\n      <td>-0.217825</td>\n    </tr>\n    <tr>\n      <th>2011-12-15</th>\n      <td>-0.096922</td>\n      <td>-0.025597</td>\n      <td>0.081473</td>\n      <td>-0.035678</td>\n      <td>-0.068879</td>\n      <td>0.668354</td>\n      <td>0.080026</td>\n      <td>0.071340</td>\n      <td>0.013017</td>\n      <td>-0.001510</td>\n      <td>...</td>\n      <td>-0.043039</td>\n      <td>-0.268398</td>\n      <td>0.066968</td>\n      <td>-0.014826</td>\n      <td>0.087783</td>\n      <td>0.017118</td>\n      <td>0.077682</td>\n      <td>-0.158322</td>\n      <td>0.146067</td>\n      <td>-0.146024</td>\n    </tr>\n    <tr>\n      <th>2012-03-15</th>\n      <td>0.371001</td>\n      <td>0.327495</td>\n      <td>0.319269</td>\n      <td>0.545258</td>\n      <td>0.062618</td>\n      <td>0.110774</td>\n      <td>0.086173</td>\n      <td>0.133618</td>\n      <td>0.291383</td>\n      <td>0.177855</td>\n      <td>...</td>\n      <td>0.343382</td>\n      <td>0.229503</td>\n      <td>0.008419</td>\n      <td>0.195060</td>\n      <td>0.081609</td>\n      <td>0.144341</td>\n      <td>0.199088</td>\n      <td>0.337872</td>\n      <td>0.124183</td>\n      <td>0.484986</td>\n    </tr>\n    <tr>\n      <th>2012-06-15</th>\n      <td>-0.125595</td>\n      <td>0.587071</td>\n      <td>-0.218071</td>\n      <td>-0.019520</td>\n      <td>-0.012858</td>\n      <td>0.008652</td>\n      <td>0.066394</td>\n      <td>-0.061475</td>\n      <td>-0.052092</td>\n      <td>-0.064777</td>\n      <td>...</td>\n      <td>-0.055113</td>\n      <td>-0.218703</td>\n      <td>0.104928</td>\n      <td>-0.111527</td>\n      <td>-0.026678</td>\n      <td>-0.048506</td>\n      <td>-0.048942</td>\n      <td>-0.007710</td>\n      <td>-0.217781</td>\n      <td>-0.154538</td>\n    </tr>\n    <tr>\n      <th>2013-03-15</th>\n      <td>0.083289</td>\n      <td>0.328346</td>\n      <td>0.143902</td>\n      <td>-0.215842</td>\n      <td>0.328474</td>\n      <td>-0.210384</td>\n      <td>0.160562</td>\n      <td>0.311638</td>\n      <td>0.277555</td>\n      <td>0.261744</td>\n      <td>...</td>\n      <td>0.496369</td>\n      <td>0.308365</td>\n      <td>0.039116</td>\n      <td>0.204165</td>\n      <td>0.094595</td>\n      <td>0.125597</td>\n      <td>0.096250</td>\n      <td>0.180103</td>\n      <td>0.432951</td>\n      <td>0.368799</td>\n    </tr>\n    <tr>\n      <th>2014-09-15</th>\n      <td>0.366953</td>\n      <td>1.325655</td>\n      <td>0.690217</td>\n      <td>0.661448</td>\n      <td>0.604968</td>\n      <td>0.410520</td>\n      <td>0.288001</td>\n      <td>0.090575</td>\n      <td>0.698163</td>\n      <td>0.121002</td>\n      <td>...</td>\n      <td>0.127274</td>\n      <td>0.594565</td>\n      <td>0.140229</td>\n      <td>0.131870</td>\n      <td>0.122893</td>\n      <td>0.111147</td>\n      <td>0.052255</td>\n      <td>0.433135</td>\n      <td>0.588502</td>\n      <td>0.161880</td>\n    </tr>\n    <tr>\n      <th>2014-12-15</th>\n      <td>-0.064219</td>\n      <td>0.374902</td>\n      <td>0.202189</td>\n      <td>0.069559</td>\n      <td>0.184116</td>\n      <td>0.469396</td>\n      <td>0.022727</td>\n      <td>0.029669</td>\n      <td>0.039419</td>\n      <td>0.141680</td>\n      <td>...</td>\n      <td>0.090040</td>\n      <td>-0.185372</td>\n      <td>0.103771</td>\n      <td>0.059085</td>\n      <td>-0.091002</td>\n      <td>0.147053</td>\n      <td>-0.009484</td>\n      <td>0.057492</td>\n      <td>0.015918</td>\n      <td>-0.088041</td>\n    </tr>\n    <tr>\n      <th>2015-06-15</th>\n      <td>0.026741</td>\n      <td>-0.208625</td>\n      <td>-0.015943</td>\n      <td>0.182234</td>\n      <td>0.226575</td>\n      <td>0.793655</td>\n      <td>0.117618</td>\n      <td>0.182395</td>\n      <td>0.080230</td>\n      <td>0.218961</td>\n      <td>...</td>\n      <td>-0.084063</td>\n      <td>-0.281791</td>\n      <td>-0.034070</td>\n      <td>0.064092</td>\n      <td>-0.021314</td>\n      <td>-0.029109</td>\n      <td>0.300824</td>\n      <td>0.018627</td>\n      <td>0.530200</td>\n      <td>0.201908</td>\n    </tr>\n    <tr>\n      <th>2015-09-15</th>\n      <td>-0.082984</td>\n      <td>0.066621</td>\n      <td>0.117463</td>\n      <td>-0.079686</td>\n      <td>-0.043170</td>\n      <td>0.542449</td>\n      <td>-0.084219</td>\n      <td>0.025577</td>\n      <td>0.007985</td>\n      <td>-0.118973</td>\n      <td>...</td>\n      <td>-0.136069</td>\n      <td>-0.312180</td>\n      <td>0.038926</td>\n      <td>-0.061291</td>\n      <td>-0.121575</td>\n      <td>0.052297</td>\n      <td>-0.089030</td>\n      <td>-0.104773</td>\n      <td>-0.273324</td>\n      <td>-0.103148</td>\n    </tr>\n    <tr>\n      <th>2015-12-15</th>\n      <td>0.132184</td>\n      <td>0.001216</td>\n      <td>-0.116636</td>\n      <td>-0.045726</td>\n      <td>-0.033316</td>\n      <td>-0.158141</td>\n      <td>0.046673</td>\n      <td>0.097991</td>\n      <td>0.182195</td>\n      <td>-0.023675</td>\n      <td>...</td>\n      <td>0.111615</td>\n      <td>-0.054878</td>\n      <td>0.074298</td>\n      <td>0.118501</td>\n      <td>0.099676</td>\n      <td>0.104387</td>\n      <td>-0.113195</td>\n      <td>0.013264</td>\n      <td>-0.156931</td>\n      <td>-0.027237</td>\n    </tr>\n    <tr>\n      <th>2016-03-15</th>\n      <td>-0.059184</td>\n      <td>-0.008805</td>\n      <td>0.015839</td>\n      <td>-0.048353</td>\n      <td>-0.148031</td>\n      <td>0.034466</td>\n      <td>-0.119285</td>\n      <td>0.003280</td>\n      <td>-0.076473</td>\n      <td>0.000384</td>\n      <td>...</td>\n      <td>-0.014373</td>\n      <td>0.268686</td>\n      <td>0.158653</td>\n      <td>-0.012233</td>\n      <td>0.052143</td>\n      <td>0.017253</td>\n      <td>0.084571</td>\n      <td>0.034385</td>\n      <td>-0.094000</td>\n      <td>-0.107804</td>\n    </tr>\n    <tr>\n      <th>2016-06-15</th>\n      <td>0.177071</td>\n      <td>-0.273851</td>\n      <td>-0.030404</td>\n      <td>-0.065487</td>\n      <td>-0.113952</td>\n      <td>0.180330</td>\n      <td>-0.056174</td>\n      <td>0.107597</td>\n      <td>0.117356</td>\n      <td>0.020910</td>\n      <td>...</td>\n      <td>-0.011656</td>\n      <td>0.226987</td>\n      <td>0.053821</td>\n      <td>-0.000232</td>\n      <td>0.097775</td>\n      <td>0.041255</td>\n      <td>0.064642</td>\n      <td>0.118669</td>\n      <td>-0.118259</td>\n      <td>0.086657</td>\n    </tr>\n    <tr>\n      <th>2016-09-15</th>\n      <td>0.013790</td>\n      <td>0.197736</td>\n      <td>-0.030591</td>\n      <td>0.196171</td>\n      <td>0.110393</td>\n      <td>0.194781</td>\n      <td>0.105351</td>\n      <td>-0.057301</td>\n      <td>0.026799</td>\n      <td>0.108936</td>\n      <td>...</td>\n      <td>0.060392</td>\n      <td>0.075057</td>\n      <td>-0.026968</td>\n      <td>0.154744</td>\n      <td>-0.048297</td>\n      <td>-0.050940</td>\n      <td>0.065695</td>\n      <td>0.074929</td>\n      <td>0.200644</td>\n      <td>0.130574</td>\n    </tr>\n    <tr>\n      <th>2016-12-15</th>\n      <td>0.027194</td>\n      <td>0.329908</td>\n      <td>0.161482</td>\n      <td>0.007308</td>\n      <td>-0.085196</td>\n      <td>-0.036535</td>\n      <td>-0.047240</td>\n      <td>0.136612</td>\n      <td>0.055009</td>\n      <td>0.181599</td>\n      <td>...</td>\n      <td>0.025803</td>\n      <td>-0.158807</td>\n      <td>-0.015664</td>\n      <td>0.130751</td>\n      <td>0.077748</td>\n      <td>0.007483</td>\n      <td>0.016861</td>\n      <td>-0.176493</td>\n      <td>0.268990</td>\n      <td>0.421198</td>\n    </tr>\n    <tr>\n      <th>2017-03-15</th>\n      <td>0.165306</td>\n      <td>-0.126633</td>\n      <td>-0.115358</td>\n      <td>0.218002</td>\n      <td>0.171770</td>\n      <td>0.036235</td>\n      <td>0.171660</td>\n      <td>0.002007</td>\n      <td>0.161846</td>\n      <td>0.140691</td>\n      <td>...</td>\n      <td>0.117098</td>\n      <td>0.158477</td>\n      <td>0.113621</td>\n      <td>0.008040</td>\n      <td>-0.089561</td>\n      <td>0.053046</td>\n      <td>0.006213</td>\n      <td>0.168330</td>\n      <td>0.066784</td>\n      <td>0.025793</td>\n    </tr>\n    <tr>\n      <th>2017-06-15</th>\n      <td>0.097171</td>\n      <td>0.169298</td>\n      <td>-0.142022</td>\n      <td>0.031507</td>\n      <td>0.059803</td>\n      <td>0.161909</td>\n      <td>0.068277</td>\n      <td>0.028429</td>\n      <td>0.126198</td>\n      <td>-0.039629</td>\n      <td>...</td>\n      <td>0.001024</td>\n      <td>0.284963</td>\n      <td>0.088670</td>\n      <td>0.081125</td>\n      <td>0.012644</td>\n      <td>-0.001910</td>\n      <td>0.141469</td>\n      <td>0.053821</td>\n      <td>0.148641</td>\n      <td>-0.025306</td>\n    </tr>\n    <tr>\n      <th>2017-09-15</th>\n      <td>0.116482</td>\n      <td>-0.061427</td>\n      <td>-0.240882</td>\n      <td>0.112398</td>\n      <td>-0.131909</td>\n      <td>0.109882</td>\n      <td>0.081597</td>\n      <td>0.065496</td>\n      <td>0.123400</td>\n      <td>0.057050</td>\n      <td>...</td>\n      <td>-0.008909</td>\n      <td>0.072605</td>\n      <td>0.038917</td>\n      <td>0.059308</td>\n      <td>-0.017188</td>\n      <td>-0.061425</td>\n      <td>0.040579</td>\n      <td>-0.080672</td>\n      <td>0.013602</td>\n      <td>0.012264</td>\n    </tr>\n    <tr>\n      <th>2017-12-15</th>\n      <td>0.027127</td>\n      <td>0.112430</td>\n      <td>0.012600</td>\n      <td>0.092040</td>\n      <td>0.147217</td>\n      <td>0.189999</td>\n      <td>0.077501</td>\n      <td>0.138814</td>\n      <td>0.149006</td>\n      <td>0.039454</td>\n      <td>...</td>\n      <td>0.096308</td>\n      <td>0.163051</td>\n      <td>0.034637</td>\n      <td>-0.000285</td>\n      <td>0.046565</td>\n      <td>0.121975</td>\n      <td>0.097818</td>\n      <td>0.000073</td>\n      <td>-0.037706</td>\n      <td>0.159583</td>\n    </tr>\n    <tr>\n      <th>2018-03-15</th>\n      <td>0.040310</td>\n      <td>0.082571</td>\n      <td>0.163568</td>\n      <td>0.031088</td>\n      <td>0.049056</td>\n      <td>0.560967</td>\n      <td>0.133141</td>\n      <td>0.066815</td>\n      <td>0.233001</td>\n      <td>0.089269</td>\n      <td>...</td>\n      <td>0.003024</td>\n      <td>0.124960</td>\n      <td>-0.126260</td>\n      <td>0.121336</td>\n      <td>-0.094532</td>\n      <td>-0.142208</td>\n      <td>0.011713</td>\n      <td>0.007914</td>\n      <td>0.418050</td>\n      <td>0.099011</td>\n    </tr>\n    <tr>\n      <th>2018-06-15</th>\n      <td>-0.055606</td>\n      <td>-0.222947</td>\n      <td>0.171917</td>\n      <td>0.061115</td>\n      <td>-0.021510</td>\n      <td>0.505856</td>\n      <td>0.009951</td>\n      <td>0.012665</td>\n      <td>0.150546</td>\n      <td>0.085580</td>\n      <td>...</td>\n      <td>0.046067</td>\n      <td>-0.065606</td>\n      <td>0.001625</td>\n      <td>-0.069139</td>\n      <td>0.094835</td>\n      <td>-0.209496</td>\n      <td>0.001174</td>\n      <td>-0.019743</td>\n      <td>0.080055</td>\n      <td>0.013888</td>\n    </tr>\n    <tr>\n      <th>2019-03-15</th>\n      <td>0.234983</td>\n      <td>-0.259174</td>\n      <td>0.130221</td>\n      <td>-0.003240</td>\n      <td>-0.143158</td>\n      <td>-0.248771</td>\n      <td>0.286319</td>\n      <td>0.027103</td>\n      <td>0.020928</td>\n      <td>0.094336</td>\n      <td>...</td>\n      <td>-0.283852</td>\n      <td>-0.319520</td>\n      <td>0.333915</td>\n      <td>0.790308</td>\n      <td>0.025362</td>\n      <td>0.099677</td>\n      <td>0.237117</td>\n      <td>0.117716</td>\n      <td>0.355476</td>\n      <td>-0.094798</td>\n    </tr>\n    <tr>\n      <th>2020-06-15</th>\n      <td>0.084162</td>\n      <td>-0.461537</td>\n      <td>-0.104252</td>\n      <td>0.872018</td>\n      <td>0.228940</td>\n      <td>-0.260781</td>\n      <td>0.144291</td>\n      <td>0.226088</td>\n      <td>0.561088</td>\n      <td>0.111922</td>\n      <td>...</td>\n      <td>-0.088924</td>\n      <td>-0.177437</td>\n      <td>0.161533</td>\n      <td>-0.255865</td>\n      <td>-0.369711</td>\n      <td>-0.097114</td>\n      <td>-0.073801</td>\n      <td>0.019572</td>\n      <td>0.227105</td>\n      <td>-0.235462</td>\n    </tr>\n    <tr>\n      <th>2020-09-15</th>\n      <td>0.156633</td>\n      <td>-0.213174</td>\n      <td>0.139966</td>\n      <td>0.357215</td>\n      <td>-0.009567</td>\n      <td>0.133277</td>\n      <td>0.194794</td>\n      <td>0.206667</td>\n      <td>0.240021</td>\n      <td>-0.015526</td>\n      <td>...</td>\n      <td>0.301357</td>\n      <td>-0.105652</td>\n      <td>0.115611</td>\n      <td>0.138750</td>\n      <td>-0.215411</td>\n      <td>0.058747</td>\n      <td>0.027750</td>\n      <td>0.137426</td>\n      <td>-0.007517</td>\n      <td>-0.128469</td>\n    </tr>\n    <tr>\n      <th>2020-12-15</th>\n      <td>0.171681</td>\n      <td>0.294521</td>\n      <td>0.020518</td>\n      <td>0.108712</td>\n      <td>0.047865</td>\n      <td>-0.013612</td>\n      <td>0.011523</td>\n      <td>0.032545</td>\n      <td>-0.030201</td>\n      <td>0.246750</td>\n      <td>...</td>\n      <td>0.173806</td>\n      <td>0.386728</td>\n      <td>-0.062349</td>\n      <td>0.483441</td>\n      <td>0.215285</td>\n      <td>0.163638</td>\n      <td>0.153366</td>\n      <td>0.026131</td>\n      <td>0.489358</td>\n      <td>0.346936</td>\n    </tr>\n    <tr>\n      <th>2021-03-15</th>\n      <td>0.058382</td>\n      <td>0.479718</td>\n      <td>0.138463</td>\n      <td>-0.028970</td>\n      <td>0.154533</td>\n      <td>0.115558</td>\n      <td>0.103544</td>\n      <td>0.081440</td>\n      <td>-0.072621</td>\n      <td>0.052665</td>\n      <td>...</td>\n      <td>0.080867</td>\n      <td>0.225241</td>\n      <td>-0.031187</td>\n      <td>-0.154428</td>\n      <td>0.426941</td>\n      <td>0.189587</td>\n      <td>0.010501</td>\n      <td>0.094179</td>\n      <td>0.246864</td>\n      <td>0.396422</td>\n    </tr>\n  </tbody>\n</table>\n<p>30 rows × 446 columns</p>\n</div>"
     },
     "metadata": {},
     "execution_count": 194
    }
   ],
   "source": [
    "%%time\n",
    "\n",
    "df_inc = df_stocks.copy()\n",
    "df_inc = df_inc[0:0]\n",
    "df_inc\n",
    "\n",
    "for i in np.arange(len(df_stocks)-1):\n",
    "    new_row = (df_stocks.iloc[i+1]-df_stocks.iloc[i])/df_stocks.iloc[i]\n",
    "    new_row.name = df_stocks.iloc[i+1].name\n",
    "    df_inc = df_inc.append(new_row)\n",
    "\n",
    "df_inc"
   ]
  },
  {
   "cell_type": "code",
   "execution_count": 195,
   "metadata": {},
   "outputs": [],
   "source": [
    "# pickle.dump(df_inc,open('df_inc','wb'))"
   ]
  },
  {
   "cell_type": "code",
   "execution_count": 202,
   "metadata": {},
   "outputs": [],
   "source": [
    "df_inc_boolean = df_inc.copy()\n",
    "df_inc_boolean = df_inc_boolean.applymap(lambda x: x>=.02)"
   ]
  },
  {
   "cell_type": "code",
   "execution_count": 203,
   "metadata": {},
   "outputs": [],
   "source": [
    "# pickle.dump(df_inc_boolean,open('df_inc_boolean','wb'))"
   ]
  }
 ]
}